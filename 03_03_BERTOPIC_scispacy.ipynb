{
 "cells": [
  {
   "cell_type": "code",
   "execution_count": 1,
   "id": "537f15cc",
   "metadata": {},
   "outputs": [
    {
     "name": "stderr",
     "output_type": "stream",
     "text": [
      "2025-06-16 17:50:01.712652: E external/local_xla/xla/stream_executor/cuda/cuda_fft.cc:467] Unable to register cuFFT factory: Attempting to register factory for plugin cuFFT when one has already been registered\n",
      "WARNING: All log messages before absl::InitializeLog() is called are written to STDERR\n",
      "E0000 00:00:1750085401.724194   32556 cuda_dnn.cc:8579] Unable to register cuDNN factory: Attempting to register factory for plugin cuDNN when one has already been registered\n",
      "E0000 00:00:1750085401.727608   32556 cuda_blas.cc:1407] Unable to register cuBLAS factory: Attempting to register factory for plugin cuBLAS when one has already been registered\n",
      "W0000 00:00:1750085401.737952   32556 computation_placer.cc:177] computation placer already registered. Please check linkage and avoid linking the same target more than once.\n",
      "W0000 00:00:1750085401.737969   32556 computation_placer.cc:177] computation placer already registered. Please check linkage and avoid linking the same target more than once.\n",
      "W0000 00:00:1750085401.737970   32556 computation_placer.cc:177] computation placer already registered. Please check linkage and avoid linking the same target more than once.\n",
      "W0000 00:00:1750085401.737971   32556 computation_placer.cc:177] computation placer already registered. Please check linkage and avoid linking the same target more than once.\n",
      "2025-06-16 17:50:01.741731: I tensorflow/core/platform/cpu_feature_guard.cc:210] This TensorFlow binary is optimized to use available CPU instructions in performance-critical operations.\n",
      "To enable the following instructions: AVX2 FMA, in other operations, rebuild TensorFlow with the appropriate compiler flags.\n"
     ]
    }
   ],
   "source": [
    "from tqdm import tqdm\n",
    "import json\n",
    "import pandas as pd\n",
    "from pathlib import Path\n",
    "import numpy as np\n",
    "\n",
    "from bertopic import BERTopic\n",
    "from sentence_transformers import SentenceTransformer"
   ]
  },
  {
   "cell_type": "code",
   "execution_count": 2,
   "id": "a6325f05",
   "metadata": {},
   "outputs": [],
   "source": [
    "split_dir = Path('dataset') / 'scispacy_split'"
   ]
  },
  {
   "cell_type": "code",
   "execution_count": 3,
   "id": "b4742d6e",
   "metadata": {},
   "outputs": [
    {
     "data": {
      "text/plain": [
       "(400, 101, 400, 101, 400, 101)"
      ]
     },
     "execution_count": 3,
     "metadata": {},
     "output_type": "execute_result"
    }
   ],
   "source": [
    "X_train = np.load(split_dir / 'X_train.npy')\n",
    "X_train_sent = np.load(split_dir / 'X_train_sent.npy')\n",
    "X_test = np.load(split_dir / 'X_test.npy')\n",
    "X_test_sent = np.load(split_dir / 'X_test_sent.npy')\n",
    "y_train = np.load(split_dir / 'y_train.npy')\n",
    "y_test = np.load(split_dir / 'y_test.npy')\n",
    "\n",
    "len(X_train), len(X_test), len(y_train), len(y_test), len(X_train_sent), len(X_test_sent)"
   ]
  },
  {
   "cell_type": "code",
   "execution_count": 4,
   "id": "4635582c",
   "metadata": {},
   "outputs": [
    {
     "data": {
      "text/plain": [
       "('I mildly no choice car windy trip weekend opinion carsickness Meclizine',\n",
       " 'I sleeping days stomach’s burning pretzels I hungry acid reflux throat drink water I throat I panic')"
      ]
     },
     "execution_count": 4,
     "metadata": {},
     "output_type": "execute_result"
    }
   ],
   "source": [
    "X_train = [' '.join([w for w in row if w != '<PAD>']) for row in X_train]\n",
    "X_test = [' '.join([w for w in row if w != '<PAD>']) for row in X_test]\n",
    "\n",
    "X_train[0], X_test[0]"
   ]
  },
  {
   "cell_type": "code",
   "execution_count": 5,
   "id": "f77b2724",
   "metadata": {},
   "outputs": [],
   "source": [
    "# sent_transformer = SentenceTransformer('allenai/scibert_scivocab_uncased')\n",
    "sent_transformer = SentenceTransformer('sentence-transformers/all-MiniLM-L6-v2')"
   ]
  },
  {
   "cell_type": "code",
   "execution_count": 6,
   "id": "b9a435cf",
   "metadata": {},
   "outputs": [
    {
     "data": {
      "text/plain": [
       "(['positive', 'neutral', 'positive', 'neutral', 'neutral'],\n",
       " ['neutral', 'negative', 'negative', 'negative', 'negative'])"
      ]
     },
     "execution_count": 6,
     "metadata": {},
     "output_type": "execute_result"
    }
   ],
   "source": [
    "X_train_sent_final = []\n",
    "for row in X_train_sent:\n",
    "    row = float(row)\n",
    "    if row > 0.5:\n",
    "        X_train_sent_final.append('positive')\n",
    "    elif row < -0.5:\n",
    "        X_train_sent_final.append('negative')\n",
    "    else:\n",
    "        X_train_sent_final.append('neutral')\n",
    "\n",
    "X_test_sent_final = []\n",
    "for row in X_test_sent:\n",
    "    row = float(row)\n",
    "    if row > 0.5:\n",
    "        X_test_sent_final.append('positive')\n",
    "    elif row < -0.5:\n",
    "        X_test_sent_final.append('negative')\n",
    "    else:\n",
    "        X_test_sent_final.append('neutral')\n",
    "\n",
    "X_train_sent_final[:5], X_test_sent_final[:5]"
   ]
  },
  {
   "cell_type": "code",
   "execution_count": 7,
   "id": "10f63f44",
   "metadata": {},
   "outputs": [
    {
     "name": "stderr",
     "output_type": "stream",
     "text": [
      "100%|██████████| 400/400 [00:00<00:00, 1703270.66it/s]\n",
      "100%|██████████| 101/101 [00:00<00:00, 1206907.99it/s]\n"
     ]
    },
    {
     "data": {
      "text/plain": [
       "(['I mildly no choice car windy trip weekend opinion carsickness Meclizine positive',\n",
       "  'Ozempic insurance approval I anxious stomach issues people advice I nauseous neutral',\n",
       "  'I month I fruit very hungry I falafel salad nauseas bite dehydration anxiety I chew spit time meal snack swallow dry I guess I eating teacake hard to swallow I strawberry issue swallow freaks burp mucus food throat vomit anxiety eat dehydrated bananas I feel hungry stomach definitely thirsty next feeling nauseas positive',\n",
       "  'cheese boost fridge stomach cramps night anxious worse eating day neutral',\n",
       "  'anti nausea anti emetics success specific Zofran started reglan stomach experience feelings nausea brain neutral'],\n",
       " ['I sleeping days stomach’s burning pretzels I hungry acid reflux throat drink water I throat I panic neutral',\n",
       "  'sore throat stuffy nose screaming phone headache worsen day sore throat cough headache persisted stuffy nose. I graduation I very forgetful graduation I talk TU starved sickness teachers lifetime joy freedom from school day happy I sick I eat restaurant tray I graduation sucked graduation place I graduating terrible I walking standing shoot! sitting worsen diploma water walking stage damn drunk lost fool days sickness I hate nausea perspective Graduation sucked I missed day negative',\n",
       "  'condom broke Day cramps Day migraine nausea Diarrhoea mood swings anxiety Heavier bleeding period sore legs trigger Anxiety anxiety nausea physical symptoms group plan side effects days people weeks anxiety exhausting negative',\n",
       "  'I someone … I therapy years depression anxiety depression never grip anxiety therapist lexapro years anxious I health anxiety hypochondria fear nausea nauseous happy conversation nauseous love nauseous nauseous spiral die die death Throwing fainting hurts weak hurts feelings induce myself anxiety function function school anxious bones shaking I I dog worry bathroom negative',\n",
       "  'I wish I time I eating I I sick I eat negative'])"
      ]
     },
     "execution_count": 7,
     "metadata": {},
     "output_type": "execute_result"
    }
   ],
   "source": [
    "X_train_final = []\n",
    "for i in tqdm(range(len(X_train))):\n",
    "    X_train_final.append(X_train[i] + ' ' + X_train_sent_final[i])\n",
    "\n",
    "X_test_final = []\n",
    "for i in tqdm(range(len(X_test))):\n",
    "    X_test_final.append(X_test[i] + ' ' + X_test_sent_final[i])\n",
    "\n",
    "X_train_final[:5], X_test_final[:5]"
   ]
  },
  {
   "cell_type": "code",
   "execution_count": 8,
   "id": "166c0a67",
   "metadata": {},
   "outputs": [],
   "source": [
    "n_clusters = len(['Question', 'Needing support - Panic attack', 'Rant', 'Potentially Triggering', 'Does Anyone Else...?', 'Needing support: Just not feeling good'])"
   ]
  },
  {
   "cell_type": "code",
   "execution_count": 9,
   "id": "1c96baef",
   "metadata": {},
   "outputs": [
    {
     "name": "stderr",
     "output_type": "stream",
     "text": [
      "2025-06-16 17:50:09,716 - BERTopic - Embedding - Transforming documents to embeddings.\n"
     ]
    },
    {
     "data": {
      "application/vnd.jupyter.widget-view+json": {
       "model_id": "2c78e57dc49f43e885970455bd381a0b",
       "version_major": 2,
       "version_minor": 0
      },
      "text/plain": [
       "Batches:   0%|          | 0/13 [00:00<?, ?it/s]"
      ]
     },
     "metadata": {},
     "output_type": "display_data"
    },
    {
     "name": "stderr",
     "output_type": "stream",
     "text": [
      "2025-06-16 17:50:10,056 - BERTopic - Embedding - Completed ✓\n",
      "2025-06-16 17:50:10,056 - BERTopic - Dimensionality - Fitting the dimensionality reduction algorithm\n",
      "2025-06-16 17:50:17,176 - BERTopic - Dimensionality - Completed ✓\n",
      "2025-06-16 17:50:17,179 - BERTopic - Cluster - Start clustering the reduced embeddings\n",
      "2025-06-16 17:50:17,229 - BERTopic - Cluster - Completed ✓\n",
      "2025-06-16 17:50:17,230 - BERTopic - Representation - Extracting topics using c-TF-IDF for topic reduction.\n",
      "2025-06-16 17:50:17,280 - BERTopic - Representation - Completed ✓\n",
      "2025-06-16 17:50:17,280 - BERTopic - Topic reduction - Reducing number of topics\n",
      "2025-06-16 17:50:17,285 - BERTopic - Representation - Fine-tuning topics using representation models.\n",
      "2025-06-16 17:50:17,307 - BERTopic - Representation - Completed ✓\n",
      "2025-06-16 17:50:17,308 - BERTopic - Topic reduction - Reduced number of topics from 61 to 6\n"
     ]
    }
   ],
   "source": [
    "topic_model = BERTopic(verbose=True, n_gram_range=(1, 2), min_topic_size=2, nr_topics=n_clusters, embedding_model=sent_transformer, calculate_probabilities=True)\n",
    "topics, probs = topic_model.fit_transform(X_train_final)\n",
    "\n"
   ]
  },
  {
   "cell_type": "code",
   "execution_count": 10,
   "id": "0db9d368",
   "metadata": {},
   "outputs": [
    {
     "data": {
      "text/plain": [
       "array([-1,  0,  1,  2,  3,  4])"
      ]
     },
     "execution_count": 10,
     "metadata": {},
     "output_type": "execute_result"
    }
   ],
   "source": [
    "np.unique(topics)"
   ]
  },
  {
   "cell_type": "code",
   "execution_count": 11,
   "id": "5ba75051",
   "metadata": {},
   "outputs": [
    {
     "data": {
      "application/vnd.jupyter.widget-view+json": {
       "model_id": "138dbaed9f684c0b8dd54d337d903bc8",
       "version_major": 2,
       "version_minor": 0
      },
      "text/plain": [
       "Batches:   0%|          | 0/11 [00:00<?, ?it/s]"
      ]
     },
     "metadata": {},
     "output_type": "display_data"
    },
    {
     "name": "stdout",
     "output_type": "stream",
     "text": [
      "Silhouette Score: 0.03456452488899231\n"
     ]
    }
   ],
   "source": [
    "from sklearn.metrics import silhouette_score\n",
    "\n",
    "mask = np.array(topics) != -1 \n",
    "topics_masked = np.array(topics)[mask]\n",
    "X_train_final_masked = np.array(X_train_final)[mask]\n",
    "\n",
    "embeddings = topic_model.embedding_model.embedding_model.encode(X_train_final_masked, show_progress_bar=True, convert_to_numpy=True)\n",
    "silhouette = silhouette_score(embeddings, topics_masked)\n",
    "print(f'Silhouette Score: {silhouette}')"
   ]
  }
 ],
 "metadata": {
  "kernelspec": {
   "display_name": "venv",
   "language": "python",
   "name": "python3"
  },
  "language_info": {
   "codemirror_mode": {
    "name": "ipython",
    "version": 3
   },
   "file_extension": ".py",
   "mimetype": "text/x-python",
   "name": "python",
   "nbconvert_exporter": "python",
   "pygments_lexer": "ipython3",
   "version": "3.12.3"
  }
 },
 "nbformat": 4,
 "nbformat_minor": 5
}
