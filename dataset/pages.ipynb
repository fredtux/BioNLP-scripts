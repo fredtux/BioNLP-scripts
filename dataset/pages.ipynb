{
 "cells": [
  {
   "cell_type": "code",
   "execution_count": 1,
   "id": "1465796c",
   "metadata": {},
   "outputs": [],
   "source": [
    "import requests\n",
    "from tqdm import tqdm\n",
    "import json\n",
    "from time import sleep"
   ]
  },
  {
   "cell_type": "code",
   "execution_count": 2,
   "id": "9245361c",
   "metadata": {},
   "outputs": [],
   "source": [
    "url_base = 'https://www.reddit.com/r/emetophobia/new.json'\n",
    "headers = {'User-Agent': 'Mozilla/5.0 (Macintosh; Intel Mac OS X 10_10_1) AppleWebKit/537.36 (KHTML, like Gecko) Chrome/39.0.2171.95 Safari/537.36'}\n",
    "dld_folder = 'emetophobia_pages'"
   ]
  },
  {
   "cell_type": "code",
   "execution_count": 3,
   "id": "fa9a7710",
   "metadata": {},
   "outputs": [
    {
     "name": "stderr",
     "output_type": "stream",
     "text": [
      "100%|██████████| 40/40 [01:17<00:00,  1.95s/it]\n"
     ]
    },
    {
     "data": {
      "text/plain": [
       "996"
      ]
     },
     "execution_count": 3,
     "metadata": {},
     "output_type": "execute_result"
    }
   ],
   "source": [
    "all_pages = []\n",
    "after = None\n",
    "\n",
    "for page in tqdm(range(0, 40)):\n",
    "    response = requests.get(url_base + ('' if after is None else f'?after={after}'), headers=headers)\n",
    "\n",
    "    if response.status_code != 200:\n",
    "        print(f\"Error {response.status_code} for page {page}\")\n",
    "        break\n",
    "    \n",
    "    json_response = json.loads(response.text)\n",
    "\n",
    "    after = json_response['data']['after']\n",
    "    posts = json_response['data']['children']\n",
    "\n",
    "    all_pages.extend(posts)\n",
    "\n",
    "    with open(f'{dld_folder}/emetophobia_page_{format(page, \"03\")}.json', 'w') as f:\n",
    "        json.dump(posts, f, indent=4)\n",
    "\n",
    "    with open(f'{dld_folder}/emetophobia_response_{format(page, \"03\")}.json', 'w') as f:\n",
    "        json.dump(json_response, f, indent=4)\n",
    "\n",
    "    if page % 20 == 0:\n",
    "        with open(f'{dld_folder}/emetophobia_all_pages.json', 'w') as f:\n",
    "            json.dump(all_pages, f, indent=4)\n",
    "\n",
    "    sleep(1)\n",
    "\n",
    "with open(f'{dld_folder}/emetophobia_all_pages.json', 'w') as f:\n",
    "    json.dump(all_pages, f, indent=4)\n",
    "\n",
    "len(all_pages)"
   ]
  },
  {
   "cell_type": "code",
   "execution_count": null,
   "id": "cf7dbb19",
   "metadata": {},
   "outputs": [],
   "source": [
    "top_pages = []\n",
    "after = None\n",
    "\n",
    "for page in tqdm(range(0, 40)):\n",
    "    response = requests.get(url_base + ('' if after is None else f'?after={after}'), headers=headers)\n",
    "\n",
    "    if response.status_code != 200:\n",
    "        print(f\"Error {response.status_code} for page {page}\")\n",
    "        break\n",
    "    \n",
    "    json_response = json.loads(response.text)\n",
    "\n",
    "    after = json_response['data']['after']\n",
    "    posts = json_response['data']['children']\n",
    "\n",
    "    all_pages.extend(posts)\n",
    "\n",
    "    with open(f'{dld_folder}/emetophobia_page_{format(page, \"03\")}.json', 'w') as f:\n",
    "        json.dump(posts, f, indent=4)\n",
    "\n",
    "    with open(f'{dld_folder}/emetophobia_response_{format(page, \"03\")}.json', 'w') as f:\n",
    "        json.dump(json_response, f, indent=4)\n",
    "\n",
    "    if page % 20 == 0:\n",
    "        with open(f'{dld_folder}/emetophobia_all_pages.json', 'w') as f:\n",
    "            json.dump(all_pages, f, indent=4)\n",
    "\n",
    "    sleep(1)\n",
    "\n",
    "with open(f'{dld_folder}/emetophobia_all_pages.json', 'w') as f:\n",
    "    json.dump(all_pages, f, indent=4)\n",
    "\n",
    "len(all_pages)"
   ]
  }
 ],
 "metadata": {
  "kernelspec": {
   "display_name": "venv",
   "language": "python",
   "name": "python3"
  },
  "language_info": {
   "codemirror_mode": {
    "name": "ipython",
    "version": 3
   },
   "file_extension": ".py",
   "mimetype": "text/x-python",
   "name": "python",
   "nbconvert_exporter": "python",
   "pygments_lexer": "ipython3",
   "version": "3.12.3"
  }
 },
 "nbformat": 4,
 "nbformat_minor": 5
}
