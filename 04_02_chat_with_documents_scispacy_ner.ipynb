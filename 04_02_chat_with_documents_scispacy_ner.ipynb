{
 "cells": [
  {
   "cell_type": "code",
   "execution_count": 1,
   "id": "7c597a2d",
   "metadata": {},
   "outputs": [],
   "source": [
    "from tqdm import tqdm\n",
    "import json\n",
    "from pathlib import Path\n",
    "\n",
    "import spacy\n",
    "import scispacy\n",
    "from scispacy.umls_linking import UmlsEntityLinker"
   ]
  },
  {
   "cell_type": "code",
   "execution_count": 2,
   "id": "d0442341",
   "metadata": {},
   "outputs": [],
   "source": [
    "ner_dir = Path('ner')\n",
    "split_dir = Path('dataset') / 'scispacy_split'"
   ]
  },
  {
   "cell_type": "code",
   "execution_count": 3,
   "id": "e2651e0c",
   "metadata": {},
   "outputs": [
    {
     "data": {
      "text/plain": [
       "986"
      ]
     },
     "execution_count": 3,
     "metadata": {},
     "output_type": "execute_result"
    }
   ],
   "source": [
    "with open(ner_dir / 'emetophobia_posts_ner_scispacy.json', 'r') as f:\n",
    "    all_posts_scispacy = json.load(f)\n",
    "len(all_posts_scispacy)"
   ]
  },
  {
   "cell_type": "code",
   "execution_count": 4,
   "id": "c20fdeff",
   "metadata": {},
   "outputs": [
    {
     "data": {
      "text/plain": [
       "986"
      ]
     },
     "execution_count": 4,
     "metadata": {},
     "output_type": "execute_result"
    }
   ],
   "source": [
    "with open(ner_dir / 'emetophobia_posts_ner_biobert.json', 'r') as f:\n",
    "    all_posts_biobert = json.load(f)\n",
    "len(all_posts_biobert)"
   ]
  },
  {
   "cell_type": "code",
   "execution_count": 5,
   "id": "60a43c53",
   "metadata": {},
   "outputs": [
    {
     "name": "stderr",
     "output_type": "stream",
     "text": [
      "/home/tux/Desktop/Master/An1/Sem2/BioNLP/Proiect/venv/lib/python3.12/site-packages/sklearn/base.py:440: InconsistentVersionWarning: Trying to unpickle estimator TfidfTransformer from version 1.1.2 when using version 1.7.0. This might lead to breaking code or invalid results. Use at your own risk. For more info please refer to:\n",
      "https://scikit-learn.org/stable/model_persistence.html#security-maintainability-limitations\n",
      "  warnings.warn(\n",
      "/home/tux/Desktop/Master/An1/Sem2/BioNLP/Proiect/venv/lib/python3.12/site-packages/sklearn/base.py:440: InconsistentVersionWarning: Trying to unpickle estimator TfidfVectorizer from version 1.1.2 when using version 1.7.0. This might lead to breaking code or invalid results. Use at your own risk. For more info please refer to:\n",
      "https://scikit-learn.org/stable/model_persistence.html#security-maintainability-limitations\n",
      "  warnings.warn(\n"
     ]
    }
   ],
   "source": [
    "linker = UmlsEntityLinker(resolve_abbreviations=True, filter_for_definitions=False)"
   ]
  },
  {
   "cell_type": "code",
   "execution_count": 6,
   "id": "4fe9908a",
   "metadata": {},
   "outputs": [],
   "source": [
    "from langchain.schema import Document\n",
    "from langchain.vectorstores import Chroma\n",
    "from langchain_community import embeddings\n",
    "from langchain.llms import Ollama\n",
    "from langchain.chains import RetrievalQA"
   ]
  },
  {
   "cell_type": "code",
   "execution_count": 7,
   "id": "64b772b1",
   "metadata": {},
   "outputs": [
    {
     "name": "stderr",
     "output_type": "stream",
     "text": [
      "100%|██████████| 986/986 [00:00<00:00, 50167.21it/s]\n"
     ]
    }
   ],
   "source": [
    "docs_no_ner = []\n",
    "docs_scispacy_ner = []\n",
    "docs_biobert_ner = []\n",
    "\n",
    "for i in tqdm(range(len(all_posts_scispacy))):\n",
    "    scispacy_post = all_posts_scispacy[i]\n",
    "    biobert_post = all_posts_biobert[i]\n",
    "\n",
    "    title = scispacy_post['title']\n",
    "    content = scispacy_post['content']\n",
    "    label = scispacy_post['labels']\n",
    "    ents_scispacy = [e for e in scispacy_post['entities'] if e[1] is not None]\n",
    "    ents_biobert = [e for e in biobert_post['entities'] if e[1] is not None]\n",
    "\n",
    "    if len(ents_scispacy) == 0 or len(ents_biobert) == 0:\n",
    "        continue\n",
    "\n",
    "    for i in range(len(ents_scispacy)):\n",
    "        ents_scispacy[i] = f\"Entity: {ents_scispacy[i][0]} Canonical Name: {linker.kb.cui_to_entity[ents_scispacy[i][1]].canonical_name} Definition: {linker.kb.cui_to_entity[ents_scispacy[i][1]].definition}\"\n",
    "    \n",
    "    for i in range(len(ents_biobert)):\n",
    "        ents_biobert[i] = f\"Entity: {ents_biobert[i][0]} Group: {ents_biobert[i][0]}\"\n",
    "    \n",
    "\n",
    "    # docs_no_ner.append(Document(page_content=title + '\\n' + content, metadata={'label': label, 'source': 'no_ner'}))\n",
    "    docs_scispacy_ner.append(Document(page_content=title + '\\n' + content + f\"\\nDictionary\\n\" + \"\\n\".join(ents_scispacy), metadata={'label': label, 'source': 'scispacy'}))\n",
    "    # docs_biobert_ner.append(Document(page_content=title + '\\n' + content + f\"\\nDictionary\\n\" + \"\\n\".join(ents_biobert), metadata={'label': label, 'source': 'biobert'}))\n",
    "\n",
    "# docs_no_ner[0], docs_scispacy_ner[0], docs_biobert_ner[0]"
   ]
  },
  {
   "cell_type": "code",
   "execution_count": 13,
   "id": "8148189e",
   "metadata": {},
   "outputs": [],
   "source": [
    "def process_question(query, docs):\n",
    "    embedding = embeddings.OllamaEmbeddings(model=\"nomic-embed-text\")\n",
    "    vectordb = Chroma.from_documents(docs, embedding)\n",
    "\n",
    "    llm = Ollama(model=\"mistral-nemo\")\n",
    "\n",
    "    qa_chain = RetrievalQA.from_chain_type(\n",
    "        llm=llm,\n",
    "        retriever=vectordb.as_retriever(),\n",
    "        return_source_documents=True\n",
    "    )\n",
    "\n",
    "    return qa_chain(query)\n"
   ]
  },
  {
   "cell_type": "code",
   "execution_count": 9,
   "id": "ba7f4385",
   "metadata": {},
   "outputs": [],
   "source": [
    "query = \"What are the top 5 most common medical or psychological ideas that the documents refer to? Make a numbered list. Respond with just the list, avoid other text.\""
   ]
  },
  {
   "cell_type": "code",
   "execution_count": 14,
   "id": "965637b3",
   "metadata": {},
   "outputs": [
    {
     "name": "stderr",
     "output_type": "stream",
     "text": [
      "/tmp/ipykernel_4280/3856847674.py:5: LangChainDeprecationWarning: The class `Ollama` was deprecated in LangChain 0.3.1 and will be removed in 1.0.0. An updated version of the class exists in the :class:`~langchain-ollama package and should be used instead. To use it run `pip install -U :class:`~langchain-ollama` and import as `from :class:`~langchain_ollama import OllamaLLM``.\n",
      "  llm = Ollama(model=\"mistral-nemo\")\n",
      "/tmp/ipykernel_4280/3856847674.py:13: LangChainDeprecationWarning: The method `Chain.__call__` was deprecated in langchain 0.1.0 and will be removed in 1.0. Use :meth:`~invoke` instead.\n",
      "  return qa_chain(query)\n"
     ]
    },
    {
     "data": {
      "text/plain": [
       "{'query': 'What are the top 5 most common medical or psychological ideas that the documents refer to? Make a numbered list. Respond with just the list, avoid other text.',\n",
       " 'result': '1. Panic Attacks\\n2. Nausea/Vomiting\\n3. PTSD\\n4. Zofran (an antinausea medication)\\n5. Mental Suffering/Distress',\n",
       " 'source_documents': [Document(metadata={'source': 'scispacy', 'label': 'It Happened (TW)'}, page_content='got fp from sushi LMAOOO laughing not to cry\\ngot sushi at this restaurant i ALWAYS go to. like always. nothing ever happened. tonight though … literallt less than 40 minutes passed since i finished eating and my stomach just went: NOPEEEEE and i got d* like FOUR times in a row. i got up from the toilet and had to use it again IMMEDIATELY. then i started g*gging and boom panic attack. yhing is i’m at my bf’s whicj only made the anxiety WORSE. lmao .\\n\\nfelt like i was getting better after an hour but no. started feeling like i was passing out and g*gged again. tu* a little too nothing crazy BUT IT HAPPENED. AND NO PANIC ATTACK FOR IT YAYYYYYYY WHAT THE HELL . \\n\\ni feel like i’mm doing a bit better now, even thought it seems like a bus has run me over. my stomach and intestines have been leaving me alone this past hour phewww. (still on the lookout). maybe i’m only doing better because i took a n* pill … whatever. NOT GONNA LOOK A GIFT HORSE IN THE MOUTH . will update if anything happens again in the meantime YOU CAN DO IT TRUSTTT\\nDictionary\\nEntity: sushi Canonical Name: Sushi Domain Definition: An ~60 amino acid extracellular protein domain that contains a conserved tryptophan and four invariant cysteines (Cys), where Cys 1 and Cys 3 form one disulfide bridge and Cys 2 and Cys 4 form another. The tertiary structure for sushi domains is based on a beta-sandwich, where one face is made up of three beta-strands that are hydrogen-bonded forming a central hydrophobic triple-stranded region and the other face is comprised of two additional beta-strands.\\nEntity: restaurant Canonical Name: Restaurants Definition: An establishment where meals are cooked, sold and served to customers.\\nEntity: ALWAYS Canonical Name: Always (AcknowledgementCondition) Definition: <p>Always send an acknowledgement.</p>\\nEntity: happened Canonical Name: Occur (action) Definition: Come to pass.\\nEntity: minutes Canonical Name: Minute of time Definition: A unit measure of time equal to 60 seconds.\\nEntity: eating Canonical Name: Eating Definition: The consumption of edible substances.\\nEntity: stomach Canonical Name: Stomach Definition: An organ of digestion situated in the left upper quadrant of the abdomen between the termination of the ESOPHAGUS and the beginning of the DUODENUM.\\nEntity: NOPEEEEE Canonical Name: Caffeic Acid Phenethyl Ester Definition: The phenethyl alcohol ester of caffeic acid and a bioactive component of honeybee hive propolis, with antineoplastic, cytoprotective and immunomodulating activities. Upon administration, caffeic acid phenethyl ester (CAPE) inhibits the activation of nuclear transcription factor NF-kappa B and may suppress p70S6K and Akt-driven signaling pathways. In addition, CAPE inhibits PDGF-induced proliferation of vascular smooth muscle cells through the activation of p38 mitogen-activated protein kinase (MAPK) and hypoxia-inducible factor (HIF)-1alpha and subsequent induction of heme oxygenase-1 (HO-1).\\nEntity: FOUR Canonical Name: Four Definition: A natural number greater than 3 and less than 5 and the quantity that it denotes: the sum of three and one.\\nEntity: toilet Canonical Name: Toilet procedure Definition: None\\nEntity: IMMEDIATELY Canonical Name: Stat (do immediately) Definition: Without delay.\\nEntity: started Canonical Name: Started Definition: None\\nEntity: boom panic attack Canonical Name: Panic Attacks Definition: An episode of intense fear accompanied by symptoms such as heart palpitations, sweating and chills or hot flushes, a sensation of dyspnea, chest pain, abdominal distress, depersonalization, fear of going crazy, and fear of dying.\\nEntity: anxiety Canonical Name: Anxiety Definition: Feelings or emotions of dread, apprehension, and impending disaster but not disabling as with ANXIETY DISORDERS.\\nEntity: hour Canonical Name: Hour Definition: A unit measure of time equal to 3,600 seconds or 60 minutes. It is approximately 1/24 of a median day.\\nEntity: no. Canonical Name: amaranth dye Definition: A sulfonic acid-based naphthylazo dye used as a coloring agent for foodstuffs and medicines and as a dye and chemical indicator. It was banned by the FDA in 1976 for use in foods, drugs, and cosmetics. (From Merck Index, 11th ed)\\nEntity: BUT Canonical Name: Butting Definition: None\\nEntity: IT Canonical Name: Intrathecal Route of Drug Administration Definition: Administration of drugs directly into spinal subarachnoid space in the cerebrospinal fluid, at any level of the cerebrospinal axis, including injection into the cerebral ventricles, in order to bypass the blood-brain barrier and achieve local, rapid effects on the meninges or cerebrospinal axis.\\nEntity: NO PANIC ATTACK Canonical Name: Panic Attacks Definition: An episode of intense fear accompanied by symptoms such as heart palpitations, sweating and chills or hot flushes, a sensation of dyspnea, chest pain, abdominal distress, depersonalization, fear of going crazy, and fear of dying.\\nEntity: i’mm Canonical Name: Idiopathic Inflammatory Myopathies Definition: An umbrella term for diseases which have chronic muscle inflammation and weakness of unknown etiology. The types of idiopathic inflammatory myopathy are further defined by either clinicopathologic criteria or by the presence of certain autoantibodies.\\nEntity: bus Canonical Name: busulfan Definition: An alkylating agent having a selective immunosuppressive effect on BONE MARROW. It has been used in the palliative treatment of chronic myeloid leukemia (MYELOID LEUKEMIA, CHRONIC), but although symptomatic relief is provided, no permanent remission is brought about. According to the Fourth Annual Report on Carcinogens (NTP 85-002, 1985), busulfan is listed as a known carcinogen.\\nEntity: stomach Canonical Name: Stomach Definition: An organ of digestion situated in the left upper quadrant of the abdomen between the termination of the ESOPHAGUS and the beginning of the DUODENUM.\\nEntity: intestines Canonical Name: Intestines Definition: The section of the alimentary canal from the STOMACH to the ANAL CANAL. It includes the LARGE INTESTINE and SMALL INTESTINE.\\nEntity: hour Canonical Name: Hour Definition: A unit measure of time equal to 3,600 seconds or 60 minutes. It is approximately 1/24 of a median day.'),\n",
       "  Document(metadata={'label': 'Needing Support - N, V, D etc NO REASSURANCE', 'source': 'scispacy'}, page_content='nauseous this evening (night?), needing distraction ideas\\nhi all!! i’m currently in ocd treatment (along with phobia) which is why there’s no reassurance. my therapist has recommended me to seek out distractions, particularly during the night time. \\n\\ni’ve been n* for a few hours now, and have recently had some d* rounds. logically, i know it’s because what i ate contains trigger foods (can’t handle dairy, had cheese). does anyone have quick/easy distractions? preferably ones i might be able to do without needing to leave my bed? i tend to just do a coloring app and listen to music, but that isn’t quite working tonight. i would read but most of my books are discussing topics that have been triggering me today. i’m open to almost everything at this point😭 \\n\\nhonestly, posting this has also been a distraction! \\nDictionary\\nEntity: ocd Canonical Name: Obsessive-Compulsive Disorder Definition: An anxiety disorder characterized by recurrent, persistent obsessions or compulsions. Obsessions are the intrusive ideas, thoughts, or images that are experienced as senseless or repugnant. Compulsions are repetitive and seemingly purposeful behavior which the individual generally recognizes as senseless and from which the individual does not derive pleasure although it may provide a release from tension.\\nEntity: treatment Canonical Name: therapeutic aspects Definition: Used with diseases for therapeutic interventions except drug therapy, diet therapy, radiotherapy, and surgery, for which specific subheadings exist. The concept is also used for articles and books dealing with multiple therapies.\\nEntity: phobia Canonical Name: Phobic anxiety disorder Definition: Anxiety disorders in which the essential feature is persistent and irrational fear of a specific object, activity, or situation that the individual feels compelled to avoid. The individual recognizes the fear as excessive or unreasonable.\\nEntity: therapist Canonical Name: therapist Definition: None\\nEntity: distractions Canonical Name: Distraction training Definition: None\\nEntity: night time Canonical Name: Night time Definition: The time in every 24 hour period when it is dark.\\nEntity: hours Canonical Name: Hour Definition: A unit measure of time equal to 3,600 seconds or 60 minutes. It is approximately 1/24 of a median day.\\nEntity: ate Canonical Name: Ataxia Telangiectasia Definition: An autosomal recessive inherited disorder characterized by choreoathetosis beginning in childhood, progressive CEREBELLAR ATAXIA; TELANGIECTASIS of CONJUNCTIVA and SKIN; DYSARTHRIA; B- and T-cell immunodeficiency, and RADIOSENSITIVITY to IONIZING RADIATION. Affected individuals are prone to recurrent sinobronchopulmonary infections, lymphoreticular neoplasms, and other malignancies. Serum ALPHA-FETOPROTEINS are usually elevated. (Menkes, Textbook of Child Neurology, 5th ed, p688) The gene for this disorder (ATM) encodes a cell cycle checkpoint protein kinase and has been mapped to chromosome 11 (11q22-q23).\\nEntity: trigger Canonical Name: Precipitating Factors Definition: Factors associated with the definitive onset of a disease, illness, accident, behavioral response, or course of action. Usually one factor is more important or more obviously recognizable than others, if several are involved, and one may often be regarded as \"necessary\". Examples include exposure to specific disease; amount or level of an infectious organism, drug, or noxious agent, etc.\\nEntity: foods Canonical Name: Food Definition: Substances taken in by the body to provide nourishment.\\nEntity: dairy Canonical Name: Produces milk for human food Definition: <p>Milk production</p>\\nEntity: cheese Canonical Name: Cheese Definition: A nutritious food consisting primarily of the curd or the semisolid substance formed when milk coagulates.\\nEntity: music Canonical Name: Music Definition: Sound that expresses emotion through rhythm, melody, and harmony.\\nEntity: books Canonical Name: Books Definition: Non-periodical written or printed works consisting of sheets of pages fastened or bound together within covers.\\nEntity: triggering Canonical Name: Precipitating Factors Definition: Factors associated with the definitive onset of a disease, illness, accident, behavioral response, or course of action. Usually one factor is more important or more obviously recognizable than others, if several are involved, and one may often be regarded as \"necessary\". Examples include exposure to specific disease; amount or level of an infectious organism, drug, or noxious agent, etc.\\nEntity: distraction Canonical Name: Distraction training Definition: None'),\n",
       "  Document(metadata={'label': 'Needing Support - N, V, D etc', 'source': 'scispacy'}, page_content=\"Feeling anxious\\nHi. I have no better way to say this, i had d* today for the first time in years. It wasn't really scary, and i feel okay now but I'm still so scared, because in the past when that happened things usually didn't turn out great for me...I'm scared it'll  get worse, even tho i feel okay right now, aside from severe anxiety. I took a probiotic, some anxiety meds and anti nausea meds (they have a different name in my country). I think it might be the coffee i drank this morning, but i never reacted like this to coffee :(. I freed today to just rest at home and watch my comfort show, i hope everything will be okay...\\nDictionary\\nEntity: Hi Canonical Name: Hawaii Definition: A group of islands in Polynesia, in the north central Pacific Ocean, comprising eight major and 114 minor islands, largely volcanic and coral. Its capital is Honolulu. It was first reached by Polynesians about 500 A.D. It was discovered and named the Sandwich Islands in 1778 by Captain Cook. The islands were united under the rule of King Kamehameha 1795-1819 and requested annexation to the United States in 1893 when a provisional government was set up. Hawaii was established as a territory in 1900 and admitted as a state in 1959. The name is from the Polynesian Owhyhii, place of the gods, with reference to the two volcanoes Mauna Kea and Mauna Loa, regarded as the abode of the gods. (From Webster's New Geographical Dictionary, 1988, p493 & Room, Brewer's Dictionary of Names, 1992, p2330)\\nEntity: years Canonical Name: year Definition: A period of time that it takes for Earth to make a complete revolution around the sun, approximately 365 days; a specific one year period.\\nEntity: scared Canonical Name: Fear (Mental Process) Definition: The affective response to an actual current external danger which subsides with the elimination of the threatening condition.\\nEntity: worse Canonical Name: Worsening pattern Definition: None\\nEntity: okay right Canonical Name: Right Definition: Being or located on or directed toward the side of the body to the east when facing north.\\nEntity: severe Canonical Name: Severe (severity modifier) Definition: Intensely bad or unpleasant in degree, quality or extent.\\nEntity: anxiety Canonical Name: Anxiety Definition: Feelings or emotions of dread, apprehension, and impending disaster but not disabling as with ANXIETY DISORDERS.\\nEntity: probiotic Canonical Name: Probiotics Definition: Live microbial DIETARY SUPPLEMENTS which beneficially affect the host animal by improving its intestinal microbial balance. Antibiotics and other related compounds are not included in this definition. In humans, lactobacilli are commonly used as probiotics, either as single species or in mixed culture with other bacteria. Other genera that have been used are bifidobacteria and streptococci. (J. Nutr. 1995;125:1401-12)\\nEntity: anxiety meds Canonical Name: Anxiety Definition: Feelings or emotions of dread, apprehension, and impending disaster but not disabling as with ANXIETY DISORDERS.\\nEntity: country Canonical Name: Country Definition: A collective generic term that refers here to a wide variety of dependencies, areas of special sovereignty, uninhabited islands, and other entities in addition to the traditional countries or independent states.\\nEntity: coffee Canonical Name: Coffee Definition: A beverage made from ground COFFEA beans (SEEDS) infused in hot water. It generally contains CAFFEINE and THEOPHYLLINE unless it is decaffeinated.\\nEntity: morning Canonical Name: Morning Definition: The time period between dawn and noon.\\nEntity: coffee Canonical Name: Coffee Definition: A beverage made from ground COFFEA beans (SEEDS) infused in hot water. It generally contains CAFFEINE and THEOPHYLLINE unless it is decaffeinated.\\nEntity: home Canonical Name: Home environment Definition: Aspects of peoples' living conditions that may and can impact people's health and/or well-being. These factors may be physical (e.g., housing quality) or social circumstances (e.g., living alone).\\nEntity: comfort Canonical Name: Comfort Definition: A feeling of freedom from constraint or embarrassment; feeling relaxed and natural.\"),\n",
       "  Document(metadata={'label': 'Rant', 'source': 'scispacy'}, page_content=\"i went 5 months without a panic attack and now i've had 4 in a week\\ni'm at the end of my rope. i was really making some amazing progress, more than i ever have (i've been dealing with this for 22 because of a health accident that involved getting sick from a life threatening gi bleed, my emet is from PTSD) \\n\\ni hadn't taken a zofran even since january and was super happy with that, i was feeling more in control these days even HAPPY, and then i got a small panic attack while on some THC edibles and ironically i calmed myself down really fast. but for some reason after that initial panic attack, i've had three more, just spread out in a few days.\\n\\nas i write this, i'm really suffering. it's not just panic attacks, it's severe nausea that jumpstarts them. like, severe as in sitting next to a trashcan level bad. full body tremors. getting hot and cold. and suddenly none of my coping skills that usually help are working (like alcohol wipes, peppermint oil, cbd, relief wristband). the only thing that seems to cut it is zofran but i can't keep taking that because it causes my digestion to slow dramatically in a really bad way\\n\\ndoes anyone have advice on what to do when you're acutely panicking and feeling like you are right on the edge of v'ing? none of the coping skills work (tapping, etc) because i'm too focused on the feeling of being about to v. in that moment it's all i can feel/think about because it feels imminent. so far i haven't yet, but it's debilitating. right now, i can't find solid solutions for this other than zofran which seems to be the silver bullet, but i can't rely on that 24/7. \\n\\ni haven't been suicidal in months and those thoughts are creeping back really bad because i'd rather die than endure any more of this. it feels like more panic attacks are to follow, not less\\nDictionary\\nEntity: progress Canonical Name: status - In progress Definition: None\\nEntity: health accident Canonical Name: Accidents Definition: Unexpected and unintentional events, typically resulting in ACCIDENTAL INJURIES.\\nEntity: life threatening Canonical Name: Life threatening - Event Consequence Definition: None\\nEntity: gi bleed Canonical Name: Gastrointestinal Hemorrhage Definition: Bleeding in any segment of the GASTROINTESTINAL TRACT from ESOPHAGUS to RECTUM.\\nEntity: PTSD Canonical Name: Post-Traumatic Stress Disorder Definition: A class of traumatic stress disorders with symptoms that last more than one month.\\nEntity: zofran Canonical Name: Zofran Definition: None\\nEntity: january Canonical Name: January Definition: The first month of the year in the Gregorian calendar.\\nEntity: control Canonical Name: Control Groups Definition: Groups that serve as a standard for comparison in experimental studies. They are similar in relevant characteristics to the experimental group but do not receive the experimental intervention.\\nEntity: days Canonical Name: day Definition: The time for Earth to make a complete rotation on its axis; ordinarily divided into twenty-four hours, equal to 86 400 seconds. This also refers to a specific day.\\nEntity: HAPPY Canonical Name: Happiness Definition: Highly pleasant emotion characterized by outward manifestations of gratification.\\nEntity: panic attack Canonical Name: Panic Attacks Definition: An episode of intense fear accompanied by symptoms such as heart palpitations, sweating and chills or hot flushes, a sensation of dyspnea, chest pain, abdominal distress, depersonalization, fear of going crazy, and fear of dying.\\nEntity: THC Canonical Name: dronabinol Definition: A psychoactive compound extracted from the resin of Cannabis sativa (marihuana, hashish). The isomer delta-9-tetrahydrocannabinol (THC) is considered the most active form, producing characteristic mood and perceptual changes associated with this compound.\\nEntity: panic attack Canonical Name: Panic Attacks Definition: An episode of intense fear accompanied by symptoms such as heart palpitations, sweating and chills or hot flushes, a sensation of dyspnea, chest pain, abdominal distress, depersonalization, fear of going crazy, and fear of dying.\\nEntity: spread Canonical Name: Spreading (qualifier value) Definition: The act of extending over a wider scope or expanse of space or time.\\nEntity: days Canonical Name: day Definition: The time for Earth to make a complete rotation on its axis; ordinarily divided into twenty-four hours, equal to 86 400 seconds. This also refers to a specific day.\\nEntity: suffering Canonical Name: Mental Suffering Definition: State of severe distress associated with events that threaten the intactness of the person, can be physical, mental, or emotional.\\nEntity: panic attacks Canonical Name: Panic Attacks Definition: An episode of intense fear accompanied by symptoms such as heart palpitations, sweating and chills or hot flushes, a sensation of dyspnea, chest pain, abdominal distress, depersonalization, fear of going crazy, and fear of dying.\\nEntity: severe Canonical Name: Severe (severity modifier) Definition: Intensely bad or unpleasant in degree, quality or extent.\\nEntity: nausea Canonical Name: Nausea Definition: An unpleasant sensation in the stomach usually accompanied by the urge to vomit. Common causes are early pregnancy, sea and motion sickness, emotional stress, intense pain, food poisoning, and various enteroviruses.\\nEntity: severe Canonical Name: Severe (severity modifier) Definition: Intensely bad or unpleasant in degree, quality or extent.\\nEntity: sitting Canonical Name: Sitting position Definition: The state or act of one who sits; the posture of one who occupies a seat.\\nEntity: body tremors Canonical Name: Tremor Definition: Cyclical movement of a body part that can represent either a physiologic process or a manifestation of disease. Intention or action tremor, a common manifestation of CEREBELLAR DISEASES, is aggravated by movement. In contrast, resting tremor is maximal when there is no attempt at voluntary movement, and occurs as a relatively frequent manifestation of PARKINSON DISEASE.\\nEntity: hot Canonical Name: Hot sensation quality Definition: None\\nEntity: cold Canonical Name: Cold Temperature Definition: Having less heat energy than the object against which it is compared; the absence of heat.\\nEntity: coping skills Canonical Name: Coping Skills Definition: Use of conscious or unconscious strategies or mechanisms in adapting to stress.\\nEntity: working Canonical Name: Work Definition: Productive or purposeful activities.\\nEntity: alcohol wipes Canonical Name: ethanol Definition: A clear, colorless liquid rapidly absorbed from the gastrointestinal tract and distributed throughout the body. It has bactericidal activity and is used often as a topical disinfectant. It is widely used as a solvent and preservative in pharmaceutical preparations as well as serving as the primary ingredient in ALCOHOLIC BEVERAGES.\\nEntity: peppermint oil Canonical Name: peppermint oil Definition: The essential oil extracted from the leaves of Mentha x piperita. Peppermint oil is used for its aromatic properties and as a flavoring and to treat illnesses of the digestive and respiratory system as well as pain.\\nEntity: cbd Canonical Name: cannabidiol Definition: Compound isolated from Cannabis sativa extract.\\nEntity: zofran Canonical Name: Zofran Definition: None\\nEntity: digestion Canonical Name: Digestion Definition: The process of breakdown of food for metabolism and use by the body.\\nEntity: advice Canonical Name: Advice Definition: None\\nEntity: coping skills Canonical Name: Coping Skills Definition: Use of conscious or unconscious strategies or mechanisms in adapting to stress.\\nEntity: tapping Canonical Name: Spinal Puncture Definition: An invasive procedure in which a hollow needle is introduced through an intervertebral space in the lower back to access the subarachnoid space in order to sample cerebrospinal fluid or to administer medication.\\nEntity: solid solutions Canonical Name: Solutions Definition: The homogeneous mixtures formed by the mixing of a solid, liquid, or gaseous substance (solute) with a liquid (the solvent), from which the dissolved substances can be recovered by physical processes. (From Grant & Hackh's Chemical Dictionary, 5th ed)\\nEntity: zofran Canonical Name: Zofran Definition: None\\nEntity: silver bullet Canonical Name: Bullet (shape) Definition: A cylindrical shape that is flat at one end and rounded at the other.\\nEntity: suicidal Canonical Name: Feeling suicidal (finding) Definition: Thoughts of taking one's own life.\\nEntity: months Canonical Name: month Definition: One of the 12 divisions of a year as determined by a calendar. It corresponds to the unit of time of approximately to one cycle of the moon's phases, about 30 days or 4 weeks.\\nEntity: thoughts Canonical Name: Thinking, function Definition: Mental activity that is not predominantly perceptual by which one apprehends some aspect of an object or situation based on past learning and experience.\\nEntity: die Canonical Name: Three times daily Definition: Three times per day.\\nEntity: panic attacks Canonical Name: Panic Attacks Definition: An episode of intense fear accompanied by symptoms such as heart palpitations, sweating and chills or hot flushes, a sensation of dyspnea, chest pain, abdominal distress, depersonalization, fear of going crazy, and fear of dying.\")]}"
      ]
     },
     "execution_count": 14,
     "metadata": {},
     "output_type": "execute_result"
    }
   ],
   "source": [
    "process_question(query, docs_scispacy_ner)"
   ]
  }
 ],
 "metadata": {
  "kernelspec": {
   "display_name": "venv",
   "language": "python",
   "name": "python3"
  },
  "language_info": {
   "codemirror_mode": {
    "name": "ipython",
    "version": 3
   },
   "file_extension": ".py",
   "mimetype": "text/x-python",
   "name": "python",
   "nbconvert_exporter": "python",
   "pygments_lexer": "ipython3",
   "version": "3.12.3"
  }
 },
 "nbformat": 4,
 "nbformat_minor": 5
}
