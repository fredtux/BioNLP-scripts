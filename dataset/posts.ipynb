{
 "cells": [
  {
   "cell_type": "code",
   "execution_count": 1,
   "id": "4f4ae1e1",
   "metadata": {},
   "outputs": [],
   "source": [
    "from tqdm import tqdm\n",
    "import json\n",
    "import pandas as pd"
   ]
  },
  {
   "cell_type": "code",
   "execution_count": null,
   "id": "bb324173",
   "metadata": {},
   "outputs": [],
   "source": [
    "headers = {'User-Agent': 'Mozilla/5.0 (Macintosh; Intel Mac OS X 10_10_1) AppleWebKit/537.36 (KHTML, like Gecko) Chrome/39.0.2171.95 Safari/537.36'}\n",
    "pages_folder = 'emetophobia_pages'\n",
    "dld_folder = 'emetophobia_posts'"
   ]
  },
  {
   "cell_type": "code",
   "execution_count": 3,
   "id": "3a0865d3",
   "metadata": {},
   "outputs": [
    {
     "data": {
      "text/plain": [
       "996"
      ]
     },
     "execution_count": 3,
     "metadata": {},
     "output_type": "execute_result"
    }
   ],
   "source": [
    "with open(f'{pages_folder}/emetophobia_all_pages.json', 'r') as f:\n",
    "    all_pages = json.load(f)\n",
    "\n",
    "len(all_pages)"
   ]
  },
  {
   "cell_type": "markdown",
   "id": "4b37e50c",
   "metadata": {},
   "source": [
    "title, content, date, upvote, downvote, labels"
   ]
  },
  {
   "cell_type": "code",
   "execution_count": 4,
   "id": "90a90d5e",
   "metadata": {},
   "outputs": [
    {
     "name": "stderr",
     "output_type": "stream",
     "text": [
      "100%|██████████| 996/996 [00:00<00:00, 569610.96it/s]\n"
     ]
    },
    {
     "data": {
      "text/plain": [
       "996"
      ]
     },
     "execution_count": 4,
     "metadata": {},
     "output_type": "execute_result"
    }
   ],
   "source": [
    "all_posts = []\n",
    "\n",
    "for page in tqdm(all_pages):\n",
    "    data = page['data']\n",
    "    post = {\n",
    "        'title': data['title'],\n",
    "        'content': data['selftext'],\n",
    "        'date': data['created_utc'],\n",
    "        'ups': data['ups'],\n",
    "        'upvote_ratio': data['upvote_ratio'],\n",
    "        'downvotes': int(data['ups'] * (1 - data['upvote_ratio']) / data['upvote_ratio']),\n",
    "        'labels': data['link_flair_richtext'],\n",
    "    }\n",
    "\n",
    "    all_posts.append(post)\n",
    "\n",
    "with open(f'{dld_folder}/emetophobia_all_posts.json', 'w') as f:\n",
    "    json.dump(all_posts, f, indent=4)\n",
    "\n",
    "len(all_posts)"
   ]
  },
  {
   "cell_type": "code",
   "execution_count": 5,
   "id": "d747ffb6",
   "metadata": {},
   "outputs": [
    {
     "data": {
      "text/plain": [
       "('Techniques, tips and tricks', 996)"
      ]
     },
     "execution_count": 5,
     "metadata": {},
     "output_type": "execute_result"
    }
   ],
   "source": [
    "all_todf = all_posts.copy()\n",
    "\n",
    "for post in all_todf:\n",
    "    label = 'None'\n",
    "\n",
    "    for lbl in post['labels']:\n",
    "        if lbl['e'] == 'text' and lbl['t'].strip() != '':\n",
    "            label = lbl['t'].strip()\n",
    "            break\n",
    "\n",
    "    post['labels'] = label\n",
    "\n",
    "all_todf[0]['labels'], len(all_todf)"
   ]
  },
  {
   "cell_type": "code",
   "execution_count": 6,
   "id": "3071c725",
   "metadata": {},
   "outputs": [],
   "source": [
    "df_posts = pd.DataFrame.from_records(all_todf)\n",
    "df_posts['date'] = pd.to_datetime(df_posts['date'], unit='s')"
   ]
  },
  {
   "cell_type": "code",
   "execution_count": 7,
   "id": "5c133b5d",
   "metadata": {},
   "outputs": [],
   "source": [
    "with open(f'{dld_folder}/emetophobia_all_posts_one_label.json', 'w') as f:\n",
    "    json.dump(all_todf, f, indent=4)\n",
    "df_posts.to_excel(f'{dld_folder}/emetophobia_all_posts.xlsx', index=False)"
   ]
  },
  {
   "cell_type": "code",
   "execution_count": 10,
   "id": "05b42792",
   "metadata": {},
   "outputs": [
    {
     "data": {
      "text/plain": [
       "labels\n",
       "Question                                                      199\n",
       "Needing support - Panic attack                                151\n",
       "Rant                                                          135\n",
       "Potentially Triggering                                         85\n",
       "Does Anyone Else...?                                           78\n",
       "Needing support: Just not feeling good                         73\n",
       "Needing Support - In Acute Crisis (at risk of self injury)     45\n",
       "Venting - Advice wanted                                        42\n",
       "Needing Support - N, V, D etc                                  40\n",
       "Success!                                                       39\n",
       "Needing Support - Anxious about FP                             31\n",
       "Techniques, tips and tricks                                    19\n",
       "None                                                           16\n",
       "It Happened (TW)                                               12\n",
       "Recovery                                                       11\n",
       "Positive Reminder                                               5\n",
       "Needing Support - Non-Emet related                              4\n",
       "Therapy info!                                                   3\n",
       "Interesting info/Articles                                       3\n",
       "Needing Support - N, V, D etc NO REASSURANCE                    3\n",
       "Venting - No advice please                                      1\n",
       "Moderator                                                       1\n",
       "Name: count, dtype: int64"
      ]
     },
     "execution_count": 10,
     "metadata": {},
     "output_type": "execute_result"
    }
   ],
   "source": [
    "df_posts['labels'].value_counts()"
   ]
  },
  {
   "cell_type": "code",
   "execution_count": 13,
   "id": "0cc21933",
   "metadata": {},
   "outputs": [
    {
     "name": "stdout",
     "output_type": "stream",
     "text": [
      "\n",
      "\n",
      "So I’m making this because I want to know if anyone agrees or relates but…. Do any of you guys refuse to use this emoji 🤮or 🤢because you’re scared that it will happen if you use these emojis??? Also when talking for example: say I wanted to go home and was telling my friend and they say “just fake being sick. Pretend you threw up” like I’m not sure why but I feel like if I did this I would jinx something….. idk anybody else relate? \n"
     ]
    }
   ],
   "source": [
    "emoji_post = None\n",
    "for post in all_todf:\n",
    "    if post['title'] == 'Does anybody else??':\n",
    "        print(post['content'])\n",
    "        emoji_post = post['content']\n",
    "        break"
   ]
  },
  {
   "cell_type": "code",
   "execution_count": 14,
   "id": "d7daeadf",
   "metadata": {},
   "outputs": [
    {
     "data": {
      "text/plain": [
       "'\\n\\nSo I’m making this because I want to know if anyone agrees or relates but…. Do any of you guys refuse to use this emoji :face_vomiting:or :nauseated_face:because you’re scared that it will happen if you use these emojis??? Also when talking for example: say I wanted to go home and was telling my friend and they say “just fake being sick. Pretend you threw up” like I’m not sure why but I feel like if I did this I would jinx something….. idk anybody else relate? '"
      ]
     },
     "execution_count": 14,
     "metadata": {},
     "output_type": "execute_result"
    }
   ],
   "source": [
    "import emoji\n",
    "emoji.demojize(emoji_post, language='en')"
   ]
  },
  {
   "cell_type": "code",
   "execution_count": 17,
   "id": "e8dae8d8",
   "metadata": {},
   "outputs": [
    {
     "data": {
      "text/plain": [
       "{'Does Anyone Else...?',\n",
       " 'Interesting info/Articles',\n",
       " 'It Happened (TW)',\n",
       " 'Moderator',\n",
       " 'Needing Support - Anxious about FP',\n",
       " 'Needing Support - In Acute Crisis (at risk of self injury)',\n",
       " 'Needing Support - N, V, D etc',\n",
       " 'Needing Support - N, V, D etc NO REASSURANCE',\n",
       " 'Needing Support - Non-Emet related',\n",
       " 'Needing support - Panic attack',\n",
       " 'Needing support: Just not feeling good',\n",
       " 'None',\n",
       " 'Positive Reminder',\n",
       " 'Potentially Triggering',\n",
       " 'Question',\n",
       " 'Rant',\n",
       " 'Recovery',\n",
       " 'Success!',\n",
       " 'Techniques, tips and tricks',\n",
       " 'Therapy info!',\n",
       " 'Venting - Advice wanted',\n",
       " 'Venting - No advice please'}"
      ]
     },
     "execution_count": 17,
     "metadata": {},
     "output_type": "execute_result"
    }
   ],
   "source": [
    "set(df_posts['labels'].unique())"
   ]
  },
  {
   "cell_type": "code",
   "execution_count": 20,
   "id": "5596893d",
   "metadata": {},
   "outputs": [
    {
     "data": {
      "text/plain": [
       "(148,\n",
       " {'Techniques, tips and tricks': 19,\n",
       "  'Question': 199,\n",
       "  'Needing Support - In Acute Crisis (at risk of self injury)': 45,\n",
       "  'Needing support: Just not feeling good': 73,\n",
       "  'Needing support - Panic attack': 151,\n",
       "  'Venting - Advice wanted': 42,\n",
       "  'Does Anyone Else...?': 78,\n",
       "  'Rant': 135,\n",
       "  'None': 16,\n",
       "  'Potentially Triggering': 85,\n",
       "  'Needing Support - N, V, D etc': 40,\n",
       "  'Therapy info!': 3,\n",
       "  'It Happened (TW)': 12,\n",
       "  'Success!': 39,\n",
       "  'Interesting info/Articles': 3,\n",
       "  'Needing Support - Anxious about FP': 31,\n",
       "  'Positive Reminder': 5,\n",
       "  'Recovery': 11,\n",
       "  'Needing Support - Non-Emet related': 4,\n",
       "  'Venting - No advice please': 1,\n",
       "  'Needing Support - N, V, D etc NO REASSURANCE': 3,\n",
       "  'Moderator': 1})"
      ]
     },
     "execution_count": 20,
     "metadata": {},
     "output_type": "execute_result"
    }
   ],
   "source": [
    "count_emojis = 0\n",
    "\n",
    "labels = {k:0 for k in df_posts['labels'].unique()}\n",
    "\n",
    "for post in all_todf:\n",
    "    demojized = emoji.demojize(post['content'], language='en')\n",
    "    if demojized != post['content']:\n",
    "        count_emojis += 1\n",
    "    labels[post['labels']] += 1\n",
    "\n",
    "count_emojis, labels"
   ]
  }
 ],
 "metadata": {
  "kernelspec": {
   "display_name": "venv",
   "language": "python",
   "name": "python3"
  },
  "language_info": {
   "codemirror_mode": {
    "name": "ipython",
    "version": 3
   },
   "file_extension": ".py",
   "mimetype": "text/x-python",
   "name": "python",
   "nbconvert_exporter": "python",
   "pygments_lexer": "ipython3",
   "version": "3.12.3"
  }
 },
 "nbformat": 4,
 "nbformat_minor": 5
}
