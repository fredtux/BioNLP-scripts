{
 "cells": [
  {
   "cell_type": "code",
   "execution_count": 1,
   "id": "7c597a2d",
   "metadata": {},
   "outputs": [],
   "source": [
    "from tqdm import tqdm\n",
    "import json\n",
    "from pathlib import Path\n",
    "\n",
    "import spacy\n",
    "import scispacy\n",
    "from scispacy.umls_linking import UmlsEntityLinker"
   ]
  },
  {
   "cell_type": "code",
   "execution_count": 2,
   "id": "d0442341",
   "metadata": {},
   "outputs": [],
   "source": [
    "ner_dir = Path('ner')\n",
    "split_dir = Path('dataset') / 'scispacy_split'"
   ]
  },
  {
   "cell_type": "code",
   "execution_count": 3,
   "id": "e2651e0c",
   "metadata": {},
   "outputs": [
    {
     "data": {
      "text/plain": [
       "986"
      ]
     },
     "execution_count": 3,
     "metadata": {},
     "output_type": "execute_result"
    }
   ],
   "source": [
    "with open(ner_dir / 'emetophobia_posts_ner_scispacy.json', 'r') as f:\n",
    "    all_posts_scispacy = json.load(f)\n",
    "len(all_posts_scispacy)"
   ]
  },
  {
   "cell_type": "code",
   "execution_count": 4,
   "id": "c20fdeff",
   "metadata": {},
   "outputs": [
    {
     "data": {
      "text/plain": [
       "986"
      ]
     },
     "execution_count": 4,
     "metadata": {},
     "output_type": "execute_result"
    }
   ],
   "source": [
    "with open(ner_dir / 'emetophobia_posts_ner_biobert.json', 'r') as f:\n",
    "    all_posts_biobert = json.load(f)\n",
    "len(all_posts_biobert)"
   ]
  },
  {
   "cell_type": "code",
   "execution_count": 5,
   "id": "60a43c53",
   "metadata": {},
   "outputs": [
    {
     "name": "stderr",
     "output_type": "stream",
     "text": [
      "/home/tux/Desktop/Master/An1/Sem2/BioNLP/Proiect/venv/lib/python3.12/site-packages/sklearn/base.py:440: InconsistentVersionWarning: Trying to unpickle estimator TfidfTransformer from version 1.1.2 when using version 1.7.0. This might lead to breaking code or invalid results. Use at your own risk. For more info please refer to:\n",
      "https://scikit-learn.org/stable/model_persistence.html#security-maintainability-limitations\n",
      "  warnings.warn(\n",
      "/home/tux/Desktop/Master/An1/Sem2/BioNLP/Proiect/venv/lib/python3.12/site-packages/sklearn/base.py:440: InconsistentVersionWarning: Trying to unpickle estimator TfidfVectorizer from version 1.1.2 when using version 1.7.0. This might lead to breaking code or invalid results. Use at your own risk. For more info please refer to:\n",
      "https://scikit-learn.org/stable/model_persistence.html#security-maintainability-limitations\n",
      "  warnings.warn(\n"
     ]
    }
   ],
   "source": [
    "linker = UmlsEntityLinker(resolve_abbreviations=True, filter_for_definitions=False)"
   ]
  },
  {
   "cell_type": "code",
   "execution_count": 6,
   "id": "4fe9908a",
   "metadata": {},
   "outputs": [],
   "source": [
    "from langchain.schema import Document\n",
    "from langchain.vectorstores import Chroma\n",
    "from langchain_community import embeddings\n",
    "from langchain.llms import Ollama\n",
    "from langchain.chains import RetrievalQA"
   ]
  },
  {
   "cell_type": "code",
   "execution_count": 7,
   "id": "64b772b1",
   "metadata": {},
   "outputs": [
    {
     "name": "stderr",
     "output_type": "stream",
     "text": [
      "100%|██████████| 986/986 [00:00<00:00, 49352.41it/s]\n"
     ]
    }
   ],
   "source": [
    "docs_no_ner = []\n",
    "docs_scispacy_ner = []\n",
    "docs_biobert_ner = []\n",
    "\n",
    "for i in tqdm(range(len(all_posts_scispacy))):\n",
    "    scispacy_post = all_posts_scispacy[i]\n",
    "    biobert_post = all_posts_biobert[i]\n",
    "\n",
    "    title = scispacy_post['title']\n",
    "    content = scispacy_post['content']\n",
    "    label = scispacy_post['labels']\n",
    "    ents_scispacy = [e for e in scispacy_post['entities'] if e[1] is not None]\n",
    "    ents_biobert = [e for e in biobert_post['entities'] if e[1] is not None]\n",
    "\n",
    "    if len(ents_scispacy) == 0 or len(ents_biobert) == 0:\n",
    "        continue\n",
    "\n",
    "    for i in range(len(ents_scispacy)):\n",
    "        ents_scispacy[i] = f\"Entity: {ents_scispacy[i][0]} Canonical Name: {linker.kb.cui_to_entity[ents_scispacy[i][1]].canonical_name} Definition: {linker.kb.cui_to_entity[ents_scispacy[i][1]].definition}\"\n",
    "    \n",
    "    for i in range(len(ents_biobert)):\n",
    "        ents_biobert[i] = f\"Entity: {ents_biobert[i][0]} Group: {ents_biobert[i][0]}\"\n",
    "    \n",
    "\n",
    "    # docs_no_ner.append(Document(page_content=title + '\\n' + content, metadata={'label': label, 'source': 'no_ner'}))\n",
    "    # docs_scispacy_ner.append(Document(page_content=title + '\\n' + content + f\"\\nDictionary\\n\" + \"\\n\".join(ents_scispacy), metadata={'label': label, 'source': 'scispacy'}))\n",
    "    docs_biobert_ner.append(Document(page_content=title + '\\n' + content + f\"\\nDictionary\\n\" + \"\\n\".join(ents_biobert), metadata={'label': label, 'source': 'biobert'}))\n",
    "\n",
    "# docs_no_ner[0], docs_scispacy_ner[0], docs_biobert_ner[0]"
   ]
  },
  {
   "cell_type": "code",
   "execution_count": 8,
   "id": "8148189e",
   "metadata": {},
   "outputs": [],
   "source": [
    "def process_question(query, docs):\n",
    "    embedding = embeddings.OllamaEmbeddings(model=\"nomic-embed-text\")\n",
    "    vectordb = Chroma.from_documents(docs, embedding)\n",
    "\n",
    "    llm = Ollama(model=\"mistral-nemo\")\n",
    "\n",
    "    qa_chain = RetrievalQA.from_chain_type(\n",
    "        llm=llm,\n",
    "        retriever=vectordb.as_retriever(),\n",
    "        return_source_documents=True\n",
    "    )\n",
    "\n",
    "    return qa_chain(query)\n"
   ]
  },
  {
   "cell_type": "code",
   "execution_count": 9,
   "id": "ba7f4385",
   "metadata": {},
   "outputs": [],
   "source": [
    "query = \"What are the top 5 most common medical or psychological ideas that the documents refer to? Make a numbered list. Respond with just the list, avoid other text.\""
   ]
  },
  {
   "cell_type": "code",
   "execution_count": 10,
   "id": "965637b3",
   "metadata": {},
   "outputs": [
    {
     "name": "stderr",
     "output_type": "stream",
     "text": [
      "/tmp/ipykernel_6426/3856847674.py:2: LangChainDeprecationWarning: The class `OllamaEmbeddings` was deprecated in LangChain 0.3.1 and will be removed in 1.0.0. An updated version of the class exists in the :class:`~langchain-ollama package and should be used instead. To use it run `pip install -U :class:`~langchain-ollama` and import as `from :class:`~langchain_ollama import OllamaEmbeddings``.\n",
      "  embedding = embeddings.OllamaEmbeddings(model=\"nomic-embed-text\")\n",
      "/tmp/ipykernel_6426/3856847674.py:5: LangChainDeprecationWarning: The class `Ollama` was deprecated in LangChain 0.3.1 and will be removed in 1.0.0. An updated version of the class exists in the :class:`~langchain-ollama package and should be used instead. To use it run `pip install -U :class:`~langchain-ollama` and import as `from :class:`~langchain_ollama import OllamaLLM``.\n",
      "  llm = Ollama(model=\"mistral-nemo\")\n",
      "/tmp/ipykernel_6426/3856847674.py:13: LangChainDeprecationWarning: The method `Chain.__call__` was deprecated in langchain 0.1.0 and will be removed in 1.0. Use :meth:`~invoke` instead.\n",
      "  return qa_chain(query)\n"
     ]
    },
    {
     "data": {
      "text/plain": [
       "{'query': 'What are the top 5 most common medical or psychological ideas that the documents refer to? Make a numbered list. Respond with just the list, avoid other text.',\n",
       " 'result': '1. Exposure Therapy\\n2. Emetophobia (Fear of Vomiting)\\n3. Panic Attacks\\n4. Reassurance Seeking (Harmful in Context)\\n5. Anxiety Disorder',\n",
       " 'source_documents': [Document(metadata={'label': 'Positive Reminder', 'source': 'biobert'}, page_content='Yes, it is perfectly possible to recover from emetophobia.\\nBeen seeing a couple of \"Is it even possible to recover?\"-posts recently, and I\\'m here to tell you that yes, it is.\\n\\nTenish years ago, I was down to below 80lbs. I was constantly worried about overeating; sometimes, I\\'d struggle eating a whole oreo. I lived off crackers and other snacks, because warm meals were my worst enemy.\\n\\nI couldn\\'t leave the house by myself. Not even to check the mail or take out the trash. I always needed someone with me to calm me down and help me rantionalize in case of a panic attack. Working was completely out of the question. I was on disability for years.\\n\\nI had multiple panic attacks daily, sometimes upwards of ten. They were \"silent\" panic attacks, because on the outside, I just went quiet and pale, I didn\\'t scream, cry, or hyperventilate, but my thoughts and my heart were racing. \\n\\nToday, I eat snacks as well as warm meals with little issue. I ganined about 40 pounds and am a perfectly healthy weight for my height. \\n\\nI leave the house by myself almost every day, recently finished schooling for my dream job and am actively looking for work. \\n\\nI think the last time I had a (pretty mild) emetophobia-related panic attack was a couple of months ago because a weed edible hit me sideways and made my anxiety spike. Other than that, I don\\'t remember the last time I had an emetophobia-related panic attack. Not even when actually throwing up, which has happened twice since my recovery. \\n\\nI still get a little anxious when I feel ill, but no more full-blown panic. Just a couple of days ago, I had some stomach pain and mild nausea that worsened when I ate. And the worst thing about that was not being able to eat despite being hungry and the fact that it took me forever to find a comfortable position for sleeping. No panic whatsoever.\\n\\nI promise you, recovery is possible. \\n\\nSee a therapist who specializes in exposure therapy. It\\'s not as scary as it sounds. You don\\'t have to make yourself throw up or touch it in order to do exposure therapy. Any person asking that of you doesn\\'t know what they\\'re doing.\\n\\nIf your anxiety and panic are getting in the way of your day-to-day life, see a psychiatrist and take the medication they prescribe you. Side effects are scary, I know. But there are a few anti-depressants and anti-anxiety medications that don\\'t have a very high chance of making you sick, or are even used to treat nausea, such as Mirtazapine, Hydroxizine, benzodiazepines like Lorazepam or Alprazolam, or medical marijuana. \\n\\nTell your doctor about your fear regarding being sick and ask them to consider it when deciding what to prescribe you. \\n\\nThere is a light at the end of the tunnel. I promise.\\n\\nNever give up. &lt;3\\nDictionary\\nEntity: ##ish Group: ##ish\\nEntity: below 80lb Group: below 80lb\\nEntity: meals Group: meals\\nEntity: multiple Group: multiple\\nEntity: panic Group: panic\\nEntity: eat snacks Group: eat snacks\\nEntity: meals Group: meals\\nEntity: pounds Group: pounds\\nEntity: leave Group: leave\\nEntity: by Group: by\\nEntity: every day Group: every day\\nEntity: job Group: job\\nEntity: em Group: em\\nEntity: panic Group: panic\\nEntity: of months Group: of months\\nEntity: anxious Group: anxious\\nEntity: pain Group: pain\\nEntity: nausea Group: nausea\\nEntity: eat Group: eat\\nEntity: up Group: up\\nEntity: anxiety Group: anxiety\\nEntity: panic Group: panic'),\n",
       "  Document(metadata={'source': 'biobert', 'label': 'Moderator'}, page_content='🚫 Reassurance Posts Are Now Banned – Here\\'s Why\\nAs you all know, a couple months ago we created a poll to give everyone a space to state their opinion on if reassurance should be banned in this sub. After carefully considering everyone\\'s responses/comments, as well as having a long discussion within the mod team, we came to a decision. As part of our ongoing effort to make this subreddit a healthier place for those with *emetophobia*, ***we are implementing a ban on reassurance-seeking posts.***\\xa0\\n\\nAs all of the moderators of the sub also have suffered with emetophobia, we understand how hard it can be. This phobia is very overwhelming and can make you feel isolated. It is understandable to turn to reassurance to try and lessen the anxiety, but *this can do more harm than good.*\\n\\nReassurance-seeking posts make up a majority of the posts on here and often flood the subreddit, making it harder for those sharing recovery wins, helpful advice, or resources to be seen. We want to keep the focus of our community on support, education, and empowerment!\\n\\nPlease understand that this decision **is not being made to force people into recovery.** As with many of the decisions we have implemented over the past year or two, this decision is similarly being made for **harm reduction.** If you do not want to recover, that is okay! This sub is not focused solely on recovery. But even if you do not want to recover, we do not feel comfortable letting an environment that makes things ***worse*** continue on.\\xa0\\n\\nMany people have messaged the mod team directly or expressed in comments that this sub has made their phobia worse. The studies behind OCD and phobias show that reassurance *is* harmful. For a sub that is supposed to be about support and helping each other, it feels imperative to us that we take this necessary step in making this sub a safer place for that support.\\n\\n# 🚫Why Reassurance Is Harmful/Examples:\\xa0\\n\\n**Reassurance reinforces your anxiety and the phobia itself**: By asking others things such as, “Do you think I’ll be sick?” or “I ate this, am I okay?” the brain is learning that the fear is valid and needs to be followed up on right away (a common trend seen in OCD). This may make your anxiety feel good in the moment, but it hinders you in the long-term.\\n\\n**Reassurance only may make you feel good in the moment**: Seeing out reassurance is only a temporary crutch to lessen the anxiety. This stops people from creating their own healthy coping mechanisms. Uncertainty is a fundamental part of emetophobia and *your personal recovery*.\\n\\n**It can hinder long term progress** ***for those who want to*** **recover**: Posts such as describing symptoms, asking for diagnoses by non-medical professionals, or obsessing over contamination have been found to slow down long-term progress. By stopping reassurance posts, we’re creating a safer space for everyone.\\n\\n**Examples of reassurance seeking**\\n\\n1. \"Do you think I have food poisoning or is it just anxiety?\"\\n2. \"I ate some chicken earlier and it looked a little pink. Will I be okay?\"\\n3. \"My friend said they were sick yesterday, should I be worried?\"\\n4. \"If my roommate had a stomach bug, but I didn’t touch anything, am I safe?\"\\n5. \"My stomach feels off. Does this mean I’m going to throw up?\"\\n6. \"I left my sandwich out for a couple hours, do you think it’s still okay to eat?\"\\n7. \"I haven’t thrown up in years, so I probably won’t, right?\"\\n8. \"This yogurt was a week past the expiration date, but it tasted fine. Will I get sick?\"\\n\\n**Examples of giving reassurance**\\n\\n1. \"You’re okay. This is just anxiety, it’s not going to make you throw up.\"\\n2. \"Food poisoning symptoms usually don’t start within \\\\_\\\\_ hours, so it’s unlikely.\"\\n3. \"You’ve made it through countless times without getting sick. This is probably no different.\"\\n4. \"Skip that event, why risk it?\"\\n5. \"Text me every hour and I’ll let you know you’re okay.\"\\n6. \"Most people don’t vomit more than a few times in their whole life. Just focus on that.\"\\n7. \"It’s statistically rare to get a stomach bug, so why even worry?\"\\n8. \"Most nausea doesn’t lead to vomiting, especially when it’s from anxiety.\"\\n\\n\\\\[ Sources: [1,](https://pubmed.ncbi.nlm.nih.gov/22019424/) [2](https://econtent.hogrefe.com/doi/10.1024/1422-4917/a000464?utm), [3](https://www.emetophobia.co.uk/emetophobia-help/significant-others-can-collude-beliefs/) \\\\]\\n\\n# ⚠️ Enforcement Policy\\n\\nWe want to be clear and transparent with everyone about how this rule will be enforced. **We don\\'t want to punish anyone**, this ban is just about promoting a healthier environment and protecting our community. That said, repeated reassurance-seeking despite a warning creates problems for the community, so here are the policies:\\n\\n* **1st Offense**: Post removal + **Warning**\\n* **2nd Offense**: Post removal + **Three-day ban**\\n* **3rd Offense**: Post removal + **Three-week ban**\\n* **4th Offense**: Post removal + **Six-month ban**\\n* **5th+ Offense**: Post removal + **Permanent ban**\\n\\n# ✅ What to Post Instead:\\n\\n* **Sharing a small win** *\"I went out to eat today even though I was anxious.\"*\\n* **Asking for strategies from other users** *\"What helps you cope with nausea without spiraling?\"*\\n* **Venting (without reassurance)** *\"I’m having a rough night and just need someone to talk to.\"*\\n* **Sharing a recovery tool** *CBT tips, ERP steps, or grounding techniques.*\\n* **Joining or creating your our weekly thread** For example, threads about progress, treatment, and support!\\n\\n# 📚 Helpful Resources\\n\\nIf you\\'re looking to better understand why reassurance-seeking is harmful to us emetophobes, anxiety in general, or how to recover from *this phobia*, here are some reliable and scientifically backed sources:\\n\\n* [**🧠 Reassurance-Seeking and the Anxiety Cycle – Anxiety Canada**](https://www.anxietycanada.com/articles/understanding-reassurance-seeking/)\\n* [**🔄 The Problem with Reassurance – Psychology Tools**\\xa0](https://www.psychologytoday.com/us/blog/demystifying-ocd/202401/understanding-and-managing-compulsive-reassurance-seeking)\\n* [**📘 CBT-Based Guide to Emetophobia – NOCD**](https://www.treatmyocd.com/what-we-treat/emetophobia)\\n* [**🌀 Exposure Therapy for Emetophobia – IOCDF**](https://iocdf.org/expert-opinions/emetophobia/)\\n* [**🎧 The Anxious Truth Podcast – \"Why Reassurance Hurts\"**](https://theanxioustruth.com/2019/09/episode-8/)\\n* **📄**[ **Scientific Paper: \"The Nature and Treatment of Emetophobia\" (Veale &amp; Lambrou, 2006)**](https://www.researchgate.net/publication/228619598_The_Psychopathology_of_Vomit_Phobia)\\n\\nOur DMs are open if you\\'re unsure whether a post might violate this rule. We’re here to help you post in ways that aren’t reassurance based!\\n\\nThank you for helping us grow a community that’s compassionate, safe, and focused on healing.\\n\\n***— The Mod Team 💚***\\nDictionary\\nEntity: couple months ago Group: couple months ago\\nEntity: em Group: em\\nEntity: ph Group: ph\\nEntity: worse Group: worse\\nEntity: ph Group: ph\\nEntity: o Group: o\\nEntity: ##cd Group: ##cd\\nEntity: ph Group: ph\\nEntity: ##ob Group: ##ob\\nEntity: re Group: re\\nEntity: ##urance Group: ##urance\\nEntity: ph Group: ph'),\n",
       "  Document(metadata={'label': 'Techniques, tips and tricks', 'source': 'biobert'}, page_content='Found a miracle cure for my panic attacks!\\n(Side note: I know this post doesn’t mention emetophobia at all, I worded it in a non-specific way because I created this guide to post in several non-emetophobia subs as well as this one! Even though it’s not emetophobia-specific, I am a pretty extreme emetophobe and this has been very helpful for me, so I wanted to share it here. Hope this is helpful to you guys!)\\n\\nI wanted to share a technique that I’ve been using recently that has been extremely effective at stopping my panic attacks. I’ve been struggling with anxiety for as long as I can remember, and this technique has been more effective at ending panic attacks than anything else I’ve tried, aside from benzodiazepines. \\n\\nIt’s just a combination of different things that have helped me, but I somehow never thought to put together until recently! I hope this will help some of you as much as it helped me.\\n\\nStep 1: Awareness\\n\\nThis one is very simple, but super important. Take a moment to simply recognize that you are feeling anxious. I like to either say out loud or in my head “I am feeling anxious.” Now take a slow deep breath, in through the nose, and out through the mouth.\\n\\nStep 2: Grounding\\n\\nThis is probably something you’ve done or at least heard of before. The 5-4-3-2-1 grounding technique! There are a couple slightly different variations of it, but this is my personal favorite!\\n\\nImportant!! Take a slow deep breath in through the nose, hold for a few seconds as you bring your focus to each individual item you are noticing, then exhale.\\n\\nFocus on 5 things you can see\\n\\nWhen I use this technique I find that it’s most effective when I make note of some details about the things I’m sensing. So for this step, I like to find 5 things I can see, but also notice their colors. I also try to make sure each thing is a different color!\\n\\nFocus on 4 things you can feel\\n\\nFor this one, I make note of the texture of all the different items.\\n\\nFocus on 3 things you can hear\\n\\nI like to notice the qualities of the sound for this one. Is it high pitched or low pitched? Quiet or loud? Whatever sticks out to you, simply notice it.\\n\\nFocus on 2 things you can smell\\n\\nWith this step, I almost always have to get up and find something to sniff! It can be a perfume, a candle, or just something you smell in the air around you. Try to think about the specific notes of whatever you smell.\\n\\nFocus on 1 positive thing about your day\\n\\nIt can be something that already happened, or something that you’re looking forward to. It can be as big or as small as you want. Even something as little as finding a new song you like can be something positive to focus on.\\n\\nStep 3: Winding down\\n\\nNow that you’re likely feeling a bit calmer, it’s now time to find something to focus on that will keep your mind away from anxious thoughts as you continue to calm down. I personally like to find things that are both physical and productive. Some examples include: Tidying up my house, vacuuming, putting laundry away, deep cleaning a section of the house, organizing my closet, going for a walk, the list goes on and on. \\n\\nIf it’s the beginning or end of your day you can also do things to get ready for the day/night, such as: brushing your teeth, applying/removing makeup, washing your face, using skincare products, or my personal favorite when dealing with anxiety: A nice, hot shower.\\n\\nI realize I am not the first person to use any of these techniques for anxiety reduction, however using them together has made them significantly more effective in my experience. I love being able to help others manage their anxiety, so please let me know if this works for you!\\n\\nDictionary\\nEntity: emeto Group: emeto\\nEntity: ##eto Group: ##eto\\nEntity: ##phobia Group: ##phobia\\nEntity: emetophobe Group: emetophobe\\nEntity: panic attacks Group: panic attacks\\nEntity: benz Group: benz\\nEntity: ##od Group: ##od\\nEntity: ##ia Group: ##ia\\nEntity: ##ze Group: ##ze\\nEntity: ##pine Group: ##pine\\nEntity: ground Group: ground\\nEntity: high Group: high'),\n",
       "  Document(metadata={'label': 'Needing support - Panic attack', 'source': 'biobert'}, page_content='anxiety and n* vicious cycle\\nidk which one even started first atp but i can’t stop it :( \\ni hate what my mind does to me. sometimes it feels like it will never end. \\nDictionary\\nEntity: id Group: id\\nEntity: sometimes Group: sometimes')]}"
      ]
     },
     "execution_count": 10,
     "metadata": {},
     "output_type": "execute_result"
    }
   ],
   "source": [
    "process_question(query, docs_biobert_ner)"
   ]
  }
 ],
 "metadata": {
  "kernelspec": {
   "display_name": "venv",
   "language": "python",
   "name": "python3"
  },
  "language_info": {
   "codemirror_mode": {
    "name": "ipython",
    "version": 3
   },
   "file_extension": ".py",
   "mimetype": "text/x-python",
   "name": "python",
   "nbconvert_exporter": "python",
   "pygments_lexer": "ipython3",
   "version": "3.12.3"
  }
 },
 "nbformat": 4,
 "nbformat_minor": 5
}
