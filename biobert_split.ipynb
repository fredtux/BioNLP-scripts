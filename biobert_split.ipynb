{
 "cells": [
  {
   "cell_type": "code",
   "execution_count": 1,
   "id": "76364a0e",
   "metadata": {},
   "outputs": [],
   "source": [
    "from tqdm import tqdm\n",
    "import json\n",
    "import pandas as pd\n",
    "from pathlib import Path\n",
    "import numpy as np\n",
    "\n",
    "from sklearn.model_selection import train_test_split"
   ]
  },
  {
   "cell_type": "code",
   "execution_count": 2,
   "id": "810e0e4b",
   "metadata": {},
   "outputs": [],
   "source": [
    "ner_dir = Path('ner')\n",
    "split_dir = Path('dataset') / 'biobert_split'"
   ]
  },
  {
   "cell_type": "code",
   "execution_count": 3,
   "id": "00e4b6eb",
   "metadata": {},
   "outputs": [
    {
     "data": {
      "text/plain": [
       "986"
      ]
     },
     "execution_count": 3,
     "metadata": {},
     "output_type": "execute_result"
    }
   ],
   "source": [
    "with open(ner_dir / 'emetophobia_posts_ner_biobert.json', 'r') as f:\n",
    "    all_posts = json.load(f)\n",
    "len(all_posts)"
   ]
  },
  {
   "cell_type": "code",
   "execution_count": 4,
   "id": "c321f0b6",
   "metadata": {},
   "outputs": [
    {
     "data": {
      "text/plain": [
       "986"
      ]
     },
     "execution_count": 4,
     "metadata": {},
     "output_type": "execute_result"
    }
   ],
   "source": [
    "emotions_dir = Path('sentiments')\n",
    "with open(emotions_dir / 'emetophobia_posts_sent_emoji.json', 'r') as f:\n",
    "    emoji_posts = json.load(f)\n",
    "len(emoji_posts)"
   ]
  },
  {
   "cell_type": "code",
   "execution_count": 5,
   "id": "f6d49da4",
   "metadata": {},
   "outputs": [
    {
     "name": "stderr",
     "output_type": "stream",
     "text": [
      "100%|██████████| 986/986 [00:00<00:00, 773729.42it/s]\n"
     ]
    },
    {
     "data": {
      "text/plain": [
       "(Needing support - Panic attack            113\n",
       " Rant                                       84\n",
       " Question                                   77\n",
       " Potentially Triggering                     57\n",
       " Needing support: Just not feeling good     50\n",
       " Does Anyone Else...?                       42\n",
       " Name: count, dtype: int64,\n",
       " 16.52245862884161,\n",
       " 7.122955373012269,\n",
       " 9,\n",
       " 56)"
      ]
     },
     "execution_count": 5,
     "metadata": {},
     "output_type": "execute_result"
    }
   ],
   "source": [
    "X = []\n",
    "y = []\n",
    "\n",
    "accepted_labels = ['Question', 'Needing support - Panic attack', 'Rant', 'Potentially Triggering', 'Does Anyone Else...?', 'Needing support: Just not feeling good']\n",
    "\n",
    "num_ents = []\n",
    "for i in tqdm(range(len(all_posts))):\n",
    "    post = all_posts[i]\n",
    "    if post['labels'] in accepted_labels and len(post['entities']) > 8:\n",
    "        ent_app = [e[0] for e in post['entities']]\n",
    "        num_ents.append(len(ent_app))\n",
    "        ent_app = ent_app[:128] + ['<PAD>'] * (128 - len(ent_app))\n",
    "\n",
    "        sentiment = emoji_posts[i]['sentiment']['compound']\n",
    "\n",
    "        ent_app.append(sentiment)\n",
    "\n",
    "        X.append(ent_app)\n",
    "        y.append(post['labels'])\n",
    "\n",
    "X = np.array(X)\n",
    "y = np.array(y)\n",
    "\n",
    "label_counts = pd.Series(y).value_counts()\n",
    "num_ents = np.array(num_ents)\n",
    "\n",
    "\n",
    "label_counts, num_ents.mean(), num_ents.std(), num_ents.min(), num_ents.max()"
   ]
  },
  {
   "cell_type": "code",
   "execution_count": 6,
   "id": "2ba571e3",
   "metadata": {},
   "outputs": [
    {
     "data": {
      "text/plain": [
       "(338, 85, 338, 85)"
      ]
     },
     "execution_count": 6,
     "metadata": {},
     "output_type": "execute_result"
    }
   ],
   "source": [
    "X_train, X_test, y_train, y_test = train_test_split(X, y, test_size=0.2, random_state=42, stratify=y)\n",
    "\n",
    "len(X_train), len(X_test), len(y_train), len(y_test)"
   ]
  },
  {
   "cell_type": "code",
   "execution_count": 7,
   "id": "9d031f71",
   "metadata": {},
   "outputs": [
    {
     "data": {
      "text/plain": [
       "(338, 85, 338, 85)"
      ]
     },
     "execution_count": 7,
     "metadata": {},
     "output_type": "execute_result"
    }
   ],
   "source": [
    "X_train_sent = []\n",
    "X_train = X_train.tolist()\n",
    "X_test_sent = []\n",
    "X_test = X_test.tolist()\n",
    "\n",
    "\n",
    "for i in range(len(X_train)):\n",
    "    X_train_sent.append(X_train[i][-1])\n",
    "    X_train[i] = X_train[i][:-1]\n",
    "\n",
    "for i in range(len(X_test)):\n",
    "    X_test_sent.append(X_test[i][-1])\n",
    "    X_test[i] = X_test[i][:-1]\n",
    "\n",
    "X_train = np.array(X_train)\n",
    "X_test = np.array(X_test)\n",
    "X_train_sent = np.array(X_train_sent)\n",
    "X_test_sent = np.array(X_test_sent)\n",
    "\n",
    "len(X_train), len(X_test), len(X_train_sent), len(X_test_sent)"
   ]
  },
  {
   "cell_type": "code",
   "execution_count": 8,
   "id": "3b2b93ed",
   "metadata": {},
   "outputs": [],
   "source": [
    "np.save(split_dir / 'X_train.npy', X_train)\n",
    "np.save(split_dir / 'X_train_sent.npy', X_train_sent)\n",
    "np.save(split_dir / 'X_test.npy', X_test)\n",
    "np.save(split_dir / 'X_test_sent.npy', X_test_sent)\n",
    "np.save(split_dir / 'y_train.npy', y_train)\n",
    "np.save(split_dir / 'y_test.npy', y_test)"
   ]
  }
 ],
 "metadata": {
  "kernelspec": {
   "display_name": "venv",
   "language": "python",
   "name": "python3"
  },
  "language_info": {
   "codemirror_mode": {
    "name": "ipython",
    "version": 3
   },
   "file_extension": ".py",
   "mimetype": "text/x-python",
   "name": "python",
   "nbconvert_exporter": "python",
   "pygments_lexer": "ipython3",
   "version": "3.12.3"
  }
 },
 "nbformat": 4,
 "nbformat_minor": 5
}
