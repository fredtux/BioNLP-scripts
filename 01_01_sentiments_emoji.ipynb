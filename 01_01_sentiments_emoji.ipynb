{
 "cells": [
  {
   "cell_type": "code",
   "execution_count": 1,
   "id": "7b0fcf5a",
   "metadata": {},
   "outputs": [],
   "source": [
    "from tqdm import tqdm\n",
    "import json\n",
    "import pandas as pd\n",
    "from pathlib import Path\n",
    "import numpy as np\n",
    "import emoji\n",
    "import re"
   ]
  },
  {
   "cell_type": "code",
   "execution_count": 2,
   "id": "83cbca0c",
   "metadata": {},
   "outputs": [
    {
     "data": {
      "text/plain": [
       "986"
      ]
     },
     "execution_count": 2,
     "metadata": {},
     "output_type": "execute_result"
    }
   ],
   "source": [
    "posts_folder = Path('dataset') / 'emetophobia_posts'\n",
    "with open(posts_folder / 'emetophobia_all_posts_one_label_normalized.json', 'r') as f:\n",
    "    all_posts = json.load(f)\n",
    "\n",
    "len(all_posts)"
   ]
  },
  {
   "cell_type": "code",
   "execution_count": 3,
   "id": "b71b3266",
   "metadata": {},
   "outputs": [],
   "source": [
    "def minimal_normalziation(text):\n",
    "    text = text.replace('\\n', ' ')\n",
    "    text = text.replace('\\r', ' ')\n",
    "    return text.strip()"
   ]
  },
  {
   "cell_type": "code",
   "execution_count": 4,
   "id": "c331f5eb",
   "metadata": {},
   "outputs": [
    {
     "name": "stderr",
     "output_type": "stream",
     "text": [
      "100%|██████████| 986/986 [00:00<00:00, 986071.47it/s]\n"
     ]
    }
   ],
   "source": [
    "for post in tqdm(all_posts):\n",
    "    post['content'] = minimal_normalziation(post['content'])"
   ]
  },
  {
   "cell_type": "code",
   "execution_count": 5,
   "id": "7800cdce",
   "metadata": {},
   "outputs": [],
   "source": [
    "from vaderSentiment.vaderSentiment import SentimentIntensityAnalyzer"
   ]
  },
  {
   "cell_type": "code",
   "execution_count": 6,
   "id": "39bb368c",
   "metadata": {},
   "outputs": [],
   "source": [
    "analyzer = SentimentIntensityAnalyzer()"
   ]
  },
  {
   "cell_type": "code",
   "execution_count": 7,
   "id": "7d6274b7",
   "metadata": {},
   "outputs": [
    {
     "name": "stderr",
     "output_type": "stream",
     "text": [
      "  0%|          | 0/986 [00:00<?, ?it/s]"
     ]
    },
    {
     "name": "stderr",
     "output_type": "stream",
     "text": [
      "100%|██████████| 986/986 [00:00<00:00, 1436.51it/s]\n"
     ]
    }
   ],
   "source": [
    "for post in tqdm(all_posts):\n",
    "    post['sentiment'] = analyzer.polarity_scores(post['content'])"
   ]
  },
  {
   "cell_type": "code",
   "execution_count": 8,
   "id": "a5356f3d",
   "metadata": {},
   "outputs": [],
   "source": [
    "def extract_emojis(text):\n",
    "    return [c for c in text if c in emoji.EMOJI_DATA]"
   ]
  },
  {
   "cell_type": "code",
   "execution_count": 9,
   "id": "bf9bc87a",
   "metadata": {},
   "outputs": [
    {
     "name": "stderr",
     "output_type": "stream",
     "text": [
      "100%|██████████| 986/986 [00:00<00:00, 2106.04it/s]\n"
     ]
    }
   ],
   "source": [
    "for post in tqdm(all_posts):\n",
    "    post['emojis'] = extract_emojis(post['content'])\n",
    "    post['emoji_count'] = emoji.emoji_count(post['content'])"
   ]
  },
  {
   "cell_type": "code",
   "execution_count": 10,
   "id": "89853b68",
   "metadata": {},
   "outputs": [],
   "source": [
    "emotions_dir = Path('sentiments')\n",
    "with open(emotions_dir / 'emetophobia_posts_sent_emoji.json', 'w') as f:\n",
    "    json.dump(all_posts, f, indent=4)"
   ]
  },
  {
   "cell_type": "code",
   "execution_count": 11,
   "id": "c5bcc985",
   "metadata": {},
   "outputs": [
    {
     "name": "stderr",
     "output_type": "stream",
     "text": [
      "100%|██████████| 986/986 [00:00<00:00, 2879932.97it/s]\n"
     ]
    },
    {
     "data": {
      "text/plain": [
       "82"
      ]
     },
     "execution_count": 11,
     "metadata": {},
     "output_type": "execute_result"
    }
   ],
   "source": [
    "emoji_dict = {}\n",
    "\n",
    "for post in tqdm(all_posts):\n",
    "    for emo in post['emojis']:\n",
    "        if emo not in emoji_dict:\n",
    "            emoji_dict[emo] = [post['sentiment']['compound']]\n",
    "        emoji_dict[emo].append(post['sentiment']['compound'])\n",
    "\n",
    "len(emoji_dict)"
   ]
  },
  {
   "cell_type": "code",
   "execution_count": 12,
   "id": "a6ead2b9",
   "metadata": {},
   "outputs": [],
   "source": [
    "with open(emotions_dir / 'emetophobia_posts_emoji_sentiment.json', 'w') as f:\n",
    "    json.dump(emoji_dict, f, indent=4)"
   ]
  },
  {
   "cell_type": "code",
   "execution_count": 13,
   "id": "1c32561c",
   "metadata": {},
   "outputs": [],
   "source": [
    "for k, v in emoji_dict.items():\n",
    "    emoji_dict[k] = {\n",
    "        \"min\": np.min(v),\n",
    "        \"max\": np.max(v),\n",
    "        \"mean\": np.mean(v),\n",
    "        \"std\": np.std(v),\n",
    "        'nums': len(v)\n",
    "    }"
   ]
  },
  {
   "cell_type": "code",
   "execution_count": 14,
   "id": "111d87d8",
   "metadata": {},
   "outputs": [
    {
     "data": {
      "text/plain": [
       "{'😭': {'min': -0.9966,\n",
       "  'max': 0.9859,\n",
       "  'mean': -0.6723615384615383,\n",
       "  'std': 0.5776024064607778,\n",
       "  'nums': 91},\n",
       " '😣': {'min': -0.981,\n",
       "  'max': -0.624,\n",
       "  'mean': -0.7576,\n",
       "  'std': 0.14094314456545945,\n",
       "  'nums': 6},\n",
       " '😔': {'min': -0.9178,\n",
       "  'max': 0.036,\n",
       "  'mean': -0.619875,\n",
       "  'std': 0.3443881521989396,\n",
       "  'nums': 8},\n",
       " '😳': {'min': -0.8317, 'max': -0.8317, 'mean': -0.8317, 'std': 0.0, 'nums': 2},\n",
       " '🥹': {'min': -0.9917,\n",
       "  'max': -0.9433,\n",
       "  'mean': -0.9755666666666668,\n",
       "  'std': 0.02281597880628593,\n",
       "  'nums': 3},\n",
       " '♥': {'min': -0.9917, 'max': -0.9917, 'mean': -0.9917, 'std': 0.0, 'nums': 2},\n",
       " '😅': {'min': 0.8903,\n",
       "  'max': 0.9908,\n",
       "  'mean': 0.935875,\n",
       "  'std': 0.046052056143021464,\n",
       "  'nums': 4},\n",
       " '\\U0001fae9': {'min': -0.8558,\n",
       "  'max': -0.7171,\n",
       "  'mean': -0.7825249999999999,\n",
       "  'std': 0.06566004778402161,\n",
       "  'nums': 4},\n",
       " '😞': {'min': -0.957,\n",
       "  'max': -0.228,\n",
       "  'mean': -0.7666600000000001,\n",
       "  'std': 0.2818976665387637,\n",
       "  'nums': 5},\n",
       " '🫶': {'min': -0.9885,\n",
       "  'max': 0.9413,\n",
       "  'mean': 0.6723833333333333,\n",
       "  'std': 0.5362139014008828,\n",
       "  'nums': 12},\n",
       " '😢': {'min': -0.961, 'max': -0.961, 'mean': -0.961, 'std': 0.0, 'nums': 2},\n",
       " '🫠': {'min': -0.9818,\n",
       "  'max': -0.9332,\n",
       "  'mean': -0.9494000000000001,\n",
       "  'std': 0.02291025971044413,\n",
       "  'nums': 3},\n",
       " '✨': {'min': 0.6229,\n",
       "  'max': 0.9066,\n",
       "  'mean': 0.7931199999999999,\n",
       "  'std': 0.1389840480055175,\n",
       "  'nums': 5},\n",
       " '😂': {'min': -0.8528,\n",
       "  'max': 0.9492,\n",
       "  'mean': 0.23585,\n",
       "  'std': 0.6049158006147082,\n",
       "  'nums': 6},\n",
       " '🥲': {'min': -0.9838,\n",
       "  'max': -0.7619,\n",
       "  'mean': -0.8837777777777779,\n",
       "  'std': 0.07057279579393776,\n",
       "  'nums': 9},\n",
       " '💪': {'min': 0.9013,\n",
       "  'max': 0.9765,\n",
       "  'mean': 0.912042857142857,\n",
       "  'std': 0.026314518379613586,\n",
       "  'nums': 7},\n",
       " '🤷': {'min': 0.6936, 'max': 0.6936, 'mean': 0.6936, 'std': 0.0, 'nums': 2},\n",
       " '🏼': {'min': -0.897,\n",
       "  'max': 0.9413,\n",
       "  'mean': 0.20686666666666664,\n",
       "  'std': 0.6577009139587858,\n",
       "  'nums': 6},\n",
       " '♀': {'min': -0.9601,\n",
       "  'max': 0.7672,\n",
       "  'mean': -0.07378571428571427,\n",
       "  'std': 0.7141841147742775,\n",
       "  'nums': 7},\n",
       " '🗣': {'min': 0.9428, 'max': 0.9428, 'mean': 0.9428, 'std': 0.0, 'nums': 2},\n",
       " '💬': {'min': 0.9428, 'max': 0.9428, 'mean': 0.9428, 'std': 0.0, 'nums': 2},\n",
       " '⏰': {'min': 0.9428, 'max': 0.9428, 'mean': 0.9428, 'std': 0.0, 'nums': 2},\n",
       " '😃': {'min': -0.8612, 'max': -0.8612, 'mean': -0.8612, 'std': 0.0, 'nums': 2},\n",
       " '😩': {'min': -0.962,\n",
       "  'max': -0.8612,\n",
       "  'mean': -0.9116,\n",
       "  'std': 0.0504,\n",
       "  'nums': 4},\n",
       " '🤤': {'min': -0.0772, 'max': -0.0772, 'mean': -0.0772, 'std': 0.0, 'nums': 2},\n",
       " '❤': {'min': -0.9965,\n",
       "  'max': 0.8932,\n",
       "  'mean': -0.21249,\n",
       "  'std': 0.780557466750527,\n",
       "  'nums': 10},\n",
       " '🤮': {'min': -0.3272, 'max': -0.3272, 'mean': -0.3272, 'std': 0.0, 'nums': 2},\n",
       " '🤢': {'min': -0.3272,\n",
       "  'max': 0.2023,\n",
       "  'mean': -0.15069999999999997,\n",
       "  'std': 0.24960869375885128,\n",
       "  'nums': 3},\n",
       " '🤏': {'min': -0.7184, 'max': -0.7184, 'mean': -0.7184, 'std': 0.0, 'nums': 2},\n",
       " '😐': {'min': -0.9965,\n",
       "  'max': 0.9908,\n",
       "  'mean': -0.31120000000000003,\n",
       "  'std': 0.7381700837205474,\n",
       "  'nums': 8},\n",
       " '😬': {'min': -0.6805,\n",
       "  'max': 0.9859,\n",
       "  'mean': -0.15685,\n",
       "  'std': 0.6825333160366606,\n",
       "  'nums': 4},\n",
       " '😫': {'min': -0.981,\n",
       "  'max': 0.5514,\n",
       "  'mean': -0.40214285714285714,\n",
       "  'std': 0.6576316225824365,\n",
       "  'nums': 7},\n",
       " '💀': {'min': -0.9965,\n",
       "  'max': 0.9131,\n",
       "  'mean': -0.3366833333333334,\n",
       "  'std': 0.7063187651871892,\n",
       "  'nums': 6},\n",
       " '☹': {'min': -0.9965,\n",
       "  'max': 0.8156,\n",
       "  'mean': -0.09045000000000003,\n",
       "  'std': 0.90605,\n",
       "  'nums': 4},\n",
       " '🙏': {'min': -0.9783,\n",
       "  'max': 0.581,\n",
       "  'mean': -0.5247428571428572,\n",
       "  'std': 0.6405480217464302,\n",
       "  'nums': 7},\n",
       " '🥀': {'min': -0.8898, 'max': -0.8898, 'mean': -0.8898, 'std': 0.0, 'nums': 2},\n",
       " '💔': {'min': -0.9195,\n",
       "  'max': 0.0377,\n",
       "  'mean': -0.6073999999999999,\n",
       "  'std': 0.3953210910133685,\n",
       "  'nums': 8},\n",
       " '✊': {'min': 0.036, 'max': 0.036, 'mean': 0.036, 'std': 0.0, 'nums': 2},\n",
       " '🤠': {'min': -0.9398, 'max': -0.9398, 'mean': -0.9398, 'std': 0.0, 'nums': 2},\n",
       " '👍': {'min': 0.0163, 'max': 0.0163, 'mean': 0.0163, 'std': 0.0, 'nums': 2},\n",
       " '✋': {'min': 0.3853, 'max': 0.3853, 'mean': 0.3853, 'std': 0.0, 'nums': 2},\n",
       " '💩': {'min': -0.8386,\n",
       "  'max': -0.3893,\n",
       "  'mean': -0.501625,\n",
       "  'std': 0.19455260696017418,\n",
       "  'nums': 4},\n",
       " '😓': {'min': -0.5341, 'max': -0.5341, 'mean': -0.5341, 'std': 0.0, 'nums': 2},\n",
       " '😻': {'min': 0.3822, 'max': 0.3822, 'mean': 0.3822, 'std': 0.0, 'nums': 2},\n",
       " '🎉': {'min': 0.9859, 'max': 0.9859, 'mean': 0.9859, 'std': 0.0, 'nums': 3},\n",
       " '😝': {'min': 0.9859, 'max': 0.9859, 'mean': 0.9859, 'std': 0.0, 'nums': 2},\n",
       " '🫤': {'min': 0.8068, 'max': 0.8068, 'mean': 0.8068, 'std': 0.0, 'nums': 2},\n",
       " '🏻': {'min': 0.9765, 'max': 0.9765, 'mean': 0.9765, 'std': 0.0, 'nums': 2},\n",
       " '🙃': {'min': -0.7452, 'max': -0.7452, 'mean': -0.7452, 'std': 0.0, 'nums': 2},\n",
       " '😰': {'min': 0.6008, 'max': 0.6008, 'mean': 0.6008, 'std': 0.0, 'nums': 2},\n",
       " '🖤': {'min': 0.9411, 'max': 0.9411, 'mean': 0.9411, 'std': 0.0, 'nums': 2},\n",
       " '💝': {'min': 0.9975, 'max': 0.9975, 'mean': 0.9975, 'std': 0.0, 'nums': 2},\n",
       " '🤦': {'min': -0.9601,\n",
       "  'max': 0.7672,\n",
       "  'mean': -0.47661999999999993,\n",
       "  'std': 0.6543312873460966,\n",
       "  'nums': 5},\n",
       " '🚫': {'min': 0.9925, 'max': 0.9925, 'mean': 0.9925, 'std': 0.0, 'nums': 2},\n",
       " '⚠': {'min': 0.9925, 'max': 0.9925, 'mean': 0.9925, 'std': 0.0, 'nums': 2},\n",
       " '✅': {'min': 0.9925, 'max': 0.9925, 'mean': 0.9925, 'std': 0.0, 'nums': 2},\n",
       " '📚': {'min': 0.9925, 'max': 0.9925, 'mean': 0.9925, 'std': 0.0, 'nums': 2},\n",
       " '🧠': {'min': 0.9925, 'max': 0.9925, 'mean': 0.9925, 'std': 0.0, 'nums': 2},\n",
       " '🔄': {'min': 0.9925, 'max': 0.9925, 'mean': 0.9925, 'std': 0.0, 'nums': 2},\n",
       " '📘': {'min': 0.9925, 'max': 0.9925, 'mean': 0.9925, 'std': 0.0, 'nums': 2},\n",
       " '🌀': {'min': 0.9925, 'max': 0.9925, 'mean': 0.9925, 'std': 0.0, 'nums': 2},\n",
       " '🎧': {'min': 0.9925, 'max': 0.9925, 'mean': 0.9925, 'std': 0.0, 'nums': 2},\n",
       " '📄': {'min': 0.9925, 'max': 0.9925, 'mean': 0.9925, 'std': 0.0, 'nums': 2},\n",
       " '💚': {'min': 0.9925, 'max': 0.9925, 'mean': 0.9925, 'std': 0.0, 'nums': 2},\n",
       " '🥳': {'min': 0.9588, 'max': 0.9588, 'mean': 0.9588, 'std': 0.0, 'nums': 2},\n",
       " '🙍': {'min': -0.4176, 'max': -0.4176, 'mean': -0.4176, 'std': 0.0, 'nums': 2},\n",
       " '🏽': {'min': -0.9601,\n",
       "  'max': 0.7672,\n",
       "  'mean': -0.257025,\n",
       "  'std': 0.6314507042319296,\n",
       "  'nums': 4},\n",
       " '👁': {'min': -0.9559,\n",
       "  'max': -0.9559,\n",
       "  'mean': -0.9559000000000001,\n",
       "  'std': 1.1102230246251565e-16,\n",
       "  'nums': 3},\n",
       " '👄': {'min': -0.9559, 'max': -0.9559, 'mean': -0.9559, 'std': 0.0, 'nums': 2},\n",
       " '🤍': {'min': 0.1911,\n",
       "  'max': 0.9819,\n",
       "  'mean': 0.5865,\n",
       "  'std': 0.39540000000000003,\n",
       "  'nums': 4},\n",
       " '😊': {'min': 0.1911, 'max': 0.1911, 'mean': 0.1911, 'std': 0.0, 'nums': 2},\n",
       " '🩷': {'min': -0.6428, 'max': -0.6428, 'mean': -0.6428, 'std': 0.0, 'nums': 2},\n",
       " '🤩': {'min': -0.7119, 'max': -0.7119, 'mean': -0.7119, 'std': 0.0, 'nums': 2},\n",
       " '🫢': {'min': -0.5858, 'max': -0.5858, 'mean': -0.5858, 'std': 0.0, 'nums': 3},\n",
       " '🫣': {'min': -0.5858, 'max': -0.5858, 'mean': -0.5858, 'std': 0.0, 'nums': 2},\n",
       " '😀': {'min': 0.9186, 'max': 0.9186, 'mean': 0.9186, 'std': 0.0, 'nums': 2},\n",
       " '😷': {'min': -0.9711, 'max': -0.9711, 'mean': -0.9711, 'std': 0.0, 'nums': 2},\n",
       " '🦋': {'min': 0.2059, 'max': 0.2059, 'mean': 0.2059, 'std': 0.0, 'nums': 2},\n",
       " '💘': {'min': 0.2059, 'max': 0.2059, 'mean': 0.2059, 'std': 0.0, 'nums': 2},\n",
       " '💜': {'min': 0.2059, 'max': 0.2059, 'mean': 0.2059, 'std': 0.0, 'nums': 2},\n",
       " '🙄': {'min': -0.8116, 'max': -0.8116, 'mean': -0.8116, 'std': 0.0, 'nums': 2},\n",
       " '😆': {'min': -0.9838, 'max': -0.9838, 'mean': -0.9838, 'std': 0.0, 'nums': 2}}"
      ]
     },
     "execution_count": 14,
     "metadata": {},
     "output_type": "execute_result"
    }
   ],
   "source": [
    "emoji_dict"
   ]
  },
  {
   "cell_type": "code",
   "execution_count": 15,
   "id": "7b0f9d38",
   "metadata": {},
   "outputs": [
    {
     "data": {
      "text/html": [
       "<div>\n",
       "<style scoped>\n",
       "    .dataframe tbody tr th:only-of-type {\n",
       "        vertical-align: middle;\n",
       "    }\n",
       "\n",
       "    .dataframe tbody tr th {\n",
       "        vertical-align: top;\n",
       "    }\n",
       "\n",
       "    .dataframe thead th {\n",
       "        text-align: right;\n",
       "    }\n",
       "</style>\n",
       "<table border=\"1\" class=\"dataframe\">\n",
       "  <thead>\n",
       "    <tr style=\"text-align: right;\">\n",
       "      <th></th>\n",
       "      <th>min</th>\n",
       "      <th>max</th>\n",
       "      <th>mean</th>\n",
       "      <th>std</th>\n",
       "      <th>nums</th>\n",
       "    </tr>\n",
       "  </thead>\n",
       "  <tbody>\n",
       "    <tr>\n",
       "      <th>😭</th>\n",
       "      <td>-0.9966</td>\n",
       "      <td>0.9859</td>\n",
       "      <td>-0.672362</td>\n",
       "      <td>0.577602</td>\n",
       "      <td>91</td>\n",
       "    </tr>\n",
       "    <tr>\n",
       "      <th>😣</th>\n",
       "      <td>-0.9810</td>\n",
       "      <td>-0.6240</td>\n",
       "      <td>-0.757600</td>\n",
       "      <td>0.140943</td>\n",
       "      <td>6</td>\n",
       "    </tr>\n",
       "    <tr>\n",
       "      <th>😔</th>\n",
       "      <td>-0.9178</td>\n",
       "      <td>0.0360</td>\n",
       "      <td>-0.619875</td>\n",
       "      <td>0.344388</td>\n",
       "      <td>8</td>\n",
       "    </tr>\n",
       "    <tr>\n",
       "      <th>😳</th>\n",
       "      <td>-0.8317</td>\n",
       "      <td>-0.8317</td>\n",
       "      <td>-0.831700</td>\n",
       "      <td>0.000000</td>\n",
       "      <td>2</td>\n",
       "    </tr>\n",
       "    <tr>\n",
       "      <th>🥹</th>\n",
       "      <td>-0.9917</td>\n",
       "      <td>-0.9433</td>\n",
       "      <td>-0.975567</td>\n",
       "      <td>0.022816</td>\n",
       "      <td>3</td>\n",
       "    </tr>\n",
       "  </tbody>\n",
       "</table>\n",
       "</div>"
      ],
      "text/plain": [
       "      min     max      mean       std  nums\n",
       "😭 -0.9966  0.9859 -0.672362  0.577602    91\n",
       "😣 -0.9810 -0.6240 -0.757600  0.140943     6\n",
       "😔 -0.9178  0.0360 -0.619875  0.344388     8\n",
       "😳 -0.8317 -0.8317 -0.831700  0.000000     2\n",
       "🥹 -0.9917 -0.9433 -0.975567  0.022816     3"
      ]
     },
     "execution_count": 15,
     "metadata": {},
     "output_type": "execute_result"
    }
   ],
   "source": [
    "df_emoji = pd.DataFrame.from_dict(emoji_dict, orient='index')\n",
    "df_emoji.head()"
   ]
  },
  {
   "cell_type": "code",
   "execution_count": 16,
   "id": "42aa21fa",
   "metadata": {},
   "outputs": [],
   "source": [
    "df_emoji.to_excel(emotions_dir / 'emetophobia_emojis_statistics.xlsx', index=True, index_label='emoji')"
   ]
  },
  {
   "cell_type": "code",
   "execution_count": 17,
   "id": "bf2ff325",
   "metadata": {},
   "outputs": [],
   "source": [
    "from collections import Counter"
   ]
  },
  {
   "cell_type": "code",
   "execution_count": 18,
   "id": "f4670d36",
   "metadata": {},
   "outputs": [
    {
     "data": {
      "text/plain": [
       "{'title': 'Life-changing website for movie triggers!',\n",
       " 'content': 'I just wanted to share a website/app that has been an absolute game changer for my emetophobia: doesthedogdie.com  It’s basically a big trigger warning database for movies where users flag content like animal death, violence, and, importantly for us, v*. You can check if a movie has v* scenes before watching, and the community often provides time stamps and context. I’ve been using it for a while and it has made such a difference. I can finally enjoy movies again without that constant fear in the back of my mind. I really encourage others here to check it out, and if you can, help others by contributing to the site when you come across triggering scenes. It’s a small thing that can help a lot of people.',\n",
       " 'date': 1749890934.0,\n",
       " 'ups': 2,\n",
       " 'upvote_ratio': 1.0,\n",
       " 'downvotes': 0,\n",
       " 'labels': 'Techniques, tips and tricks',\n",
       " 'sentiment': {'neg': 0.07, 'neu': 0.783, 'pos': 0.147, 'compound': 0.8563},\n",
       " 'emojis': [],\n",
       " 'emoji_count': 0}"
      ]
     },
     "execution_count": 18,
     "metadata": {},
     "output_type": "execute_result"
    }
   ],
   "source": [
    "all_posts[0]"
   ]
  },
  {
   "cell_type": "code",
   "execution_count": 19,
   "id": "f864d879",
   "metadata": {},
   "outputs": [
    {
     "name": "stderr",
     "output_type": "stream",
     "text": [
      "100%|██████████| 986/986 [00:00<00:00, 2424140.53it/s]\n"
     ]
    },
    {
     "data": {
      "text/plain": [
       "[('Rant', 54),\n",
       " ('Needing support - Panic attack', 31),\n",
       " ('Needing support: Just not feeling good', 28),\n",
       " ('Question', 26),\n",
       " ('Success!', 20),\n",
       " ('Does Anyone Else...?', 17),\n",
       " ('Potentially Triggering', 17),\n",
       " ('Moderator', 11),\n",
       " ('None', 10),\n",
       " ('Needing Support - N, V, D etc', 10),\n",
       " ('Positive Reminder', 8),\n",
       " ('Techniques, tips and tricks', 6),\n",
       " ('Venting - Advice wanted', 6),\n",
       " ('Needing Support - In Acute Crisis (at risk of self injury)', 5),\n",
       " ('Venting - No advice please', 5),\n",
       " ('Needing Support - Anxious about FP', 4),\n",
       " ('It Happened (TW)', 3),\n",
       " ('Needing Support - N, V, D etc NO REASSURANCE', 3),\n",
       " ('Recovery', 2),\n",
       " ('Therapy info!', 0)]"
      ]
     },
     "execution_count": 19,
     "metadata": {},
     "output_type": "execute_result"
    }
   ],
   "source": [
    "lbl_counter = Counter()\n",
    "\n",
    "for post in tqdm(all_posts):\n",
    "    lbl_counter[post['labels']] += post['emoji_count']\n",
    "\n",
    "lbl_counter.most_common(20)"
   ]
  }
 ],
 "metadata": {
  "kernelspec": {
   "display_name": "venv",
   "language": "python",
   "name": "python3"
  },
  "language_info": {
   "codemirror_mode": {
    "name": "ipython",
    "version": 3
   },
   "file_extension": ".py",
   "mimetype": "text/x-python",
   "name": "python",
   "nbconvert_exporter": "python",
   "pygments_lexer": "ipython3",
   "version": "3.12.3"
  }
 },
 "nbformat": 4,
 "nbformat_minor": 5
}
