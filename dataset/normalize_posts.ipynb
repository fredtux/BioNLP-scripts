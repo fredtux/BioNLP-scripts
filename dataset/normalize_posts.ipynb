{
 "cells": [
  {
   "cell_type": "code",
   "execution_count": 1,
   "id": "0385716e",
   "metadata": {},
   "outputs": [],
   "source": [
    "from tqdm import tqdm\n",
    "import json\n",
    "import pandas as pd"
   ]
  },
  {
   "cell_type": "code",
   "execution_count": 2,
   "id": "a57c3104",
   "metadata": {},
   "outputs": [],
   "source": [
    "pages_folder = 'emetophobia_pages'\n",
    "dld_folder = 'emetophobia_posts'"
   ]
  },
  {
   "cell_type": "code",
   "execution_count": 3,
   "id": "92f5f2d7",
   "metadata": {},
   "outputs": [
    {
     "data": {
      "text/plain": [
       "996"
      ]
     },
     "execution_count": 3,
     "metadata": {},
     "output_type": "execute_result"
    }
   ],
   "source": [
    "with open(f'{dld_folder}/emetophobia_all_posts_one_label.json', 'r') as f:\n",
    "    all_posts = json.load(f)\n",
    "\n",
    "len(all_posts)"
   ]
  },
  {
   "cell_type": "code",
   "execution_count": 4,
   "id": "809cb99d",
   "metadata": {},
   "outputs": [
    {
     "name": "stderr",
     "output_type": "stream",
     "text": [
      "100%|██████████| 996/996 [00:00<00:00, 2119496.09it/s]\n"
     ]
    },
    {
     "data": {
      "text/plain": [
       "986"
      ]
     },
     "execution_count": 4,
     "metadata": {},
     "output_type": "execute_result"
    }
   ],
   "source": [
    "kept_posts = []\n",
    "\n",
    "for post in tqdm(all_posts):\n",
    "    if post['content'].strip() == '':\n",
    "        continue\n",
    "\n",
    "    kept_posts.append(post)\n",
    "\n",
    "len(kept_posts)"
   ]
  },
  {
   "cell_type": "code",
   "execution_count": 5,
   "id": "8e2882c1",
   "metadata": {},
   "outputs": [],
   "source": [
    "with open(f'{dld_folder}/emetophobia_all_posts_one_label_normalized.json', 'w') as f:\n",
    "    json.dump(kept_posts, f, indent=4)"
   ]
  }
 ],
 "metadata": {
  "kernelspec": {
   "display_name": "venv",
   "language": "python",
   "name": "python3"
  },
  "language_info": {
   "codemirror_mode": {
    "name": "ipython",
    "version": 3
   },
   "file_extension": ".py",
   "mimetype": "text/x-python",
   "name": "python",
   "nbconvert_exporter": "python",
   "pygments_lexer": "ipython3",
   "version": "3.12.3"
  }
 },
 "nbformat": 4,
 "nbformat_minor": 5
}
