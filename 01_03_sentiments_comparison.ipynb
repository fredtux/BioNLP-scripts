{
 "cells": [
  {
   "cell_type": "code",
   "execution_count": 1,
   "id": "fdb05acc",
   "metadata": {},
   "outputs": [],
   "source": [
    "import pandas as pd\n",
    "from pathlib import Path\n",
    "import json\n",
    "import numpy as np\n",
    "from tqdm import tqdm\n",
    "\n",
    "from scipy.stats import ttest_rel"
   ]
  },
  {
   "cell_type": "code",
   "execution_count": 2,
   "id": "8281a389",
   "metadata": {},
   "outputs": [],
   "source": [
    "sentiments_dir = Path('sentiments')\n",
    "\n",
    "df_emoji = pd.read_excel(sentiments_dir / 'emetophobia_emojis_statistics.xlsx')\n",
    "df_no_emoji = pd.read_excel(sentiments_dir / 'emetophobia_noemojis_statistics.xlsx')"
   ]
  },
  {
   "cell_type": "code",
   "execution_count": 3,
   "id": "1c84b890",
   "metadata": {},
   "outputs": [
    {
     "data": {
      "text/html": [
       "<div>\n",
       "<style scoped>\n",
       "    .dataframe tbody tr th:only-of-type {\n",
       "        vertical-align: middle;\n",
       "    }\n",
       "\n",
       "    .dataframe tbody tr th {\n",
       "        vertical-align: top;\n",
       "    }\n",
       "\n",
       "    .dataframe thead th {\n",
       "        text-align: right;\n",
       "    }\n",
       "</style>\n",
       "<table border=\"1\" class=\"dataframe\">\n",
       "  <thead>\n",
       "    <tr style=\"text-align: right;\">\n",
       "      <th></th>\n",
       "      <th>emoji</th>\n",
       "      <th>min</th>\n",
       "      <th>max</th>\n",
       "      <th>mean</th>\n",
       "      <th>std</th>\n",
       "      <th>nums</th>\n",
       "    </tr>\n",
       "  </thead>\n",
       "  <tbody>\n",
       "    <tr>\n",
       "      <th>0</th>\n",
       "      <td>😭</td>\n",
       "      <td>-0.9966</td>\n",
       "      <td>0.9859</td>\n",
       "      <td>-0.672362</td>\n",
       "      <td>0.577602</td>\n",
       "      <td>91</td>\n",
       "    </tr>\n",
       "    <tr>\n",
       "      <th>1</th>\n",
       "      <td>😣</td>\n",
       "      <td>-0.9810</td>\n",
       "      <td>-0.6240</td>\n",
       "      <td>-0.757600</td>\n",
       "      <td>0.140943</td>\n",
       "      <td>6</td>\n",
       "    </tr>\n",
       "    <tr>\n",
       "      <th>2</th>\n",
       "      <td>😔</td>\n",
       "      <td>-0.9178</td>\n",
       "      <td>0.0360</td>\n",
       "      <td>-0.619875</td>\n",
       "      <td>0.344388</td>\n",
       "      <td>8</td>\n",
       "    </tr>\n",
       "    <tr>\n",
       "      <th>3</th>\n",
       "      <td>😳</td>\n",
       "      <td>-0.8317</td>\n",
       "      <td>-0.8317</td>\n",
       "      <td>-0.831700</td>\n",
       "      <td>0.000000</td>\n",
       "      <td>2</td>\n",
       "    </tr>\n",
       "    <tr>\n",
       "      <th>4</th>\n",
       "      <td>🥹</td>\n",
       "      <td>-0.9917</td>\n",
       "      <td>-0.9433</td>\n",
       "      <td>-0.975567</td>\n",
       "      <td>0.022816</td>\n",
       "      <td>3</td>\n",
       "    </tr>\n",
       "  </tbody>\n",
       "</table>\n",
       "</div>"
      ],
      "text/plain": [
       "  emoji     min     max      mean       std  nums\n",
       "0     😭 -0.9966  0.9859 -0.672362  0.577602    91\n",
       "1     😣 -0.9810 -0.6240 -0.757600  0.140943     6\n",
       "2     😔 -0.9178  0.0360 -0.619875  0.344388     8\n",
       "3     😳 -0.8317 -0.8317 -0.831700  0.000000     2\n",
       "4     🥹 -0.9917 -0.9433 -0.975567  0.022816     3"
      ]
     },
     "execution_count": 3,
     "metadata": {},
     "output_type": "execute_result"
    }
   ],
   "source": [
    "df_emoji.head()"
   ]
  },
  {
   "cell_type": "code",
   "execution_count": 4,
   "id": "161fcd13",
   "metadata": {},
   "outputs": [],
   "source": [
    "with open(sentiments_dir / 'emetophobia_posts_emoji_sentiment.json', 'r') as f:\n",
    "    emoji_dict = json.load(f)\n",
    "with open(sentiments_dir / 'emetophobia_posts_noemoji_sentiment.json', 'r') as f:\n",
    "    noemoji_dict = json.load(f)"
   ]
  },
  {
   "cell_type": "code",
   "execution_count": 5,
   "id": "85ad5a9b",
   "metadata": {},
   "outputs": [
    {
     "name": "stderr",
     "output_type": "stream",
     "text": [
      "  0%|          | 0/82 [00:00<?, ?it/s]"
     ]
    },
    {
     "name": "stderr",
     "output_type": "stream",
     "text": [
      "/home/tux/Desktop/Master/An1/Sem2/BioNLP/Proiect/venv/lib/python3.12/site-packages/scipy/stats/_axis_nan_policy.py:531: RuntimeWarning: Precision loss occurred in moment calculation due to catastrophic cancellation. This occurs when the data are nearly identical. Results may be unreliable.\n",
      "  res = hypotest_fun_out(*samples, **kwds)\n",
      "100%|██████████| 82/82 [00:00<00:00, 622.95it/s]\n"
     ]
    }
   ],
   "source": [
    "df_diff = df_emoji.merge(df_no_emoji, on='emoji', how='inner', suffixes=('_with_emoji', '_without_emoji'))\n",
    "\n",
    "df_diff['mean_difference'] = df_diff['mean_with_emoji'] - df_diff['mean_without_emoji']\n",
    "\n",
    "# t_stat, p_value = ttest_rel(df_diff['mean_with_emoji'], df_diff['mean_without_emoji'])\n",
    "for i in tqdm(range(len(df_diff))):\n",
    "    emoji = df_diff.iloc[i]['emoji']\n",
    "    if emoji in emoji_dict and emoji in noemoji_dict:\n",
    "        t_stat, p_value = ttest_rel(emoji_dict[emoji], noemoji_dict[emoji])\n",
    "        df_diff.at[i, 't_stat'] = t_stat\n",
    "        df_diff.at[i, 'p_value'] = p_value\n",
    "    else:\n",
    "        df_diff.at[i, 't_stat'] = np.nan\n",
    "        df_diff.at[i, 'p_value'] = np.nan\n",
    "df_diff = df_diff.sort_values(by='nums_with_emoji', ascending=False)\n"
   ]
  },
  {
   "cell_type": "code",
   "execution_count": 6,
   "id": "47eafc06",
   "metadata": {},
   "outputs": [
    {
     "data": {
      "text/html": [
       "<div>\n",
       "<style scoped>\n",
       "    .dataframe tbody tr th:only-of-type {\n",
       "        vertical-align: middle;\n",
       "    }\n",
       "\n",
       "    .dataframe tbody tr th {\n",
       "        vertical-align: top;\n",
       "    }\n",
       "\n",
       "    .dataframe thead th {\n",
       "        text-align: right;\n",
       "    }\n",
       "</style>\n",
       "<table border=\"1\" class=\"dataframe\">\n",
       "  <thead>\n",
       "    <tr style=\"text-align: right;\">\n",
       "      <th></th>\n",
       "      <th>emoji</th>\n",
       "      <th>min_with_emoji</th>\n",
       "      <th>max_with_emoji</th>\n",
       "      <th>mean_with_emoji</th>\n",
       "      <th>std_with_emoji</th>\n",
       "      <th>nums_with_emoji</th>\n",
       "      <th>min_without_emoji</th>\n",
       "      <th>max_without_emoji</th>\n",
       "      <th>mean_without_emoji</th>\n",
       "      <th>std_without_emoji</th>\n",
       "      <th>nums_without_emoji</th>\n",
       "      <th>mean_difference</th>\n",
       "      <th>t_stat</th>\n",
       "      <th>p_value</th>\n",
       "    </tr>\n",
       "  </thead>\n",
       "  <tbody>\n",
       "    <tr>\n",
       "      <th>0</th>\n",
       "      <td>😭</td>\n",
       "      <td>-0.9966</td>\n",
       "      <td>0.9859</td>\n",
       "      <td>-0.672362</td>\n",
       "      <td>0.577602</td>\n",
       "      <td>91</td>\n",
       "      <td>-0.9954</td>\n",
       "      <td>0.9876</td>\n",
       "      <td>-0.444981</td>\n",
       "      <td>0.664632</td>\n",
       "      <td>91</td>\n",
       "      <td>-0.227380</td>\n",
       "      <td>-6.269718</td>\n",
       "      <td>1.228922e-08</td>\n",
       "    </tr>\n",
       "    <tr>\n",
       "      <th>9</th>\n",
       "      <td>🫶</td>\n",
       "      <td>-0.9885</td>\n",
       "      <td>0.9413</td>\n",
       "      <td>0.672383</td>\n",
       "      <td>0.536214</td>\n",
       "      <td>12</td>\n",
       "      <td>-0.9851</td>\n",
       "      <td>0.9505</td>\n",
       "      <td>0.599492</td>\n",
       "      <td>0.614665</td>\n",
       "      <td>12</td>\n",
       "      <td>0.072892</td>\n",
       "      <td>1.206261</td>\n",
       "      <td>2.530206e-01</td>\n",
       "    </tr>\n",
       "    <tr>\n",
       "      <th>25</th>\n",
       "      <td>❤</td>\n",
       "      <td>-0.9965</td>\n",
       "      <td>0.8932</td>\n",
       "      <td>-0.212490</td>\n",
       "      <td>0.780557</td>\n",
       "      <td>10</td>\n",
       "      <td>-0.9956</td>\n",
       "      <td>0.8932</td>\n",
       "      <td>-0.212260</td>\n",
       "      <td>0.780327</td>\n",
       "      <td>10</td>\n",
       "      <td>-0.000230</td>\n",
       "      <td>-1.943084</td>\n",
       "      <td>8.389310e-02</td>\n",
       "    </tr>\n",
       "    <tr>\n",
       "      <th>14</th>\n",
       "      <td>🥲</td>\n",
       "      <td>-0.9838</td>\n",
       "      <td>-0.7619</td>\n",
       "      <td>-0.883778</td>\n",
       "      <td>0.070573</td>\n",
       "      <td>9</td>\n",
       "      <td>-0.9867</td>\n",
       "      <td>-0.7619</td>\n",
       "      <td>-0.884100</td>\n",
       "      <td>0.071034</td>\n",
       "      <td>9</td>\n",
       "      <td>0.000322</td>\n",
       "      <td>1.000000</td>\n",
       "      <td>3.465935e-01</td>\n",
       "    </tr>\n",
       "    <tr>\n",
       "      <th>36</th>\n",
       "      <td>💔</td>\n",
       "      <td>-0.9195</td>\n",
       "      <td>0.0377</td>\n",
       "      <td>-0.607400</td>\n",
       "      <td>0.395321</td>\n",
       "      <td>8</td>\n",
       "      <td>-0.9456</td>\n",
       "      <td>-0.4659</td>\n",
       "      <td>-0.725550</td>\n",
       "      <td>0.188329</td>\n",
       "      <td>8</td>\n",
       "      <td>0.118150</td>\n",
       "      <td>1.238247</td>\n",
       "      <td>2.555378e-01</td>\n",
       "    </tr>\n",
       "  </tbody>\n",
       "</table>\n",
       "</div>"
      ],
      "text/plain": [
       "   emoji  min_with_emoji  max_with_emoji  mean_with_emoji  std_with_emoji  \\\n",
       "0      😭         -0.9966          0.9859        -0.672362        0.577602   \n",
       "9      🫶         -0.9885          0.9413         0.672383        0.536214   \n",
       "25     ❤         -0.9965          0.8932        -0.212490        0.780557   \n",
       "14     🥲         -0.9838         -0.7619        -0.883778        0.070573   \n",
       "36     💔         -0.9195          0.0377        -0.607400        0.395321   \n",
       "\n",
       "    nums_with_emoji  min_without_emoji  max_without_emoji  mean_without_emoji  \\\n",
       "0                91            -0.9954             0.9876           -0.444981   \n",
       "9                12            -0.9851             0.9505            0.599492   \n",
       "25               10            -0.9956             0.8932           -0.212260   \n",
       "14                9            -0.9867            -0.7619           -0.884100   \n",
       "36                8            -0.9456            -0.4659           -0.725550   \n",
       "\n",
       "    std_without_emoji  nums_without_emoji  mean_difference    t_stat  \\\n",
       "0            0.664632                  91        -0.227380 -6.269718   \n",
       "9            0.614665                  12         0.072892  1.206261   \n",
       "25           0.780327                  10        -0.000230 -1.943084   \n",
       "14           0.071034                   9         0.000322  1.000000   \n",
       "36           0.188329                   8         0.118150  1.238247   \n",
       "\n",
       "         p_value  \n",
       "0   1.228922e-08  \n",
       "9   2.530206e-01  \n",
       "25  8.389310e-02  \n",
       "14  3.465935e-01  \n",
       "36  2.555378e-01  "
      ]
     },
     "execution_count": 6,
     "metadata": {},
     "output_type": "execute_result"
    }
   ],
   "source": [
    "df_diff.head()"
   ]
  },
  {
   "cell_type": "code",
   "execution_count": 7,
   "id": "95e07d25",
   "metadata": {},
   "outputs": [],
   "source": [
    "df_diff.to_excel(sentiments_dir / 'emetophobia_diff_statistics.xlsx', index=False)"
   ]
  },
  {
   "cell_type": "code",
   "execution_count": 8,
   "id": "c4843a9a",
   "metadata": {},
   "outputs": [
    {
     "data": {
      "text/plain": [
       "(-4.255487935548932, 2.660058870348046e-05)"
      ]
     },
     "execution_count": 8,
     "metadata": {},
     "output_type": "execute_result"
    }
   ],
   "source": [
    "all_sents_emoji = []\n",
    "for emoji in emoji_dict:\n",
    "    all_sents_emoji.extend(emoji_dict[emoji])\n",
    "\n",
    "all_sents_noemoji = []\n",
    "for emoji in noemoji_dict:\n",
    "    all_sents_noemoji.extend(noemoji_dict[emoji])\n",
    "\n",
    "t_stat, p_value = ttest_rel(all_sents_emoji, all_sents_noemoji)\n",
    "\n",
    "t_stat, p_value"
   ]
  },
  {
   "cell_type": "code",
   "execution_count": 9,
   "id": "46b19966",
   "metadata": {},
   "outputs": [
    {
     "data": {
      "text/plain": [
       "({'title': 'Life-changing website for movie triggers!',\n",
       "  'content': 'I just wanted to share a website/app that has been an absolute game changer for my emetophobia: doesthedogdie.com  It’s basically a big trigger warning database for movies where users flag content like animal death, violence, and, importantly for us, v*. You can check if a movie has v* scenes before watching, and the community often provides time stamps and context. I’ve been using it for a while and it has made such a difference. I can finally enjoy movies again without that constant fear in the back of my mind. I really encourage others here to check it out, and if you can, help others by contributing to the site when you come across triggering scenes. It’s a small thing that can help a lot of people.',\n",
       "  'date': 1749890934.0,\n",
       "  'ups': 2,\n",
       "  'upvote_ratio': 1.0,\n",
       "  'downvotes': 0,\n",
       "  'labels': 'Techniques, tips and tricks',\n",
       "  'sentiment': {'neg': 0.07, 'neu': 0.783, 'pos': 0.147, 'compound': 0.8563},\n",
       "  'emojis': [],\n",
       "  'emoji_count': 0},\n",
       " {'title': 'Life-changing website for movie triggers!',\n",
       "  'content': 'I just wanted to share a website/app that has been an absolute game changer for my emetophobia: doesthedogdie.com  It’s basically a big trigger warning database for movies where users flag content like animal death, violence, and, importantly for us, v*. You can check if a movie has v* scenes before watching, and the community often provides time stamps and context. I’ve been using it for a while and it has made such a difference. I can finally enjoy movies again without that constant fear in the back of my mind. I really encourage others here to check it out, and if you can, help others by contributing to the site when you come across triggering scenes. It’s a small thing that can help a lot of people.',\n",
       "  'date': 1749890934.0,\n",
       "  'ups': 2,\n",
       "  'upvote_ratio': 1.0,\n",
       "  'downvotes': 0,\n",
       "  'labels': 'Techniques, tips and tricks',\n",
       "  'content_emoji': 'I just wanted to share a website/app that has been an absolute game changer for my emetophobia: doesthedogdie.com\\n\\nIt’s basically a big trigger warning database for movies where users flag content like animal death, violence, and, importantly for us, v*. You can check if a movie has v* scenes before watching, and the community often provides time stamps and context. I’ve been using it for a while and it has made such a difference. I can finally enjoy movies again without that constant fear in the back of my mind. I really encourage others here to check it out, and if you can, help others by contributing to the site when you come across triggering scenes. It’s a small thing that can help a lot of people.\\n',\n",
       "  'sentiment': {'neg': 0.07, 'neu': 0.783, 'pos': 0.147, 'compound': 0.8563},\n",
       "  'emojis': [],\n",
       "  'emoji_count': 0})"
      ]
     },
     "execution_count": 9,
     "metadata": {},
     "output_type": "execute_result"
    }
   ],
   "source": [
    "with open(sentiments_dir / 'emetophobia_posts_sent_emoji.json', 'r') as f:\n",
    "    posts_emoji = json.load(f)\n",
    "\n",
    "with open(sentiments_dir / 'emetophobia_posts_sent_noemoji.json', 'r') as f:\n",
    "    posts_noemoji = json.load(f)\n",
    "\n",
    "posts_emoji[0], posts_noemoji[0]"
   ]
  },
  {
   "cell_type": "code",
   "execution_count": 10,
   "id": "5d1ce17c",
   "metadata": {},
   "outputs": [
    {
     "name": "stderr",
     "output_type": "stream",
     "text": [
      "100%|██████████| 986/986 [00:00<00:00, 1758326.42it/s]\n",
      "100%|██████████| 986/986 [00:00<00:00, 1717435.11it/s]\n"
     ]
    }
   ],
   "source": [
    "all_sents_emoji = []\n",
    "lbl_sents_emoji = {}\n",
    "\n",
    "all_sents_noemoji = []\n",
    "lbl_sents_noemoji = {}\n",
    "\n",
    "for post in tqdm(posts_emoji):\n",
    "    all_sents_emoji.append(post['sentiment']['compound'])\n",
    "\n",
    "    if post['labels'] in lbl_sents_emoji:\n",
    "        lbl_sents_emoji[post['labels']].append(post['sentiment']['compound'])\n",
    "    else:\n",
    "        lbl_sents_emoji[post['labels']] = [post['sentiment']['compound']]\n",
    "\n",
    "for post in tqdm(posts_noemoji):\n",
    "    all_sents_noemoji.append(post['sentiment']['compound'])\n",
    "\n",
    "    if post['labels'] in lbl_sents_noemoji:\n",
    "        lbl_sents_noemoji[post['labels']].append(post['sentiment']['compound'])\n",
    "    else:\n",
    "        lbl_sents_noemoji[post['labels']] = [post['sentiment']['compound']]"
   ]
  },
  {
   "cell_type": "code",
   "execution_count": 11,
   "id": "cb8c6ec9",
   "metadata": {},
   "outputs": [
    {
     "data": {
      "text/plain": [
       "(-3.1540444865214092, 0.0016590158848331148)"
      ]
     },
     "execution_count": 11,
     "metadata": {},
     "output_type": "execute_result"
    }
   ],
   "source": [
    "all_sents = {\n",
    "    'max_with_emoji': np.max(all_sents_emoji),\n",
    "    'min_with_emoji': np.min(all_sents_emoji),\n",
    "    'mean_with_emoji': np.mean(all_sents_emoji),\n",
    "    'std_with_emoji': np.std(all_sents_emoji),\n",
    "    'max_without_emoji': np.max(all_sents_noemoji),\n",
    "    'min_without_emoji': np.min(all_sents_noemoji),\n",
    "    'mean_without_emoji': np.mean(all_sents_noemoji),\n",
    "    'std_without_emoji': np.std(all_sents_noemoji),\n",
    "}\n",
    "\n",
    "\n",
    "t_stat_all, p_value_all = ttest_rel(all_sents_emoji, all_sents_noemoji)\n",
    "\n",
    "all_sents['t_value'] = t_stat_all\n",
    "all_sents['p_value'] = p_value_all\n",
    "\n",
    "df_all_sents = pd.DataFrame.from_dict(all_sents, orient='index', columns=['value'])\n",
    "\n",
    "t_stat_all, p_value_all"
   ]
  },
  {
   "cell_type": "code",
   "execution_count": 12,
   "id": "9e31e0ae",
   "metadata": {},
   "outputs": [],
   "source": [
    "df_all_sents.to_excel(sentiments_dir / 'emetophobia_all_sent_statistics.xlsx', index=True, index_label='metric')"
   ]
  },
  {
   "cell_type": "code",
   "execution_count": 13,
   "id": "4c7372cb",
   "metadata": {},
   "outputs": [],
   "source": [
    "lbl_sents = []\n",
    "for lbl in lbl_sents_emoji:\n",
    "    if len(lbl_sents_emoji[lbl]) <= 1:\n",
    "        continue\n",
    "    \n",
    "    if lbl in lbl_sents_noemoji:\n",
    "        t_stat, p_value = ttest_rel(lbl_sents_emoji[lbl], lbl_sents_noemoji[lbl])\n",
    "    else:\n",
    "        t_stat, p_value = np.nan, np.nan\n",
    "\n",
    "    lbl_sents.append({\n",
    "        'label': lbl,\n",
    "        'mean_with_emoji': np.mean(lbl_sents_emoji[lbl]),\n",
    "        'std_with_emoji': np.std(lbl_sents_emoji[lbl]),\n",
    "        'mean_without_emoji': np.mean(lbl_sents_noemoji[lbl]),\n",
    "        'std_without_emoji': np.std(lbl_sents_noemoji[lbl]),\n",
    "        't_stat': t_stat,\n",
    "        'p_value': p_value\n",
    "    })\n",
    "\n",
    "df_lbl_sents = pd.DataFrame.from_records(lbl_sents)\n",
    "\n",
    "df_lbl_sents.to_excel(sentiments_dir / 'emetophobia_label_sent_statistics.xlsx', index=False)"
   ]
  }
 ],
 "metadata": {
  "kernelspec": {
   "display_name": "venv",
   "language": "python",
   "name": "python3"
  },
  "language_info": {
   "codemirror_mode": {
    "name": "ipython",
    "version": 3
   },
   "file_extension": ".py",
   "mimetype": "text/x-python",
   "name": "python",
   "nbconvert_exporter": "python",
   "pygments_lexer": "ipython3",
   "version": "3.12.3"
  }
 },
 "nbformat": 4,
 "nbformat_minor": 5
}
