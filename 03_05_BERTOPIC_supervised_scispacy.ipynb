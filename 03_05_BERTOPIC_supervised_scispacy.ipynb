{
 "cells": [
  {
   "cell_type": "code",
   "execution_count": 1,
   "id": "537f15cc",
   "metadata": {},
   "outputs": [
    {
     "name": "stderr",
     "output_type": "stream",
     "text": [
      "2025-06-16 17:51:00.790179: E external/local_xla/xla/stream_executor/cuda/cuda_fft.cc:467] Unable to register cuFFT factory: Attempting to register factory for plugin cuFFT when one has already been registered\n",
      "WARNING: All log messages before absl::InitializeLog() is called are written to STDERR\n",
      "E0000 00:00:1750085460.801397   32791 cuda_dnn.cc:8579] Unable to register cuDNN factory: Attempting to register factory for plugin cuDNN when one has already been registered\n",
      "E0000 00:00:1750085460.804710   32791 cuda_blas.cc:1407] Unable to register cuBLAS factory: Attempting to register factory for plugin cuBLAS when one has already been registered\n",
      "W0000 00:00:1750085460.814240   32791 computation_placer.cc:177] computation placer already registered. Please check linkage and avoid linking the same target more than once.\n",
      "W0000 00:00:1750085460.814252   32791 computation_placer.cc:177] computation placer already registered. Please check linkage and avoid linking the same target more than once.\n",
      "W0000 00:00:1750085460.814253   32791 computation_placer.cc:177] computation placer already registered. Please check linkage and avoid linking the same target more than once.\n",
      "W0000 00:00:1750085460.814255   32791 computation_placer.cc:177] computation placer already registered. Please check linkage and avoid linking the same target more than once.\n",
      "2025-06-16 17:51:00.817568: I tensorflow/core/platform/cpu_feature_guard.cc:210] This TensorFlow binary is optimized to use available CPU instructions in performance-critical operations.\n",
      "To enable the following instructions: AVX2 FMA, in other operations, rebuild TensorFlow with the appropriate compiler flags.\n"
     ]
    }
   ],
   "source": [
    "from tqdm import tqdm\n",
    "import json\n",
    "import pandas as pd\n",
    "from pathlib import Path\n",
    "import numpy as np\n",
    "\n",
    "from bertopic import BERTopic\n",
    "from sentence_transformers import SentenceTransformer\n",
    "from bertopic.vectorizers import ClassTfidfTransformer\n",
    "from bertopic.dimensionality import BaseDimensionalityReduction\n",
    "from sklearn.linear_model import LogisticRegression\n",
    "from sklearn.svm import SVC\n",
    "from sklearn.metrics import accuracy_score, f1_score, precision_score, recall_score, confusion_matrix\n",
    "import seaborn as sns\n",
    "import matplotlib.pyplot as plt  "
   ]
  },
  {
   "cell_type": "code",
   "execution_count": 2,
   "id": "a6325f05",
   "metadata": {},
   "outputs": [],
   "source": [
    "split_dir = Path('dataset') / 'scispacy_split'"
   ]
  },
  {
   "cell_type": "code",
   "execution_count": 3,
   "id": "b4742d6e",
   "metadata": {},
   "outputs": [
    {
     "data": {
      "text/plain": [
       "(400, 101, 400, 101, 400, 101)"
      ]
     },
     "execution_count": 3,
     "metadata": {},
     "output_type": "execute_result"
    }
   ],
   "source": [
    "X_train = np.load(split_dir / 'X_train.npy')\n",
    "X_train_sent = np.load(split_dir / 'X_train_sent.npy')\n",
    "X_test = np.load(split_dir / 'X_test.npy')\n",
    "X_test_sent = np.load(split_dir / 'X_test_sent.npy')\n",
    "y_train = np.load(split_dir / 'y_train.npy')\n",
    "y_test = np.load(split_dir / 'y_test.npy')\n",
    "\n",
    "len(X_train), len(X_test), len(y_train), len(y_test), len(X_train_sent), len(X_test_sent)"
   ]
  },
  {
   "cell_type": "code",
   "execution_count": 4,
   "id": "4635582c",
   "metadata": {},
   "outputs": [
    {
     "data": {
      "text/plain": [
       "('I mildly no choice car windy trip weekend opinion carsickness Meclizine',\n",
       " 'I sleeping days stomach’s burning pretzels I hungry acid reflux throat drink water I throat I panic')"
      ]
     },
     "execution_count": 4,
     "metadata": {},
     "output_type": "execute_result"
    }
   ],
   "source": [
    "X_train = [' '.join([w for w in row if w != '<PAD>']) for row in X_train]\n",
    "X_test = [' '.join([w for w in row if w != '<PAD>']) for row in X_test]\n",
    "\n",
    "X_train[0], X_test[0]"
   ]
  },
  {
   "cell_type": "code",
   "execution_count": 5,
   "id": "f77b2724",
   "metadata": {},
   "outputs": [],
   "source": [
    "# sent_transformer = SentenceTransformer('allenai/scibert_scivocab_uncased')\n",
    "sent_transformer = SentenceTransformer('sentence-transformers/all-MiniLM-L6-v2')"
   ]
  },
  {
   "cell_type": "code",
   "execution_count": 6,
   "id": "b9a435cf",
   "metadata": {},
   "outputs": [
    {
     "data": {
      "text/plain": [
       "(['positive', 'neutral', 'positive', 'neutral', 'neutral'],\n",
       " ['neutral', 'negative', 'negative', 'negative', 'negative'])"
      ]
     },
     "execution_count": 6,
     "metadata": {},
     "output_type": "execute_result"
    }
   ],
   "source": [
    "X_train_sent_final = []\n",
    "for row in X_train_sent:\n",
    "    row = float(row)\n",
    "    if row > 0.5:\n",
    "        X_train_sent_final.append('positive')\n",
    "    elif row < -0.5:\n",
    "        X_train_sent_final.append('negative')\n",
    "    else:\n",
    "        X_train_sent_final.append('neutral')\n",
    "\n",
    "X_test_sent_final = []\n",
    "for row in X_test_sent:\n",
    "    row = float(row)\n",
    "    if row > 0.5:\n",
    "        X_test_sent_final.append('positive')\n",
    "    elif row < -0.5:\n",
    "        X_test_sent_final.append('negative')\n",
    "    else:\n",
    "        X_test_sent_final.append('neutral')\n",
    "\n",
    "X_train_sent_final[:5], X_test_sent_final[:5]"
   ]
  },
  {
   "cell_type": "code",
   "execution_count": 7,
   "id": "10f63f44",
   "metadata": {},
   "outputs": [
    {
     "name": "stderr",
     "output_type": "stream",
     "text": [
      "100%|██████████| 400/400 [00:00<00:00, 1897875.11it/s]\n",
      "100%|██████████| 101/101 [00:00<00:00, 1362137.31it/s]\n"
     ]
    },
    {
     "data": {
      "text/plain": [
       "(['I mildly no choice car windy trip weekend opinion carsickness Meclizine positive',\n",
       "  'Ozempic insurance approval I anxious stomach issues people advice I nauseous neutral',\n",
       "  'I month I fruit very hungry I falafel salad nauseas bite dehydration anxiety I chew spit time meal snack swallow dry I guess I eating teacake hard to swallow I strawberry issue swallow freaks burp mucus food throat vomit anxiety eat dehydrated bananas I feel hungry stomach definitely thirsty next feeling nauseas positive',\n",
       "  'cheese boost fridge stomach cramps night anxious worse eating day neutral',\n",
       "  'anti nausea anti emetics success specific Zofran started reglan stomach experience feelings nausea brain neutral'],\n",
       " ['I sleeping days stomach’s burning pretzels I hungry acid reflux throat drink water I throat I panic neutral',\n",
       "  'sore throat stuffy nose screaming phone headache worsen day sore throat cough headache persisted stuffy nose. I graduation I very forgetful graduation I talk TU starved sickness teachers lifetime joy freedom from school day happy I sick I eat restaurant tray I graduation sucked graduation place I graduating terrible I walking standing shoot! sitting worsen diploma water walking stage damn drunk lost fool days sickness I hate nausea perspective Graduation sucked I missed day negative',\n",
       "  'condom broke Day cramps Day migraine nausea Diarrhoea mood swings anxiety Heavier bleeding period sore legs trigger Anxiety anxiety nausea physical symptoms group plan side effects days people weeks anxiety exhausting negative',\n",
       "  'I someone … I therapy years depression anxiety depression never grip anxiety therapist lexapro years anxious I health anxiety hypochondria fear nausea nauseous happy conversation nauseous love nauseous nauseous spiral die die death Throwing fainting hurts weak hurts feelings induce myself anxiety function function school anxious bones shaking I I dog worry bathroom negative',\n",
       "  'I wish I time I eating I I sick I eat negative'])"
      ]
     },
     "execution_count": 7,
     "metadata": {},
     "output_type": "execute_result"
    }
   ],
   "source": [
    "X_train_final = []\n",
    "for i in tqdm(range(len(X_train))):\n",
    "    X_train_final.append(X_train[i] + ' ' + X_train_sent_final[i])\n",
    "\n",
    "X_test_final = []\n",
    "for i in tqdm(range(len(X_test))):\n",
    "    X_test_final.append(X_test[i] + ' ' + X_test_sent_final[i])\n",
    "\n",
    "X_train_final[:5], X_test_final[:5]"
   ]
  },
  {
   "cell_type": "code",
   "execution_count": 8,
   "id": "166c0a67",
   "metadata": {},
   "outputs": [],
   "source": [
    "n_clusters = len(['Question', 'Needing support - Panic attack', 'Rant', 'Potentially Triggering', 'Does Anyone Else...?', 'Needing support: Just not feeling good'])"
   ]
  },
  {
   "cell_type": "code",
   "execution_count": 9,
   "id": "1b65e223",
   "metadata": {},
   "outputs": [],
   "source": [
    "labels_mapping = {\n",
    "    \"Question\": 0,\n",
    "    \"Needing support - Panic attack\": 1,\n",
    "    \"Rant\": 2,\n",
    "    \"Potentially Triggering\": 3,\n",
    "    \"Does Anyone Else...?\": 4,\n",
    "    \"Needing support: Just not feeling good\": 5\n",
    "}\n",
    "\n",
    "y_train_final = [labels_mapping[y] for y in y_train]\n",
    "y_test_final = [labels_mapping[y] for y in y_test]"
   ]
  },
  {
   "cell_type": "code",
   "execution_count": 10,
   "id": "13a2760e",
   "metadata": {},
   "outputs": [],
   "source": [
    "empty_dim_model = BaseDimensionalityReduction()\n",
    "clf = SVC(kernel='rbf', probability=True, random_state=42)\n",
    "ctfidf_model = ClassTfidfTransformer()\n",
    "\n",
    "topic_model = BERTopic(\n",
    "    umap_model= empty_dim_model,\n",
    "    hdbscan_model=clf,\n",
    "    ctfidf_model=ctfidf_model,\n",
    "    verbose=True,\n",
    "    calculate_probabilities=True,\n",
    "    embedding_model=sent_transformer\n",
    ")"
   ]
  },
  {
   "cell_type": "code",
   "execution_count": 11,
   "id": "661a433f",
   "metadata": {},
   "outputs": [],
   "source": [
    "y_train_final = np.array(y_train_final)\n",
    "y_test_final = np.array(y_test_final)"
   ]
  },
  {
   "cell_type": "code",
   "execution_count": 12,
   "id": "1c96baef",
   "metadata": {},
   "outputs": [
    {
     "name": "stderr",
     "output_type": "stream",
     "text": [
      "2025-06-16 17:51:08,826 - BERTopic - Embedding - Transforming documents to embeddings.\n"
     ]
    },
    {
     "data": {
      "application/vnd.jupyter.widget-view+json": {
       "model_id": "95fcf68125e34ceca27fafdd5e9e3a67",
       "version_major": 2,
       "version_minor": 0
      },
      "text/plain": [
       "Batches:   0%|          | 0/13 [00:00<?, ?it/s]"
      ]
     },
     "metadata": {},
     "output_type": "display_data"
    },
    {
     "name": "stderr",
     "output_type": "stream",
     "text": [
      "2025-06-16 17:51:09,181 - BERTopic - Embedding - Completed ✓\n",
      "2025-06-16 17:51:09,181 - BERTopic - Dimensionality - Fitting the dimensionality reduction algorithm\n",
      "2025-06-16 17:51:09,182 - BERTopic - Dimensionality - Completed ✓\n",
      "2025-06-16 17:51:09,183 - BERTopic - Cluster - Start clustering the reduced embeddings\n",
      "2025-06-16 17:51:09,279 - BERTopic - Cluster - Completed ✓\n",
      "2025-06-16 17:51:09,281 - BERTopic - Representation - Fine-tuning topics using representation models.\n",
      "2025-06-16 17:51:09,294 - BERTopic - Representation - Completed ✓\n"
     ]
    }
   ],
   "source": [
    "topics, probs = topic_model.fit_transform(X_train_final, y=y_train_final)\n",
    "\n"
   ]
  },
  {
   "cell_type": "code",
   "execution_count": 13,
   "id": "b4b19384",
   "metadata": {},
   "outputs": [
    {
     "data": {
      "application/vnd.jupyter.widget-view+json": {
       "model_id": "b4207e29aa144646be0c120b02537b92",
       "version_major": 2,
       "version_minor": 0
      },
      "text/plain": [
       "Batches:   0%|          | 0/4 [00:00<?, ?it/s]"
      ]
     },
     "metadata": {},
     "output_type": "display_data"
    },
    {
     "name": "stderr",
     "output_type": "stream",
     "text": [
      "2025-06-16 17:51:09,373 - BERTopic - Dimensionality - Reducing dimensionality of input embeddings.\n",
      "2025-06-16 17:51:09,374 - BERTopic - Dimensionality - Completed ✓\n",
      "2025-06-16 17:51:09,375 - BERTopic - Clustering - Approximating new points with `hdbscan_model`\n",
      "2025-06-16 17:51:09,381 - BERTopic - Cluster - Completed ✓\n"
     ]
    }
   ],
   "source": [
    "topics_test, probs_test = topic_model.transform(X_test_final)"
   ]
  },
  {
   "cell_type": "code",
   "execution_count": 14,
   "id": "ecd4400c",
   "metadata": {},
   "outputs": [
    {
     "name": "stdout",
     "output_type": "stream",
     "text": [
      "Accuracy: 0.3564\n",
      "F1 Score: 0.2786\n",
      "Precision: 0.2321\n",
      "Recall: 0.3564\n"
     ]
    }
   ],
   "source": [
    "acc = accuracy_score(y_test_final, topics_test)\n",
    "f1 = f1_score(y_test_final, topics_test, average='weighted')\n",
    "precision = precision_score(y_test_final, topics_test, average='weighted')\n",
    "recall = recall_score(y_test_final, topics_test, average='weighted')\n",
    "print(f\"Accuracy: {acc:.4f}\")\n",
    "print(f\"F1 Score: {f1:.4f}\")\n",
    "print(f\"Precision: {precision:.4f}\")\n",
    "print(f\"Recall: {recall:.4f}\")\n"
   ]
  },
  {
   "cell_type": "code",
   "execution_count": 15,
   "id": "19b0cac8",
   "metadata": {},
   "outputs": [
    {
     "data": {
      "image/png": "[encoded data removed]",
      "text/plain": [
       "<Figure size 640x480 with 2 Axes>"
      ]
     },
     "metadata": {},
     "output_type": "display_data"
    }
   ],
   "source": [
    "ax = sns.heatmap(confusion_matrix(y_test_final, topics_test), annot=True, fmt='d', cmap='Blues')"
   ]
  }
 ],
 "metadata": {
  "kernelspec": {
   "display_name": "venv",
   "language": "python",
   "name": "python3"
  },
  "language_info": {
   "codemirror_mode": {
    "name": "ipython",
    "version": 3
   },
   "file_extension": ".py",
   "mimetype": "text/x-python",
   "name": "python",
   "nbconvert_exporter": "python",
   "pygments_lexer": "ipython3",
   "version": "3.12.3"
  }
 },
 "nbformat": 4,
 "nbformat_minor": 5
}
