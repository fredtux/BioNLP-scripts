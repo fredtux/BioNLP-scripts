{
 "cells": [
  {
   "cell_type": "code",
   "execution_count": 7,
   "id": "fd8349ac",
   "metadata": {},
   "outputs": [],
   "source": [
    "from tqdm import tqdm\n",
    "import json\n",
    "import pandas as pd\n",
    "from pathlib import Path\n",
    "import numpy as np\n",
    "import emoji"
   ]
  },
  {
   "cell_type": "code",
   "execution_count": 8,
   "id": "0aaa92f9",
   "metadata": {},
   "outputs": [
    {
     "data": {
      "text/plain": [
       "986"
      ]
     },
     "execution_count": 8,
     "metadata": {},
     "output_type": "execute_result"
    }
   ],
   "source": [
    "posts_folder = Path('dataset') / 'emetophobia_posts'\n",
    "with open(posts_folder / 'emetophobia_all_posts_one_label_normalized.json', 'r') as f:\n",
    "    all_posts = json.load(f)\n",
    "\n",
    "len(all_posts)"
   ]
  },
  {
   "cell_type": "code",
   "execution_count": 9,
   "id": "94e4140f",
   "metadata": {},
   "outputs": [],
   "source": [
    "ner_dir = Path('ner')"
   ]
  },
  {
   "cell_type": "code",
   "execution_count": 10,
   "id": "6a0a5811",
   "metadata": {},
   "outputs": [
    {
     "name": "stderr",
     "output_type": "stream",
     "text": [
      "Device set to use cuda:0\n"
     ]
    }
   ],
   "source": [
    "from transformers import pipeline\n",
    "\n",
    "pipe = pipeline(\"token-classification\", model=\"d4data/biomedical-ner-all\", aggregation_strategy='simple')"
   ]
  },
  {
   "cell_type": "code",
   "execution_count": 11,
   "id": "1f7d194e",
   "metadata": {},
   "outputs": [],
   "source": [
    "def minimal_normalziation_noemoji(text):\n",
    "    text = text.replace('\\n', ' ')\n",
    "    text = text.replace('\\r', ' ')\n",
    "    text = emoji.replace_emoji(text, replace='')\n",
    "    return text.strip()"
   ]
  },
  {
   "cell_type": "code",
   "execution_count": 12,
   "id": "255bae2b",
   "metadata": {},
   "outputs": [
    {
     "name": "stderr",
     "output_type": "stream",
     "text": [
      "100%|██████████| 986/986 [00:07<00:00, 124.94it/s]\n"
     ]
    }
   ],
   "source": [
    "for post in tqdm(all_posts):\n",
    "    post['entities'] = [[e['word'], e['entity_group']] for e in pipe(minimal_normalziation_noemoji(post['content'])) if e['score'] > 0.5]"
   ]
  },
  {
   "cell_type": "markdown",
   "id": "ec50766e",
   "metadata": {},
   "source": [
    "## Top entities"
   ]
  },
  {
   "cell_type": "code",
   "execution_count": 13,
   "id": "80f1b48b",
   "metadata": {},
   "outputs": [],
   "source": [
    "from collections import Counter"
   ]
  },
  {
   "cell_type": "code",
   "execution_count": 14,
   "id": "77ff9b7b",
   "metadata": {},
   "outputs": [
    {
     "name": "stderr",
     "output_type": "stream",
     "text": [
      "100%|██████████| 986/986 [00:00<00:00, 210430.15it/s]\n"
     ]
    }
   ],
   "source": [
    "counter = Counter()\n",
    "for post in tqdm(all_posts):\n",
    "    for ent, ent_group in post['entities']:\n",
    "        counter[ent_group] += 1"
   ]
  },
  {
   "cell_type": "code",
   "execution_count": 15,
   "id": "652b6fae",
   "metadata": {},
   "outputs": [
    {
     "data": {
      "text/plain": [
       "[('Sign_symptom', 4069),\n",
       " ('Activity', 1271),\n",
       " ('Detailed_description', 1199),\n",
       " ('Time', 536),\n",
       " ('Medication', 449),\n",
       " ('Subject', 435),\n",
       " ('Disease_disorder', 424),\n",
       " ('Biological_structure', 389),\n",
       " ('Duration', 384),\n",
       " ('Nonbiological_location', 366),\n",
       " ('History', 337),\n",
       " ('Therapeutic_procedure', 292),\n",
       " ('Lab_value', 272),\n",
       " ('Coreference', 271),\n",
       " ('Frequency', 226),\n",
       " ('Diagnostic_procedure', 182),\n",
       " ('Clinical_event', 160),\n",
       " ('Date', 128),\n",
       " ('Severity', 91),\n",
       " ('Other_entity', 72)]"
      ]
     },
     "execution_count": 15,
     "metadata": {},
     "output_type": "execute_result"
    }
   ],
   "source": [
    "counter.most_common(20)"
   ]
  },
  {
   "cell_type": "markdown",
   "id": "996159ea",
   "metadata": {},
   "source": [
    "## Top entities per label"
   ]
  },
  {
   "cell_type": "code",
   "execution_count": 16,
   "id": "55d8a8f1",
   "metadata": {},
   "outputs": [
    {
     "name": "stderr",
     "output_type": "stream",
     "text": [
      "100%|██████████| 986/986 [00:00<00:00, 1630750.69it/s]\n"
     ]
    },
    {
     "data": {
      "text/plain": [
       "{'Does Anyone Else...?',\n",
       " 'Interesting info/Articles',\n",
       " 'It Happened (TW)',\n",
       " 'Moderator',\n",
       " 'Needing Support - Anxious about FP',\n",
       " 'Needing Support - In Acute Crisis (at risk of self injury)',\n",
       " 'Needing Support - N, V, D etc',\n",
       " 'Needing Support - N, V, D etc NO REASSURANCE',\n",
       " 'Needing Support - Non-Emet related',\n",
       " 'Needing support - Panic attack',\n",
       " 'Needing support: Just not feeling good',\n",
       " 'None',\n",
       " 'Positive Reminder',\n",
       " 'Potentially Triggering',\n",
       " 'Question',\n",
       " 'Rant',\n",
       " 'Recovery',\n",
       " 'Success!',\n",
       " 'Techniques, tips and tricks',\n",
       " 'Therapy info!',\n",
       " 'Venting - Advice wanted',\n",
       " 'Venting - No advice please'}"
      ]
     },
     "execution_count": 16,
     "metadata": {},
     "output_type": "execute_result"
    }
   ],
   "source": [
    "labels = set()\n",
    "for post in tqdm(all_posts):\n",
    "    labels.update([post['labels']])\n",
    "labels"
   ]
  },
  {
   "cell_type": "code",
   "execution_count": 17,
   "id": "5ce3ad57",
   "metadata": {},
   "outputs": [
    {
     "name": "stdout",
     "output_type": "stream",
     "text": [
      "Needing Support - N, V, D etc\n",
      "[('Sign_symptom', 195), ('Activity', 44), ('Time', 40), ('Detailed_description', 30), ('Nonbiological_location', 28)]\n",
      "\n",
      "\n",
      "Does Anyone Else...?\n",
      "[('Sign_symptom', 399), ('Activity', 112), ('Detailed_description', 96), ('Coreference', 49), ('Time', 34)]\n",
      "\n",
      "\n",
      "Venting - Advice wanted\n",
      "[('Sign_symptom', 210), ('Activity', 52), ('Detailed_description', 40), ('Disease_disorder', 24), ('Subject', 24)]\n",
      "\n",
      "\n",
      "Needing Support - Non-Emet related\n",
      "[('Sign_symptom', 10), ('Activity', 3), ('Medication', 3), ('Time', 3), ('Biological_structure', 2)]\n",
      "\n",
      "\n",
      "Needing Support - N, V, D etc NO REASSURANCE\n",
      "[('Sign_symptom', 10), ('Disease_disorder', 4), ('Therapeutic_procedure', 3), ('Other_event', 2), ('Activity', 2)]\n",
      "\n",
      "\n",
      "Potentially Triggering\n",
      "[('Sign_symptom', 367), ('Detailed_description', 120), ('Activity', 117), ('Subject', 50), ('Time', 44)]\n",
      "\n",
      "\n",
      "Rant\n",
      "[('Sign_symptom', 559), ('Activity', 217), ('Detailed_description', 138), ('Subject', 81), ('Time', 62)]\n",
      "\n",
      "\n",
      "Venting - No advice please\n",
      "[('Subject', 11), ('Sign_symptom', 10), ('Nonbiological_location', 2), ('Activity', 1)]\n",
      "\n",
      "\n",
      "Needing Support - Anxious about FP\n",
      "[('Sign_symptom', 62), ('Detailed_description', 60), ('Activity', 52), ('Coreference', 20), ('Time', 18)]\n",
      "\n",
      "\n",
      "Success!\n",
      "[('Sign_symptom', 180), ('Detailed_description', 64), ('Activity', 61), ('Duration', 31), ('Disease_disorder', 26)]\n",
      "\n",
      "\n",
      "Question\n",
      "[('Sign_symptom', 452), ('Activity', 200), ('Detailed_description', 159), ('Medication', 81), ('Disease_disorder', 74)]\n",
      "\n",
      "\n",
      "Techniques, tips and tricks\n",
      "[('Sign_symptom', 51), ('Detailed_description', 21), ('Activity', 18), ('Medication', 14), ('Disease_disorder', 13)]\n",
      "\n",
      "\n",
      "Needing support - Panic attack\n",
      "[('Sign_symptom', 748), ('Detailed_description', 247), ('Activity', 190), ('Time', 116), ('Biological_structure', 89)]\n",
      "\n",
      "\n",
      "Therapy info!\n",
      "[('Detailed_description', 4), ('Sign_symptom', 3), ('Therapeutic_procedure', 2), ('Duration', 2), ('Frequency', 2)]\n",
      "\n",
      "\n",
      "None\n",
      "[('Sign_symptom', 23), ('Detailed_description', 12), ('Activity', 10), ('History', 5)]\n",
      "\n",
      "\n",
      "Moderator\n",
      "[('Sign_symptom', 9), ('Disease_disorder', 2), ('Date', 1)]\n",
      "\n",
      "\n",
      "Recovery\n",
      "[('Sign_symptom', 43), ('Activity', 11), ('Therapeutic_procedure', 9), ('Detailed_description', 9), ('Disease_disorder', 8)]\n",
      "\n",
      "\n",
      "Interesting info/Articles\n",
      "[('Clinical_event', 2), ('Disease_disorder', 2), ('Coreference', 1), ('Date', 1), ('Family_history', 1)]\n",
      "\n",
      "\n",
      "Needing support: Just not feeling good\n",
      "[('Sign_symptom', 372), ('Activity', 107), ('Detailed_description', 103), ('Time', 78), ('Medication', 51)]\n",
      "\n",
      "\n",
      "It Happened (TW)\n",
      "[('Sign_symptom', 71), ('Detailed_description', 22), ('Activity', 13), ('Time', 13), ('History', 11)]\n",
      "\n",
      "\n",
      "Positive Reminder\n",
      "[('Sign_symptom', 28), ('Activity', 23), ('Detailed_description', 11), ('Medication', 8), ('History', 5)]\n",
      "\n",
      "\n",
      "Needing Support - In Acute Crisis (at risk of self injury)\n",
      "[('Sign_symptom', 276), ('Detailed_description', 61), ('Time', 48), ('Biological_structure', 44), ('Activity', 38)]\n",
      "\n",
      "\n"
     ]
    }
   ],
   "source": [
    "for label in labels:\n",
    "    print(label)\n",
    "    lbl_counter = Counter()\n",
    "    for post in all_posts:\n",
    "        if label in post['labels']:\n",
    "            for ent, ent_group in post['entities']:\n",
    "                lbl_counter[ent_group] += 1\n",
    "    print(f\"{lbl_counter.most_common(5)}\\n\\n\")"
   ]
  },
  {
   "cell_type": "markdown",
   "id": "678d025d",
   "metadata": {},
   "source": [
    "## Total entities per label"
   ]
  },
  {
   "cell_type": "code",
   "execution_count": 18,
   "id": "348b208d",
   "metadata": {},
   "outputs": [
    {
     "name": "stdout",
     "output_type": "stream",
     "text": [
      "Needing Support - N, V, D etc: 530 entities\n",
      "Does Anyone Else...?: 966 entities\n",
      "Venting - Advice wanted: 544 entities\n",
      "Needing Support - Non-Emet related: 30 entities\n",
      "Needing Support - N, V, D etc NO REASSURANCE: 28 entities\n",
      "Potentially Triggering: 1120 entities\n",
      "Rant: 1657 entities\n",
      "Venting - No advice please: 24 entities\n",
      "Needing Support - Anxious about FP: 340 entities\n",
      "Success!: 548 entities\n",
      "Question: 1578 entities\n",
      "Techniques, tips and tricks: 173 entities\n",
      "Needing support - Panic attack: 2101 entities\n",
      "Therapy info!: 24 entities\n",
      "None: 50 entities\n",
      "Moderator: 12 entities\n",
      "Recovery: 129 entities\n",
      "Interesting info/Articles: 10 entities\n",
      "Needing support: Just not feeling good: 1000 entities\n",
      "It Happened (TW): 199 entities\n",
      "Positive Reminder: 101 entities\n",
      "Needing Support - In Acute Crisis (at risk of self injury): 692 entities\n"
     ]
    }
   ],
   "source": [
    "for label in labels:\n",
    "    lbl_counter = 0\n",
    "    for post in all_posts:\n",
    "        if label in post['labels']:\n",
    "            lbl_counter += len(post['entities'])\n",
    "    \n",
    "    print(f\"{label}: {lbl_counter} entities\")"
   ]
  },
  {
   "cell_type": "markdown",
   "id": "a59d2563",
   "metadata": {},
   "source": [
    "## Statistics entities per post"
   ]
  },
  {
   "cell_type": "code",
   "execution_count": 19,
   "id": "1eb9cc70",
   "metadata": {},
   "outputs": [
    {
     "name": "stderr",
     "output_type": "stream",
     "text": [
      "100%|██████████| 986/986 [00:00<00:00, 2722569.94it/s]"
     ]
    },
    {
     "name": "stdout",
     "output_type": "stream",
     "text": [
      "Mean number of entities per post: 11.995943204868155\n",
      "Median number of entities per post: 10.0\n",
      "Max number of entities per post: 56\n",
      "Min number of entities per post: 0\n",
      "Stdev number of entities per post: 8.0226595781395\n"
     ]
    },
    {
     "name": "stderr",
     "output_type": "stream",
     "text": [
      "\n"
     ]
    }
   ],
   "source": [
    "all_num_entities = []\n",
    "\n",
    "for post in tqdm(all_posts):\n",
    "    all_num_entities.append(len(post['entities']))\n",
    "\n",
    "all_num_entities = np.array(all_num_entities)\n",
    "print(f\"Mean number of entities per post: {np.mean(all_num_entities)}\")\n",
    "print(f\"Median number of entities per post: {np.median(all_num_entities)}\")\n",
    "print(f\"Max number of entities per post: {np.max(all_num_entities)}\")\n",
    "print(f\"Min number of entities per post: {np.min(all_num_entities)}\")\n",
    "print(f\"Stdev number of entities per post: {np.std(all_num_entities)}\")"
   ]
  },
  {
   "cell_type": "markdown",
   "id": "a705965a",
   "metadata": {},
   "source": [
    "## Statistics entities per label"
   ]
  },
  {
   "cell_type": "code",
   "execution_count": 20,
   "id": "1abbc079",
   "metadata": {},
   "outputs": [
    {
     "name": "stdout",
     "output_type": "stream",
     "text": [
      "Needing Support - N, V, D etc\n",
      "Mean number of entities per post: 12.325581395348838\n",
      "Median number of entities per post: 10.0\n",
      "Max number of entities per post: 35\n",
      "Min number of entities per post: 1\n",
      "Stdev number of entities per post: 7.099691870918023\n",
      "\n",
      "\n",
      "\n",
      "Does Anyone Else...?\n",
      "Mean number of entities per post: 12.384615384615385\n",
      "Median number of entities per post: 9.0\n",
      "Max number of entities per post: 53\n",
      "Min number of entities per post: 0\n",
      "Stdev number of entities per post: 9.719437001251759\n",
      "\n",
      "\n",
      "\n",
      "Venting - Advice wanted\n",
      "Mean number of entities per post: 12.952380952380953\n",
      "Median number of entities per post: 11.5\n",
      "Max number of entities per post: 32\n",
      "Min number of entities per post: 2\n",
      "Stdev number of entities per post: 7.705756601869555\n",
      "\n",
      "\n",
      "\n",
      "Needing Support - Non-Emet related\n",
      "Mean number of entities per post: 7.5\n",
      "Median number of entities per post: 8.5\n",
      "Max number of entities per post: 9\n",
      "Min number of entities per post: 4\n",
      "Stdev number of entities per post: 2.0615528128088303\n",
      "\n",
      "\n",
      "\n",
      "Needing Support - N, V, D etc NO REASSURANCE\n",
      "Mean number of entities per post: 9.333333333333334\n",
      "Median number of entities per post: 10.0\n",
      "Max number of entities per post: 14\n",
      "Min number of entities per post: 4\n",
      "Stdev number of entities per post: 4.109609335312651\n",
      "\n",
      "\n",
      "\n",
      "Potentially Triggering\n",
      "Mean number of entities per post: 13.333333333333334\n",
      "Median number of entities per post: 11.0\n",
      "Max number of entities per post: 42\n",
      "Min number of entities per post: 1\n",
      "Stdev number of entities per post: 8.015362234236937\n",
      "\n",
      "\n",
      "\n",
      "Rant\n",
      "Mean number of entities per post: 12.365671641791044\n",
      "Median number of entities per post: 11.0\n",
      "Max number of entities per post: 56\n",
      "Min number of entities per post: 0\n",
      "Stdev number of entities per post: 8.400018696475389\n",
      "\n",
      "\n",
      "\n",
      "Venting - No advice please\n",
      "Mean number of entities per post: 24.0\n",
      "Median number of entities per post: 24.0\n",
      "Max number of entities per post: 24\n",
      "Min number of entities per post: 24\n",
      "Stdev number of entities per post: 0.0\n",
      "\n",
      "\n",
      "\n",
      "Needing Support - Anxious about FP\n",
      "Mean number of entities per post: 10.96774193548387\n",
      "Median number of entities per post: 9.0\n",
      "Max number of entities per post: 28\n",
      "Min number of entities per post: 4\n",
      "Stdev number of entities per post: 5.521125825863382\n",
      "\n",
      "\n",
      "\n",
      "Success!\n",
      "Mean number of entities per post: 14.421052631578947\n",
      "Median number of entities per post: 14.5\n",
      "Max number of entities per post: 37\n",
      "Min number of entities per post: 1\n",
      "Stdev number of entities per post: 7.969123239588923\n",
      "\n",
      "\n",
      "\n",
      "Question\n",
      "Mean number of entities per post: 8.176165803108809\n",
      "Median number of entities per post: 7.0\n",
      "Max number of entities per post: 24\n",
      "Min number of entities per post: 0\n",
      "Stdev number of entities per post: 5.695198578920523\n",
      "\n",
      "\n",
      "\n",
      "Techniques, tips and tricks\n",
      "Mean number of entities per post: 9.61111111111111\n",
      "Median number of entities per post: 10.0\n",
      "Max number of entities per post: 27\n",
      "Min number of entities per post: 1\n",
      "Stdev number of entities per post: 6.676150661445635\n",
      "\n",
      "\n",
      "\n",
      "Needing support - Panic attack\n",
      "Mean number of entities per post: 13.913907284768213\n",
      "Median number of entities per post: 12.0\n",
      "Max number of entities per post: 40\n",
      "Min number of entities per post: 1\n",
      "Stdev number of entities per post: 7.87648053766897\n",
      "\n",
      "\n",
      "\n",
      "Therapy info!\n",
      "Mean number of entities per post: 8.0\n",
      "Median number of entities per post: 8.0\n",
      "Max number of entities per post: 10\n",
      "Min number of entities per post: 6\n",
      "Stdev number of entities per post: 1.632993161855452\n",
      "\n",
      "\n",
      "\n",
      "None\n",
      "Mean number of entities per post: 3.125\n",
      "Median number of entities per post: 3.0\n",
      "Max number of entities per post: 5\n",
      "Min number of entities per post: 1\n",
      "Stdev number of entities per post: 1.653594569415369\n",
      "\n",
      "\n",
      "\n",
      "Moderator\n",
      "Mean number of entities per post: 12.0\n",
      "Median number of entities per post: 12.0\n",
      "Max number of entities per post: 12\n",
      "Min number of entities per post: 12\n",
      "Stdev number of entities per post: 0.0\n",
      "\n",
      "\n",
      "\n",
      "Recovery\n",
      "Mean number of entities per post: 11.727272727272727\n",
      "Median number of entities per post: 8.0\n",
      "Max number of entities per post: 26\n",
      "Min number of entities per post: 2\n",
      "Stdev number of entities per post: 7.299949054503539\n",
      "\n",
      "\n",
      "\n",
      "Interesting info/Articles\n",
      "Mean number of entities per post: 3.3333333333333335\n",
      "Median number of entities per post: 3.0\n",
      "Max number of entities per post: 5\n",
      "Min number of entities per post: 2\n",
      "Stdev number of entities per post: 1.247219128924647\n",
      "\n",
      "\n",
      "\n",
      "Needing support: Just not feeling good\n",
      "Mean number of entities per post: 13.698630136986301\n",
      "Median number of entities per post: 13.0\n",
      "Max number of entities per post: 36\n",
      "Min number of entities per post: 2\n",
      "Stdev number of entities per post: 7.771893391613051\n",
      "\n",
      "\n",
      "\n",
      "It Happened (TW)\n",
      "Mean number of entities per post: 16.583333333333332\n",
      "Median number of entities per post: 13.5\n",
      "Max number of entities per post: 35\n",
      "Min number of entities per post: 7\n",
      "Stdev number of entities per post: 8.9485411598142\n",
      "\n",
      "\n",
      "\n",
      "Positive Reminder\n",
      "Mean number of entities per post: 20.2\n",
      "Median number of entities per post: 22.0\n",
      "Max number of entities per post: 36\n",
      "Min number of entities per post: 9\n",
      "Stdev number of entities per post: 9.474175425861608\n",
      "\n",
      "\n",
      "\n",
      "Needing Support - In Acute Crisis (at risk of self injury)\n",
      "Mean number of entities per post: 15.377777777777778\n",
      "Median number of entities per post: 14.0\n",
      "Max number of entities per post: 56\n",
      "Min number of entities per post: 2\n",
      "Stdev number of entities per post: 8.54605533146112\n",
      "\n",
      "\n",
      "\n"
     ]
    }
   ],
   "source": [
    "lbl_dict = {}\n",
    "\n",
    "for label in labels:\n",
    "    print(label)\n",
    "    lbl_num_entities = []\n",
    "    for post in all_posts:\n",
    "        if label in post['labels']:\n",
    "            lbl_num_entities.append(len(post['entities']))\n",
    "    lbl_num_entities = np.array(lbl_num_entities)\n",
    "\n",
    "    lbl_dict[label] = {\n",
    "        'mean': np.mean(lbl_num_entities),\n",
    "        'median': np.median(lbl_num_entities),\n",
    "        'max': np.max(lbl_num_entities),\n",
    "        'min': np.min(lbl_num_entities),\n",
    "        'stdev': np.std(lbl_num_entities),\n",
    "        'num_posts': len(lbl_num_entities)\n",
    "    }\n",
    "\n",
    "    print(f\"Mean number of entities per post: {np.mean(lbl_num_entities)}\")\n",
    "    print(f\"Median number of entities per post: {np.median(lbl_num_entities)}\")\n",
    "    print(f\"Max number of entities per post: {np.max(lbl_num_entities)}\")\n",
    "    print(f\"Min number of entities per post: {np.min(lbl_num_entities)}\")\n",
    "    print(f\"Stdev number of entities per post: {np.std(lbl_num_entities)}\")\n",
    "    print(\"\\n\\n\")"
   ]
  },
  {
   "cell_type": "code",
   "execution_count": 21,
   "id": "a125ba1d",
   "metadata": {},
   "outputs": [],
   "source": [
    "df_lbl_scispacy = pd.DataFrame.from_dict(lbl_dict, orient='index')\n",
    "\n",
    "df_lbl_scispacy.to_excel(ner_dir / 'emetophobia_labels_ner_biobert.xlsx', index=True, index_label='label')"
   ]
  },
  {
   "cell_type": "code",
   "execution_count": 22,
   "id": "c323319c",
   "metadata": {},
   "outputs": [],
   "source": [
    "with open(ner_dir / 'emetophobia_posts_ner_biobert.json', 'w') as f:\n",
    "    json.dump(all_posts, f, indent=4)"
   ]
  },
  {
   "cell_type": "markdown",
   "id": "7a74610b",
   "metadata": {},
   "source": [
    "## Posts with 0 entities"
   ]
  },
  {
   "cell_type": "code",
   "execution_count": 23,
   "id": "10f0793b",
   "metadata": {},
   "outputs": [
    {
     "name": "stderr",
     "output_type": "stream",
     "text": [
      "100%|██████████| 986/986 [00:00<00:00, 1905798.96it/s]\n"
     ]
    },
    {
     "data": {
      "text/plain": [
       "7"
      ]
     },
     "execution_count": 23,
     "metadata": {},
     "output_type": "execute_result"
    }
   ],
   "source": [
    "posts_0_ents = []\n",
    "\n",
    "for post in tqdm(all_posts):\n",
    "    if len(post['entities']) == 0:\n",
    "        posts_0_ents.append(post['content'])\n",
    "\n",
    "len(posts_0_ents)"
   ]
  },
  {
   "cell_type": "code",
   "execution_count": 24,
   "id": "11577cd2",
   "metadata": {},
   "outputs": [],
   "source": [
    "df_posts_0_ents = pd.DataFrame(posts_0_ents, columns=['content'])\n",
    "df_posts_0_ents.to_excel(ner_dir / 'emetophobia_posts_0_entities_biobert.xlsx', index=False)"
   ]
  }
 ],
 "metadata": {
  "kernelspec": {
   "display_name": "venv",
   "language": "python",
   "name": "python3"
  },
  "language_info": {
   "codemirror_mode": {
    "name": "ipython",
    "version": 3
   },
   "file_extension": ".py",
   "mimetype": "text/x-python",
   "name": "python",
   "nbconvert_exporter": "python",
   "pygments_lexer": "ipython3",
   "version": "3.12.3"
  }
 },
 "nbformat": 4,
 "nbformat_minor": 5
}
