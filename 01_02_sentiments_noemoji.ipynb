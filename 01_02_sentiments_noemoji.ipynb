{
 "cells": [
  {
   "cell_type": "code",
   "execution_count": 1,
   "id": "7b0fcf5a",
   "metadata": {},
   "outputs": [],
   "source": [
    "from tqdm import tqdm\n",
    "import json\n",
    "import pandas as pd\n",
    "from pathlib import Path\n",
    "import numpy as np\n",
    "import emoji\n",
    "import re"
   ]
  },
  {
   "cell_type": "code",
   "execution_count": 2,
   "id": "83cbca0c",
   "metadata": {},
   "outputs": [
    {
     "name": "stderr",
     "output_type": "stream",
     "text": [
      "100%|██████████| 986/986 [00:00<00:00, 2863977.66it/s]\n"
     ]
    },
    {
     "data": {
      "text/plain": [
       "986"
      ]
     },
     "execution_count": 2,
     "metadata": {},
     "output_type": "execute_result"
    }
   ],
   "source": [
    "posts_folder = Path('dataset') / 'emetophobia_posts'\n",
    "with open(posts_folder / 'emetophobia_all_posts_one_label_normalized.json', 'r') as f:\n",
    "    all_posts = json.load(f)\n",
    "\n",
    "for post in tqdm(all_posts):\n",
    "    post['content_emoji'] = post['content']\n",
    "len(all_posts)"
   ]
  },
  {
   "cell_type": "code",
   "execution_count": 3,
   "id": "b71b3266",
   "metadata": {},
   "outputs": [],
   "source": [
    "def minimal_normalziation_noemoji(text):\n",
    "    text = text.replace('\\n', ' ')\n",
    "    text = text.replace('\\r', ' ')\n",
    "    text = emoji.replace_emoji(text, replace='')\n",
    "    return text.strip()"
   ]
  },
  {
   "cell_type": "code",
   "execution_count": 4,
   "id": "c331f5eb",
   "metadata": {},
   "outputs": [
    {
     "name": "stderr",
     "output_type": "stream",
     "text": [
      "100%|██████████| 986/986 [00:00<00:00, 3116.18it/s]\n"
     ]
    }
   ],
   "source": [
    "for post in tqdm(all_posts):\n",
    "    post['content'] = minimal_normalziation_noemoji(post['content'])"
   ]
  },
  {
   "cell_type": "code",
   "execution_count": 5,
   "id": "7800cdce",
   "metadata": {},
   "outputs": [],
   "source": [
    "from vaderSentiment.vaderSentiment import SentimentIntensityAnalyzer"
   ]
  },
  {
   "cell_type": "code",
   "execution_count": 6,
   "id": "39bb368c",
   "metadata": {},
   "outputs": [],
   "source": [
    "analyzer = SentimentIntensityAnalyzer()"
   ]
  },
  {
   "cell_type": "code",
   "execution_count": 7,
   "id": "7d6274b7",
   "metadata": {},
   "outputs": [
    {
     "name": "stderr",
     "output_type": "stream",
     "text": [
      "100%|██████████| 986/986 [00:00<00:00, 1600.57it/s]\n"
     ]
    }
   ],
   "source": [
    "for post in tqdm(all_posts):\n",
    "    post['sentiment'] = analyzer.polarity_scores(post['content'])"
   ]
  },
  {
   "cell_type": "code",
   "execution_count": 8,
   "id": "a5356f3d",
   "metadata": {},
   "outputs": [],
   "source": [
    "def extract_emojis(text):\n",
    "    return [c for c in text if c in emoji.EMOJI_DATA]"
   ]
  },
  {
   "cell_type": "code",
   "execution_count": 9,
   "id": "bf9bc87a",
   "metadata": {},
   "outputs": [
    {
     "name": "stderr",
     "output_type": "stream",
     "text": [
      "100%|██████████| 986/986 [00:00<00:00, 3304.74it/s]\n"
     ]
    }
   ],
   "source": [
    "for post in tqdm(all_posts):\n",
    "    post['emojis'] = extract_emojis(post['content_emoji'])\n",
    "    post['emoji_count'] = emoji.emoji_count(post['content_emoji'])"
   ]
  },
  {
   "cell_type": "code",
   "execution_count": 10,
   "id": "89853b68",
   "metadata": {},
   "outputs": [],
   "source": [
    "emotions_dir = Path('sentiments')\n",
    "with open(emotions_dir / 'emetophobia_posts_sent_noemoji.json', 'w') as f:\n",
    "    json.dump(all_posts, f, indent=4)"
   ]
  },
  {
   "cell_type": "code",
   "execution_count": 11,
   "id": "c5bcc985",
   "metadata": {},
   "outputs": [
    {
     "name": "stderr",
     "output_type": "stream",
     "text": [
      "100%|██████████| 986/986 [00:00<00:00, 2645926.90it/s]\n"
     ]
    },
    {
     "data": {
      "text/plain": [
       "82"
      ]
     },
     "execution_count": 11,
     "metadata": {},
     "output_type": "execute_result"
    }
   ],
   "source": [
    "emoji_dict = {}\n",
    "\n",
    "for post in tqdm(all_posts):\n",
    "    for emo in post['emojis']:\n",
    "        if emo not in emoji_dict:\n",
    "            emoji_dict[emo] = [post['sentiment']['compound']]\n",
    "        emoji_dict[emo].append(post['sentiment']['compound'])\n",
    "\n",
    "len(emoji_dict)"
   ]
  },
  {
   "cell_type": "code",
   "execution_count": 13,
   "id": "da75dd62",
   "metadata": {},
   "outputs": [],
   "source": [
    "with open(emotions_dir / 'emetophobia_posts_noemoji_sentiment.json', 'w') as f:\n",
    "    json.dump(emoji_dict, f, indent=4)"
   ]
  },
  {
   "cell_type": "code",
   "execution_count": 12,
   "id": "1c32561c",
   "metadata": {},
   "outputs": [],
   "source": [
    "for k, v in emoji_dict.items():\n",
    "    emoji_dict[k] = {\n",
    "        \"min\": np.min(v),\n",
    "        \"max\": np.max(v),\n",
    "        \"mean\": np.mean(v),\n",
    "        \"std\": np.std(v),\n",
    "        'nums': len(v)\n",
    "    }"
   ]
  },
  {
   "cell_type": "code",
   "execution_count": 13,
   "id": "111d87d8",
   "metadata": {},
   "outputs": [
    {
     "data": {
      "text/plain": [
       "{'😭': {'min': -0.9954,\n",
       "  'max': 0.9876,\n",
       "  'mean': -0.44498131868131874,\n",
       "  'std': 0.6646320085535043,\n",
       "  'nums': 91},\n",
       " '😣': {'min': -0.9616,\n",
       "  'max': -0.624,\n",
       "  'mean': -0.7598000000000001,\n",
       "  'std': 0.13975206617435035,\n",
       "  'nums': 6},\n",
       " '😔': {'min': -0.9246,\n",
       "  'max': -0.0799,\n",
       "  'mean': -0.5935999999999999,\n",
       "  'std': 0.3227668508381863,\n",
       "  'nums': 8},\n",
       " '😳': {'min': -0.8317, 'max': -0.8317, 'mean': -0.8317, 'std': 0.0, 'nums': 2},\n",
       " '🥹': {'min': -0.9926,\n",
       "  'max': -0.9433,\n",
       "  'mean': -0.9761666666666667,\n",
       "  'std': 0.023240242874997867,\n",
       "  'nums': 3},\n",
       " '♥': {'min': -0.9926, 'max': -0.9926, 'mean': -0.9926, 'std': 0.0, 'nums': 2},\n",
       " '😅': {'min': 0.8087,\n",
       "  'max': 0.9892,\n",
       "  'mean': 0.891575,\n",
       "  'std': 0.08352871886363396,\n",
       "  'nums': 4},\n",
       " '\\U0001fae9': {'min': -0.8558,\n",
       "  'max': -0.7171,\n",
       "  'mean': -0.7825249999999999,\n",
       "  'std': 0.06566004778402161,\n",
       "  'nums': 4},\n",
       " '😞': {'min': -0.9278,\n",
       "  'max': 0.2944,\n",
       "  'mean': -0.58858,\n",
       "  'std': 0.4718585059104053,\n",
       "  'nums': 5},\n",
       " '🫶': {'min': -0.9851,\n",
       "  'max': 0.9505,\n",
       "  'mean': 0.5994916666666666,\n",
       "  'std': 0.6146652347122692,\n",
       "  'nums': 12},\n",
       " '😢': {'min': -0.9465, 'max': -0.9465, 'mean': -0.9465, 'std': 0.0, 'nums': 2},\n",
       " '🫠': {'min': -0.9818,\n",
       "  'max': -0.9332,\n",
       "  'mean': -0.9494000000000001,\n",
       "  'std': 0.02291025971044413,\n",
       "  'nums': 3},\n",
       " '✨': {'min': 0.4184,\n",
       "  'max': 0.8281,\n",
       "  'mean': 0.66422,\n",
       "  'std': 0.2007111895236536,\n",
       "  'nums': 5},\n",
       " '😂': {'min': -0.8412,\n",
       "  'max': 0.9406,\n",
       "  'mean': -0.14665,\n",
       "  'std': 0.5760623020414836,\n",
       "  'nums': 6},\n",
       " '🥲': {'min': -0.9867,\n",
       "  'max': -0.7619,\n",
       "  'mean': -0.8841,\n",
       "  'std': 0.07103385734203717,\n",
       "  'nums': 9},\n",
       " '💪': {'min': 0.9013,\n",
       "  'max': 0.9765,\n",
       "  'mean': 0.912042857142857,\n",
       "  'std': 0.026314518379613586,\n",
       "  'nums': 7},\n",
       " '🤷': {'min': 0.6936, 'max': 0.6936, 'mean': 0.6936, 'std': 0.0, 'nums': 2},\n",
       " '🏼': {'min': -0.8693,\n",
       "  'max': 0.9505,\n",
       "  'mean': 0.21678333333333333,\n",
       "  'std': 0.6759628722956773,\n",
       "  'nums': 6},\n",
       " '♀': {'min': -0.9601,\n",
       "  'max': 0.7672,\n",
       "  'mean': 0.10914285714285714,\n",
       "  'std': 0.6844033164675905,\n",
       "  'nums': 7},\n",
       " '🗣': {'min': 0.9542, 'max': 0.9542, 'mean': 0.9542, 'std': 0.0, 'nums': 2},\n",
       " '💬': {'min': 0.9542, 'max': 0.9542, 'mean': 0.9542, 'std': 0.0, 'nums': 2},\n",
       " '⏰': {'min': 0.9542, 'max': 0.9542, 'mean': 0.9542, 'std': 0.0, 'nums': 2},\n",
       " '😃': {'min': -0.2763, 'max': -0.2763, 'mean': -0.2763, 'std': 0.0, 'nums': 2},\n",
       " '😩': {'min': -0.9365,\n",
       "  'max': -0.2763,\n",
       "  'mean': -0.6064,\n",
       "  'std': 0.3301,\n",
       "  'nums': 4},\n",
       " '🤤': {'min': 0.5927, 'max': 0.5927, 'mean': 0.5927, 'std': 0.0, 'nums': 2},\n",
       " '❤': {'min': -0.9956,\n",
       "  'max': 0.8932,\n",
       "  'mean': -0.21226000000000003,\n",
       "  'std': 0.7803265677906911,\n",
       "  'nums': 10},\n",
       " '🤮': {'min': -0.3272, 'max': -0.3272, 'mean': -0.3272, 'std': 0.0, 'nums': 2},\n",
       " '🤢': {'min': -0.3272,\n",
       "  'max': 0.2023,\n",
       "  'mean': -0.15069999999999997,\n",
       "  'std': 0.24960869375885128,\n",
       "  'nums': 3},\n",
       " '🤏': {'min': -0.7184, 'max': -0.7184, 'mean': -0.7184, 'std': 0.0, 'nums': 2},\n",
       " '😐': {'min': -0.9956,\n",
       "  'max': 0.9892,\n",
       "  'mean': -0.11768750000000003,\n",
       "  'std': 0.638466642506678,\n",
       "  'nums': 8},\n",
       " '😬': {'min': -0.3605,\n",
       "  'max': 0.9876,\n",
       "  'mean': 0.11540000000000002,\n",
       "  'std': 0.552274981327237,\n",
       "  'nums': 4},\n",
       " '😫': {'min': -0.9616,\n",
       "  'max': 0.755,\n",
       "  'mean': -0.14551428571428573,\n",
       "  'std': 0.7149290063227486,\n",
       "  'nums': 7},\n",
       " '💀': {'min': -0.9956,\n",
       "  'max': 0.9131,\n",
       "  'mean': -0.29053333333333337,\n",
       "  'std': 0.6796327186225088,\n",
       "  'nums': 6},\n",
       " '☹': {'min': -0.9956,\n",
       "  'max': 0.8156,\n",
       "  'mean': -0.09000000000000002,\n",
       "  'std': 0.9056,\n",
       "  'nums': 4},\n",
       " '🙏': {'min': -0.9515,\n",
       "  'max': 0.7824,\n",
       "  'mean': -0.43179999999999996,\n",
       "  'std': 0.7491813589321538,\n",
       "  'nums': 7},\n",
       " '🥀': {'min': -0.8898, 'max': -0.8898, 'mean': -0.8898, 'std': 0.0, 'nums': 2},\n",
       " '💔': {'min': -0.9456,\n",
       "  'max': -0.4659,\n",
       "  'mean': -0.72555,\n",
       "  'std': 0.1883287086452833,\n",
       "  'nums': 8},\n",
       " '✊': {'min': -0.0799, 'max': -0.0799, 'mean': -0.0799, 'std': 0.0, 'nums': 2},\n",
       " '🤠': {'min': -0.9398, 'max': -0.9398, 'mean': -0.9398, 'std': 0.0, 'nums': 2},\n",
       " '👍': {'min': 0.0163, 'max': 0.0163, 'mean': 0.0163, 'std': 0.0, 'nums': 2},\n",
       " '✋': {'min': 0.7199, 'max': 0.7199, 'mean': 0.7199, 'std': 0.0, 'nums': 2},\n",
       " '💩': {'min': -0.8386,\n",
       "  'max': -0.3893,\n",
       "  'mean': -0.501625,\n",
       "  'std': 0.19455260696017418,\n",
       "  'nums': 4},\n",
       " '😓': {'min': 0.0652, 'max': 0.0652, 'mean': 0.0652, 'std': 0.0, 'nums': 2},\n",
       " '😻': {'min': -0.1022, 'max': -0.1022, 'mean': -0.1022, 'std': 0.0, 'nums': 2},\n",
       " '🎉': {'min': 0.9876, 'max': 0.9876, 'mean': 0.9876, 'std': 0.0, 'nums': 3},\n",
       " '😝': {'min': 0.9876, 'max': 0.9876, 'mean': 0.9876, 'std': 0.0, 'nums': 2},\n",
       " '🫤': {'min': 0.8068, 'max': 0.8068, 'mean': 0.8068, 'std': 0.0, 'nums': 2},\n",
       " '🏻': {'min': 0.9765, 'max': 0.9765, 'mean': 0.9765, 'std': 0.0, 'nums': 2},\n",
       " '🙃': {'min': -0.7452, 'max': -0.7452, 'mean': -0.7452, 'std': 0.0, 'nums': 2},\n",
       " '😰': {'min': 0.7514, 'max': 0.7514, 'mean': 0.7514, 'std': 0.0, 'nums': 2},\n",
       " '🖤': {'min': 0.8394, 'max': 0.8394, 'mean': 0.8394, 'std': 0.0, 'nums': 2},\n",
       " '💝': {'min': 0.9971, 'max': 0.9971, 'mean': 0.9971, 'std': 0.0, 'nums': 2},\n",
       " '🤦': {'min': -0.9601,\n",
       "  'max': 0.7672,\n",
       "  'mean': -0.31495999999999996,\n",
       "  'std': 0.7284214044081901,\n",
       "  'nums': 5},\n",
       " '🚫': {'min': 0.9897, 'max': 0.9897, 'mean': 0.9897, 'std': 0.0, 'nums': 2},\n",
       " '⚠': {'min': 0.9897, 'max': 0.9897, 'mean': 0.9897, 'std': 0.0, 'nums': 2},\n",
       " '✅': {'min': 0.9897, 'max': 0.9897, 'mean': 0.9897, 'std': 0.0, 'nums': 2},\n",
       " '📚': {'min': 0.9897, 'max': 0.9897, 'mean': 0.9897, 'std': 0.0, 'nums': 2},\n",
       " '🧠': {'min': 0.9897, 'max': 0.9897, 'mean': 0.9897, 'std': 0.0, 'nums': 2},\n",
       " '🔄': {'min': 0.9897, 'max': 0.9897, 'mean': 0.9897, 'std': 0.0, 'nums': 2},\n",
       " '📘': {'min': 0.9897, 'max': 0.9897, 'mean': 0.9897, 'std': 0.0, 'nums': 2},\n",
       " '🌀': {'min': 0.9897, 'max': 0.9897, 'mean': 0.9897, 'std': 0.0, 'nums': 2},\n",
       " '🎧': {'min': 0.9897, 'max': 0.9897, 'mean': 0.9897, 'std': 0.0, 'nums': 2},\n",
       " '📄': {'min': 0.9897, 'max': 0.9897, 'mean': 0.9897, 'std': 0.0, 'nums': 2},\n",
       " '💚': {'min': 0.9897, 'max': 0.9897, 'mean': 0.9897, 'std': 0.0, 'nums': 2},\n",
       " '🥳': {'min': 0.94, 'max': 0.94, 'mean': 0.94, 'std': 0.0, 'nums': 2},\n",
       " '🙍': {'min': 0.0823, 'max': 0.0823, 'mean': 0.0823, 'std': 0.0, 'nums': 2},\n",
       " '🏽': {'min': -0.9601,\n",
       "  'max': 0.7672,\n",
       "  'mean': -0.007074999999999998,\n",
       "  'std': 0.6171981463638724,\n",
       "  'nums': 4},\n",
       " '👁': {'min': 0.0, 'max': 0.0, 'mean': 0.0, 'std': 0.0, 'nums': 3},\n",
       " '👄': {'min': 0.0, 'max': 0.0, 'mean': 0.0, 'std': 0.0, 'nums': 2},\n",
       " '🤍': {'min': -0.8329,\n",
       "  'max': 0.9819,\n",
       "  'mean': 0.07450000000000001,\n",
       "  'std': 0.9074,\n",
       "  'nums': 4},\n",
       " '😊': {'min': -0.8329, 'max': -0.8329, 'mean': -0.8329, 'std': 0.0, 'nums': 2},\n",
       " '🩷': {'min': -0.6428, 'max': -0.6428, 'mean': -0.6428, 'std': 0.0, 'nums': 2},\n",
       " '🤩': {'min': -0.7119, 'max': -0.7119, 'mean': -0.7119, 'std': 0.0, 'nums': 2},\n",
       " '🫢': {'min': -0.743, 'max': -0.743, 'mean': -0.743, 'std': 0.0, 'nums': 3},\n",
       " '🫣': {'min': -0.743, 'max': -0.743, 'mean': -0.743, 'std': 0.0, 'nums': 2},\n",
       " '😀': {'min': 0.8674, 'max': 0.8674, 'mean': 0.8674, 'std': 0.0, 'nums': 2},\n",
       " '😷': {'min': -0.9558, 'max': -0.9558, 'mean': -0.9558, 'std': 0.0, 'nums': 2},\n",
       " '🦋': {'min': -0.5244, 'max': -0.5244, 'mean': -0.5244, 'std': 0.0, 'nums': 2},\n",
       " '💘': {'min': -0.5244, 'max': -0.5244, 'mean': -0.5244, 'std': 0.0, 'nums': 2},\n",
       " '💜': {'min': -0.5244, 'max': -0.5244, 'mean': -0.5244, 'std': 0.0, 'nums': 2},\n",
       " '🙄': {'min': -0.8116, 'max': -0.8116, 'mean': -0.8116, 'std': 0.0, 'nums': 2},\n",
       " '😆': {'min': -0.9867, 'max': -0.9867, 'mean': -0.9867, 'std': 0.0, 'nums': 2}}"
      ]
     },
     "execution_count": 13,
     "metadata": {},
     "output_type": "execute_result"
    }
   ],
   "source": [
    "emoji_dict"
   ]
  },
  {
   "cell_type": "code",
   "execution_count": 14,
   "id": "7b0f9d38",
   "metadata": {},
   "outputs": [
    {
     "data": {
      "text/html": [
       "<div>\n",
       "<style scoped>\n",
       "    .dataframe tbody tr th:only-of-type {\n",
       "        vertical-align: middle;\n",
       "    }\n",
       "\n",
       "    .dataframe tbody tr th {\n",
       "        vertical-align: top;\n",
       "    }\n",
       "\n",
       "    .dataframe thead th {\n",
       "        text-align: right;\n",
       "    }\n",
       "</style>\n",
       "<table border=\"1\" class=\"dataframe\">\n",
       "  <thead>\n",
       "    <tr style=\"text-align: right;\">\n",
       "      <th></th>\n",
       "      <th>min</th>\n",
       "      <th>max</th>\n",
       "      <th>mean</th>\n",
       "      <th>std</th>\n",
       "      <th>nums</th>\n",
       "    </tr>\n",
       "  </thead>\n",
       "  <tbody>\n",
       "    <tr>\n",
       "      <th>😭</th>\n",
       "      <td>-0.9954</td>\n",
       "      <td>0.9876</td>\n",
       "      <td>-0.444981</td>\n",
       "      <td>0.664632</td>\n",
       "      <td>91</td>\n",
       "    </tr>\n",
       "    <tr>\n",
       "      <th>😣</th>\n",
       "      <td>-0.9616</td>\n",
       "      <td>-0.6240</td>\n",
       "      <td>-0.759800</td>\n",
       "      <td>0.139752</td>\n",
       "      <td>6</td>\n",
       "    </tr>\n",
       "    <tr>\n",
       "      <th>😔</th>\n",
       "      <td>-0.9246</td>\n",
       "      <td>-0.0799</td>\n",
       "      <td>-0.593600</td>\n",
       "      <td>0.322767</td>\n",
       "      <td>8</td>\n",
       "    </tr>\n",
       "    <tr>\n",
       "      <th>😳</th>\n",
       "      <td>-0.8317</td>\n",
       "      <td>-0.8317</td>\n",
       "      <td>-0.831700</td>\n",
       "      <td>0.000000</td>\n",
       "      <td>2</td>\n",
       "    </tr>\n",
       "    <tr>\n",
       "      <th>🥹</th>\n",
       "      <td>-0.9926</td>\n",
       "      <td>-0.9433</td>\n",
       "      <td>-0.976167</td>\n",
       "      <td>0.023240</td>\n",
       "      <td>3</td>\n",
       "    </tr>\n",
       "  </tbody>\n",
       "</table>\n",
       "</div>"
      ],
      "text/plain": [
       "      min     max      mean       std  nums\n",
       "😭 -0.9954  0.9876 -0.444981  0.664632    91\n",
       "😣 -0.9616 -0.6240 -0.759800  0.139752     6\n",
       "😔 -0.9246 -0.0799 -0.593600  0.322767     8\n",
       "😳 -0.8317 -0.8317 -0.831700  0.000000     2\n",
       "🥹 -0.9926 -0.9433 -0.976167  0.023240     3"
      ]
     },
     "execution_count": 14,
     "metadata": {},
     "output_type": "execute_result"
    }
   ],
   "source": [
    "df_emoji = pd.DataFrame.from_dict(emoji_dict, orient='index')\n",
    "df_emoji.head()"
   ]
  },
  {
   "cell_type": "code",
   "execution_count": 15,
   "id": "42aa21fa",
   "metadata": {},
   "outputs": [],
   "source": [
    "df_emoji.to_excel(emotions_dir / 'emetophobia_noemojis_statistics.xlsx', index=True, index_label='emoji')"
   ]
  }
 ],
 "metadata": {
  "kernelspec": {
   "display_name": "venv",
   "language": "python",
   "name": "python3"
  },
  "language_info": {
   "codemirror_mode": {
    "name": "ipython",
    "version": 3
   },
   "file_extension": ".py",
   "mimetype": "text/x-python",
   "name": "python",
   "nbconvert_exporter": "python",
   "pygments_lexer": "ipython3",
   "version": "3.12.3"
  }
 },
 "nbformat": 4,
 "nbformat_minor": 5
}
