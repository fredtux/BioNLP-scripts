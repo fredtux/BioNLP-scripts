{
 "cells": [
  {
   "cell_type": "code",
   "execution_count": 1,
   "id": "537f15cc",
   "metadata": {},
   "outputs": [
    {
     "name": "stderr",
     "output_type": "stream",
     "text": [
      "2025-06-16 17:50:35.715629: E external/local_xla/xla/stream_executor/cuda/cuda_fft.cc:467] Unable to register cuFFT factory: Attempting to register factory for plugin cuFFT when one has already been registered\n",
      "WARNING: All log messages before absl::InitializeLog() is called are written to STDERR\n",
      "E0000 00:00:1750085435.727458   32654 cuda_dnn.cc:8579] Unable to register cuDNN factory: Attempting to register factory for plugin cuDNN when one has already been registered\n",
      "E0000 00:00:1750085435.730931   32654 cuda_blas.cc:1407] Unable to register cuBLAS factory: Attempting to register factory for plugin cuBLAS when one has already been registered\n",
      "W0000 00:00:1750085435.741074   32654 computation_placer.cc:177] computation placer already registered. Please check linkage and avoid linking the same target more than once.\n",
      "W0000 00:00:1750085435.741091   32654 computation_placer.cc:177] computation placer already registered. Please check linkage and avoid linking the same target more than once.\n",
      "W0000 00:00:1750085435.741093   32654 computation_placer.cc:177] computation placer already registered. Please check linkage and avoid linking the same target more than once.\n",
      "W0000 00:00:1750085435.741094   32654 computation_placer.cc:177] computation placer already registered. Please check linkage and avoid linking the same target more than once.\n",
      "2025-06-16 17:50:35.744915: I tensorflow/core/platform/cpu_feature_guard.cc:210] This TensorFlow binary is optimized to use available CPU instructions in performance-critical operations.\n",
      "To enable the following instructions: AVX2 FMA, in other operations, rebuild TensorFlow with the appropriate compiler flags.\n"
     ]
    }
   ],
   "source": [
    "from tqdm import tqdm\n",
    "import json\n",
    "import pandas as pd\n",
    "from pathlib import Path\n",
    "import numpy as np\n",
    "\n",
    "from bertopic import BERTopic\n",
    "from sentence_transformers import SentenceTransformer"
   ]
  },
  {
   "cell_type": "code",
   "execution_count": 2,
   "id": "a6325f05",
   "metadata": {},
   "outputs": [],
   "source": [
    "split_dir = Path('dataset') / 'biobert_split'"
   ]
  },
  {
   "cell_type": "code",
   "execution_count": 3,
   "id": "b4742d6e",
   "metadata": {},
   "outputs": [
    {
     "data": {
      "text/plain": [
       "(338, 85, 338, 85, 338, 85)"
      ]
     },
     "execution_count": 3,
     "metadata": {},
     "output_type": "execute_result"
    }
   ],
   "source": [
    "X_train = np.load(split_dir / 'X_train.npy')\n",
    "X_train_sent = np.load(split_dir / 'X_train_sent.npy')\n",
    "X_test = np.load(split_dir / 'X_test.npy')\n",
    "X_test_sent = np.load(split_dir / 'X_test_sent.npy')\n",
    "y_train = np.load(split_dir / 'y_train.npy')\n",
    "y_test = np.load(split_dir / 'y_test.npy')\n",
    "\n",
    "len(X_train), len(X_test), len(y_train), len(y_test), len(X_train_sent), len(X_test_sent)"
   ]
  },
  {
   "cell_type": "code",
   "execution_count": 4,
   "id": "4635582c",
   "metadata": {},
   "outputs": [
    {
     "data": {
      "text/plain": [
       "('em ##etophobia flying fly motion over the years husband 7 – 8 hour books 1 hour na husband regressed every day motion fly feel trapped',\n",
       " 'intense emetophobia freaking out close boba tea stomach ache panic tired few hours later went to sleep woke up house ill fine eat stomach rumble almost 1 in the afternoon 30 minutes sick z ##ofran pep sick')"
      ]
     },
     "execution_count": 4,
     "metadata": {},
     "output_type": "execute_result"
    }
   ],
   "source": [
    "X_train = [' '.join([w for w in row if w != '<PAD>']) for row in X_train]\n",
    "X_test = [' '.join([w for w in row if w != '<PAD>']) for row in X_test]\n",
    "\n",
    "X_train[0], X_test[0]"
   ]
  },
  {
   "cell_type": "code",
   "execution_count": 5,
   "id": "f77b2724",
   "metadata": {},
   "outputs": [],
   "source": [
    "# sent_transformer = SentenceTransformer('allenai/scibert_scivocab_uncased')\n",
    "sent_transformer = SentenceTransformer('sentence-transformers/all-MiniLM-L6-v2')"
   ]
  },
  {
   "cell_type": "code",
   "execution_count": 6,
   "id": "b9a435cf",
   "metadata": {},
   "outputs": [
    {
     "data": {
      "text/plain": [
       "(['negative', 'negative', 'negative', 'negative', 'neutral'],\n",
       " ['negative', 'negative', 'neutral', 'negative', 'negative'])"
      ]
     },
     "execution_count": 6,
     "metadata": {},
     "output_type": "execute_result"
    }
   ],
   "source": [
    "X_train_sent_final = []\n",
    "for row in X_train_sent:\n",
    "    row = float(row)\n",
    "    if row > 0.5:\n",
    "        X_train_sent_final.append('positive')\n",
    "    elif row < -0.5:\n",
    "        X_train_sent_final.append('negative')\n",
    "    else:\n",
    "        X_train_sent_final.append('neutral')\n",
    "\n",
    "X_test_sent_final = []\n",
    "for row in X_test_sent:\n",
    "    row = float(row)\n",
    "    if row > 0.5:\n",
    "        X_test_sent_final.append('positive')\n",
    "    elif row < -0.5:\n",
    "        X_test_sent_final.append('negative')\n",
    "    else:\n",
    "        X_test_sent_final.append('neutral')\n",
    "\n",
    "X_train_sent_final[:5], X_test_sent_final[:5]"
   ]
  },
  {
   "cell_type": "code",
   "execution_count": 7,
   "id": "10f63f44",
   "metadata": {},
   "outputs": [
    {
     "name": "stderr",
     "output_type": "stream",
     "text": [
      "100%|██████████| 338/338 [00:00<00:00, 1596480.58it/s]\n",
      "100%|██████████| 85/85 [00:00<00:00, 1310720.00it/s]\n"
     ]
    },
    {
     "data": {
      "text/plain": [
       "(['em ##etophobia flying fly motion over the years husband 7 – 8 hour books 1 hour na husband regressed every day motion fly feel trapped negative',\n",
       "  'woke like 12am last night super throat body ache tu * scared d * stomach throat spray cough drop scared tu have an appetite everything hurts to eat negative',\n",
       "  'anxiety time high anxiety physically upper chest fluttery feeling dia ##ragm panic attack heart attack chest left co ##rtisol adrenaline chest road trip 3 hours to breathe negative',\n",
       "  'mom cart grandma healthy wednesday mind spiraling thoughts mom it kids nuts 2 yr old tu ##mmy hurt for a second anxiety negative',\n",
       "  'it 3 bc brain painkillers left early weird fuzzy feeling cheeks bc scared ##ious spoiler 5 mins later gag it neutral'],\n",
       " ['intense emetophobia freaking out close boba tea stomach ache panic tired few hours later went to sleep woke up house ill fine eat stomach rumble almost 1 in the afternoon 30 minutes sick z ##ofran pep sick negative',\n",
       "  'of stupidity ate 3 / 4 popsicles lazy to make a single meal upper abdomen hurts na ##use ate abdomen ##rp can burp rn abdomen puff ##y swollen ’ t know flair sorry negative',\n",
       "  '1pm this afternoon na ##use b 8pm now stomach na ##useous anti nausea med germ calm down neutral',\n",
       "  'pain feeling made post a few days ago ate 5 day wasn ’ t open sealed it spit several times expired saliva okay dark chocolate covered sick v * and weird sick feel okay sick stomach fast morning 9am dad food poisoning warm felt okay mid way super na ##use ##ous almost tu okay sick sick stomach negative',\n",
       "  'shaking woke up at 5am crazy churning stomach super inflated pretty nauseas super sensitive b ##lo ##ated went specialist months ago bali stomach stomach bad self serve frozen yoghurt place stomach full blown panic attack stomach bug self horrible digest ##ion pains inflated by air sick diarrhoea negative'])"
      ]
     },
     "execution_count": 7,
     "metadata": {},
     "output_type": "execute_result"
    }
   ],
   "source": [
    "X_train_final = []\n",
    "for i in tqdm(range(len(X_train))):\n",
    "    X_train_final.append(X_train[i] + ' ' + X_train_sent_final[i])\n",
    "\n",
    "X_test_final = []\n",
    "for i in tqdm(range(len(X_test))):\n",
    "    X_test_final.append(X_test[i] + ' ' + X_test_sent_final[i])\n",
    "\n",
    "X_train_final[:5], X_test_final[:5]"
   ]
  },
  {
   "cell_type": "code",
   "execution_count": 8,
   "id": "166c0a67",
   "metadata": {},
   "outputs": [],
   "source": [
    "n_clusters = len(['Question', 'Needing support - Panic attack', 'Rant', 'Potentially Triggering', 'Does Anyone Else...?', 'Needing support: Just not feeling good'])"
   ]
  },
  {
   "cell_type": "code",
   "execution_count": 9,
   "id": "1c96baef",
   "metadata": {},
   "outputs": [
    {
     "name": "stderr",
     "output_type": "stream",
     "text": [
      "2025-06-16 17:50:43,681 - BERTopic - Embedding - Transforming documents to embeddings.\n"
     ]
    },
    {
     "data": {
      "application/vnd.jupyter.widget-view+json": {
       "model_id": "086f54ecf1194409ae55a9f5c596ed40",
       "version_major": 2,
       "version_minor": 0
      },
      "text/plain": [
       "Batches:   0%|          | 0/11 [00:00<?, ?it/s]"
      ]
     },
     "metadata": {},
     "output_type": "display_data"
    },
    {
     "name": "stderr",
     "output_type": "stream",
     "text": [
      "2025-06-16 17:50:44,008 - BERTopic - Embedding - Completed ✓\n",
      "2025-06-16 17:50:44,008 - BERTopic - Dimensionality - Fitting the dimensionality reduction algorithm\n",
      "2025-06-16 17:50:51,223 - BERTopic - Dimensionality - Completed ✓\n",
      "2025-06-16 17:50:51,224 - BERTopic - Cluster - Start clustering the reduced embeddings\n",
      "2025-06-16 17:50:51,255 - BERTopic - Cluster - Completed ✓\n",
      "2025-06-16 17:50:51,256 - BERTopic - Representation - Extracting topics using c-TF-IDF for topic reduction.\n",
      "2025-06-16 17:50:51,295 - BERTopic - Representation - Completed ✓\n",
      "2025-06-16 17:50:51,296 - BERTopic - Topic reduction - Reducing number of topics\n",
      "2025-06-16 17:50:51,299 - BERTopic - Representation - Fine-tuning topics using representation models.\n",
      "2025-06-16 17:50:51,320 - BERTopic - Representation - Completed ✓\n",
      "2025-06-16 17:50:51,321 - BERTopic - Topic reduction - Reduced number of topics from 45 to 6\n"
     ]
    }
   ],
   "source": [
    "topic_model = BERTopic(verbose=True, n_gram_range=(1, 2), min_topic_size=2, nr_topics=n_clusters, embedding_model=sent_transformer, calculate_probabilities=True)\n",
    "topics, probs = topic_model.fit_transform(X_train_final)\n",
    "\n"
   ]
  },
  {
   "cell_type": "code",
   "execution_count": 10,
   "id": "0db9d368",
   "metadata": {},
   "outputs": [
    {
     "data": {
      "text/plain": [
       "array([-1,  0,  1,  2,  3,  4])"
      ]
     },
     "execution_count": 10,
     "metadata": {},
     "output_type": "execute_result"
    }
   ],
   "source": [
    "np.unique(topics)"
   ]
  },
  {
   "cell_type": "code",
   "execution_count": 11,
   "id": "5ba75051",
   "metadata": {},
   "outputs": [
    {
     "data": {
      "application/vnd.jupyter.widget-view+json": {
       "model_id": "553eb3493cbd4bb1ab7d107e5d65eec0",
       "version_major": 2,
       "version_minor": 0
      },
      "text/plain": [
       "Batches:   0%|          | 0/9 [00:00<?, ?it/s]"
      ]
     },
     "metadata": {},
     "output_type": "display_data"
    },
    {
     "name": "stdout",
     "output_type": "stream",
     "text": [
      "Silhouette Score: 0.038360416889190674\n"
     ]
    }
   ],
   "source": [
    "from sklearn.metrics import silhouette_score\n",
    "\n",
    "mask = np.array(topics) != -1 \n",
    "topics_masked = np.array(topics)[mask]\n",
    "X_train_final_masked = np.array(X_train_final)[mask]\n",
    "\n",
    "embeddings = topic_model.embedding_model.embedding_model.encode(X_train_final_masked, show_progress_bar=True, convert_to_numpy=True)\n",
    "silhouette = silhouette_score(embeddings, topics_masked)\n",
    "print(f'Silhouette Score: {silhouette}')"
   ]
  }
 ],
 "metadata": {
  "kernelspec": {
   "display_name": "venv",
   "language": "python",
   "name": "python3"
  },
  "language_info": {
   "codemirror_mode": {
    "name": "ipython",
    "version": 3
   },
   "file_extension": ".py",
   "mimetype": "text/x-python",
   "name": "python",
   "nbconvert_exporter": "python",
   "pygments_lexer": "ipython3",
   "version": "3.12.3"
  }
 },
 "nbformat": 4,
 "nbformat_minor": 5
}
