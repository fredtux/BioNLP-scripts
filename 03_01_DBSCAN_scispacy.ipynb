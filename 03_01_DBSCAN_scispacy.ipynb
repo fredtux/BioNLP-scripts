{
 "cells": [
  {
   "cell_type": "code",
   "execution_count": 11,
   "id": "537f15cc",
   "metadata": {},
   "outputs": [],
   "source": [
    "from tqdm import tqdm\n",
    "import json\n",
    "import pandas as pd\n",
    "from pathlib import Path\n",
    "import numpy as np\n",
    "\n",
    "from sklearn.cluster import KMeans\n",
    "from gensim.models import Word2Vec"
   ]
  },
  {
   "cell_type": "code",
   "execution_count": 12,
   "id": "a6325f05",
   "metadata": {},
   "outputs": [],
   "source": [
    "split_dir = Path('dataset') / 'scispacy_split'"
   ]
  },
  {
   "cell_type": "code",
   "execution_count": 13,
   "id": "b4742d6e",
   "metadata": {},
   "outputs": [
    {
     "data": {
      "text/plain": [
       "(400, 101, 400, 101, 400, 101)"
      ]
     },
     "execution_count": 13,
     "metadata": {},
     "output_type": "execute_result"
    }
   ],
   "source": [
    "X_train = np.load(split_dir / 'X_train.npy')\n",
    "X_train_sent = np.load(split_dir / 'X_train_sent.npy')\n",
    "X_test = np.load(split_dir / 'X_test.npy')\n",
    "X_test_sent = np.load(split_dir / 'X_test_sent.npy')\n",
    "y_train = np.load(split_dir / 'y_train.npy')\n",
    "y_test = np.load(split_dir / 'y_test.npy')\n",
    "\n",
    "len(X_train), len(X_test), len(y_train), len(y_test), len(X_train_sent), len(X_test_sent)"
   ]
  },
  {
   "cell_type": "code",
   "execution_count": 14,
   "id": "4635582c",
   "metadata": {},
   "outputs": [
    {
     "data": {
      "text/plain": [
       "('I mildly no choice car windy trip weekend opinion carsickness Meclizine <PAD> <PAD> <PAD> <PAD> <PAD> <PAD> <PAD> <PAD> <PAD> <PAD> <PAD> <PAD> <PAD> <PAD> <PAD> <PAD> <PAD> <PAD> <PAD> <PAD> <PAD> <PAD> <PAD> <PAD> <PAD> <PAD> <PAD> <PAD> <PAD> <PAD> <PAD> <PAD> <PAD> <PAD> <PAD> <PAD> <PAD> <PAD> <PAD> <PAD> <PAD> <PAD> <PAD> <PAD> <PAD> <PAD> <PAD> <PAD> <PAD> <PAD> <PAD> <PAD> <PAD> <PAD> <PAD> <PAD> <PAD> <PAD> <PAD> <PAD> <PAD> <PAD> <PAD> <PAD> <PAD> <PAD> <PAD> <PAD> <PAD> <PAD> <PAD> <PAD> <PAD> <PAD> <PAD> <PAD> <PAD> <PAD> <PAD> <PAD> <PAD> <PAD> <PAD> <PAD> <PAD> <PAD> <PAD> <PAD> <PAD> <PAD> <PAD> <PAD> <PAD> <PAD> <PAD> <PAD> <PAD> <PAD> <PAD> <PAD> <PAD> <PAD> <PAD> <PAD> <PAD> <PAD> <PAD> <PAD> <PAD> <PAD> <PAD> <PAD> <PAD> <PAD> <PAD> <PAD> <PAD> <PAD>',\n",
       " 'I sleeping days stomach’s burning pretzels I hungry acid reflux throat drink water I throat I panic <PAD> <PAD> <PAD> <PAD> <PAD> <PAD> <PAD> <PAD> <PAD> <PAD> <PAD> <PAD> <PAD> <PAD> <PAD> <PAD> <PAD> <PAD> <PAD> <PAD> <PAD> <PAD> <PAD> <PAD> <PAD> <PAD> <PAD> <PAD> <PAD> <PAD> <PAD> <PAD> <PAD> <PAD> <PAD> <PAD> <PAD> <PAD> <PAD> <PAD> <PAD> <PAD> <PAD> <PAD> <PAD> <PAD> <PAD> <PAD> <PAD> <PAD> <PAD> <PAD> <PAD> <PAD> <PAD> <PAD> <PAD> <PAD> <PAD> <PAD> <PAD> <PAD> <PAD> <PAD> <PAD> <PAD> <PAD> <PAD> <PAD> <PAD> <PAD> <PAD> <PAD> <PAD> <PAD> <PAD> <PAD> <PAD> <PAD> <PAD> <PAD> <PAD> <PAD> <PAD> <PAD> <PAD> <PAD> <PAD> <PAD> <PAD> <PAD> <PAD> <PAD> <PAD> <PAD> <PAD> <PAD> <PAD> <PAD> <PAD> <PAD> <PAD> <PAD> <PAD> <PAD> <PAD> <PAD> <PAD> <PAD> <PAD> <PAD> <PAD> <PAD> <PAD>')"
      ]
     },
     "execution_count": 14,
     "metadata": {},
     "output_type": "execute_result"
    }
   ],
   "source": [
    "X_train = [' '.join(row) for row in X_train]\n",
    "X_test = [' '.join(row) for row in X_test]\n",
    "\n",
    "X_train[0], X_test[0]"
   ]
  },
  {
   "cell_type": "code",
   "execution_count": 15,
   "id": "156ef3d7",
   "metadata": {},
   "outputs": [],
   "source": [
    "skipgram_model = Word2Vec(sentences=X_train, vector_size=64, window=4, min_count=1, sg=1, workers=-1)"
   ]
  },
  {
   "cell_type": "code",
   "execution_count": 16,
   "id": "71968b59",
   "metadata": {},
   "outputs": [],
   "source": [
    "train_vec_size = 63"
   ]
  },
  {
   "cell_type": "code",
   "execution_count": 17,
   "id": "66e7de1d",
   "metadata": {},
   "outputs": [
    {
     "name": "stderr",
     "output_type": "stream",
     "text": [
      "100%|██████████| 400/400 [00:00<00:00, 6507.36it/s]\n",
      "100%|██████████| 101/101 [00:00<00:00, 6207.50it/s]\n"
     ]
    },
    {
     "data": {
      "text/plain": [
       "(400, 101, 400, 101)"
      ]
     },
     "execution_count": 17,
     "metadata": {},
     "output_type": "execute_result"
    }
   ],
   "source": [
    "X_train_final = []\n",
    "X_test_final = []\n",
    "\n",
    "for i in tqdm(range(len(X_train))):\n",
    "    text = X_train[i]\n",
    "    sentiment = X_train_sent[i]\n",
    "\n",
    "    tokens = text.split()\n",
    "    vectors = [skipgram_model.wv[token] for token in tokens if token in skipgram_model.wv]\n",
    "\n",
    "    if len(vectors) > train_vec_size:\n",
    "        vectors = vectors[:train_vec_size]\n",
    "    elif len(vectors) < train_vec_size:\n",
    "        vectors += [np.zeros(64)] * (train_vec_size - len(vectors))\n",
    "\n",
    "    combined_vector = np.concatenate((np.mean(vectors, axis=0), np.array([sentiment])))\n",
    "\n",
    "    X_train_final.append(combined_vector)\n",
    "\n",
    "for i in tqdm(range(len(X_test))):\n",
    "    text = X_test[i]\n",
    "    sentiment = X_test_sent[i]\n",
    "\n",
    "    tokens = text.split()\n",
    "    vectors = [skipgram_model.wv[token] for token in tokens if token in skipgram_model.wv]\n",
    "\n",
    "    if len(vectors) > train_vec_size:\n",
    "        vectors = vectors[:train_vec_size]\n",
    "    elif len(vectors) < train_vec_size:\n",
    "        vectors += [np.zeros(64)] * (train_vec_size - len(vectors))\n",
    "\n",
    "    combined_vector = np.concatenate((np.mean(vectors, axis=0), np.array([sentiment])))\n",
    "\n",
    "    X_test_final.append(combined_vector)\n",
    "\n",
    "X_train_final = np.array(X_train_final)\n",
    "X_train_final = X_train_final.astype(np.float64)\n",
    "X_test_final = np.array(X_test_final)\n",
    "X_test_final = X_test_final.astype(np.float64)\n",
    "\n",
    "len(X_train_final), len(X_test_final), len(y_train), len(y_test)\n",
    "    "
   ]
  },
  {
   "cell_type": "code",
   "execution_count": 18,
   "id": "caf0445f",
   "metadata": {},
   "outputs": [],
   "source": [
    "n_clusters = len(['Question', 'Needing support - Panic attack', 'Rant', 'Potentially Triggering', 'Does Anyone Else...?', 'Needing support: Just not feeling good'])"
   ]
  },
  {
   "cell_type": "code",
   "execution_count": 19,
   "id": "9dff8b32",
   "metadata": {},
   "outputs": [
    {
     "name": "stdout",
     "output_type": "stream",
     "text": [
      "Initialization complete\n",
      "Iteration 0, inertia 3.1182375028348317.\n",
      "Iteration 1, inertia 2.515953801631749.\n",
      "Iteration 2, inertia 2.401292254780998.\n",
      "Iteration 3, inertia 2.3493745394486156.\n",
      "Iteration 4, inertia 2.3192778977748323.\n",
      "Iteration 5, inertia 2.3079034100568427.\n",
      "Iteration 6, inertia 2.289012988286173.\n",
      "Iteration 7, inertia 2.2852574958550007.\n",
      "Converged at iteration 7: strict convergence.\n",
      "Initialization complete\n",
      "Iteration 0, inertia 3.0587812727936026.\n",
      "Iteration 1, inertia 2.6742390171720256.\n",
      "Iteration 2, inertia 2.5616377033410007.\n",
      "Iteration 3, inertia 2.4966999687642666.\n",
      "Iteration 4, inertia 2.4514931813296896.\n",
      "Iteration 5, inertia 2.406733256802481.\n",
      "Iteration 6, inertia 2.3449043981141817.\n",
      "Iteration 7, inertia 2.310661931471672.\n",
      "Iteration 8, inertia 2.2931318326993324.\n",
      "Iteration 9, inertia 2.2854704716962226.\n",
      "Iteration 10, inertia 2.2852574958550007.\n",
      "Converged at iteration 10: strict convergence.\n",
      "Initialization complete\n",
      "Iteration 0, inertia 2.6749994906137156.\n",
      "Iteration 1, inertia 2.5681864585821446.\n",
      "Iteration 2, inertia 2.555735147166614.\n",
      "Iteration 3, inertia 2.5247433056054556.\n",
      "Iteration 4, inertia 2.4638709665863194.\n",
      "Iteration 5, inertia 2.433338310276288.\n",
      "Iteration 6, inertia 2.4209536131835767.\n",
      "Iteration 7, inertia 2.4124641367643287.\n",
      "Iteration 8, inertia 2.404785431000936.\n",
      "Iteration 9, inertia 2.3969401410502678.\n",
      "Iteration 10, inertia 2.378809297249367.\n",
      "Iteration 11, inertia 2.372308710671659.\n",
      "Converged at iteration 11: strict convergence.\n",
      "Initialization complete\n",
      "Iteration 0, inertia 3.4585934888920633.\n",
      "Iteration 1, inertia 2.5921421114057854.\n",
      "Iteration 2, inertia 2.4753532063099994.\n",
      "Iteration 3, inertia 2.4332867551827353.\n",
      "Iteration 4, inertia 2.4113278038665924.\n",
      "Iteration 5, inertia 2.3929560360683153.\n",
      "Iteration 6, inertia 2.3771607278529823.\n",
      "Iteration 7, inertia 2.373479464307192.\n",
      "Iteration 8, inertia 2.3731237439332555.\n",
      "Converged at iteration 8: strict convergence.\n",
      "Initialization complete\n",
      "Iteration 0, inertia 3.7094462775440653.\n",
      "Iteration 1, inertia 3.224882172765635.\n",
      "Iteration 2, inertia 2.8473652692376463.\n",
      "Iteration 3, inertia 2.6359683649307715.\n",
      "Iteration 4, inertia 2.4866927299949104.\n",
      "Iteration 5, inertia 2.410278715910606.\n",
      "Iteration 6, inertia 2.345282779823214.\n",
      "Iteration 7, inertia 2.3039293754358243.\n",
      "Iteration 8, inertia 2.2882356896994986.\n",
      "Iteration 9, inertia 2.2841168452863387.\n",
      "Iteration 10, inertia 2.283903869445117.\n",
      "Converged at iteration 10: strict convergence.\n",
      "Initialization complete\n",
      "Iteration 0, inertia 3.3056055821403185.\n",
      "Iteration 1, inertia 2.465087445920474.\n",
      "Iteration 2, inertia 2.3780557303666123.\n",
      "Iteration 3, inertia 2.3397721448056337.\n",
      "Iteration 4, inertia 2.3172539529763294.\n",
      "Iteration 5, inertia 2.305465185168956.\n",
      "Iteration 6, inertia 2.288800012444951.\n",
      "Iteration 7, inertia 2.285257495855001.\n",
      "Converged at iteration 7: strict convergence.\n",
      "Initialization complete\n",
      "Iteration 0, inertia 2.900464343953363.\n",
      "Iteration 1, inertia 2.3608658939943563.\n",
      "Iteration 2, inertia 2.3023221261942215.\n",
      "Iteration 3, inertia 2.288912609486879.\n",
      "Iteration 4, inertia 2.278124523991683.\n",
      "Iteration 5, inertia 2.2720067866597224.\n",
      "Converged at iteration 5: strict convergence.\n",
      "Initialization complete\n",
      "Iteration 0, inertia 4.429896590909703.\n",
      "Iteration 1, inertia 2.8850604251893848.\n",
      "Iteration 2, inertia 2.468840854749871.\n",
      "Iteration 3, inertia 2.3424304588560108.\n",
      "Iteration 4, inertia 2.334699740059518.\n",
      "Iteration 5, inertia 2.3289059159140457.\n",
      "Iteration 6, inertia 2.319835805351348.\n",
      "Iteration 7, inertia 2.3048388365952395.\n",
      "Iteration 8, inertia 2.2870635233816743.\n",
      "Iteration 9, inertia 2.281722547686204.\n",
      "Iteration 10, inertia 2.2812891523390935.\n",
      "Iteration 11, inertia 2.280400823723141.\n",
      "Iteration 12, inertia 2.2770393162557143.\n",
      "Iteration 13, inertia 2.276587812091479.\n",
      "Iteration 14, inertia 2.27448563197792.\n",
      "Iteration 15, inertia 2.27388663868978.\n",
      "Iteration 16, inertia 2.27361918235073.\n",
      "Iteration 17, inertia 2.2733604130696063.\n",
      "Converged at iteration 17: strict convergence.\n",
      "Initialization complete\n",
      "Iteration 0, inertia 3.2161013277963124.\n",
      "Iteration 1, inertia 2.6588509097247446.\n",
      "Iteration 2, inertia 2.5307188455798673.\n",
      "Iteration 3, inertia 2.4544206047807955.\n",
      "Iteration 4, inertia 2.384492361473936.\n",
      "Iteration 5, inertia 2.3286715353030725.\n",
      "Iteration 6, inertia 2.299105859348212.\n",
      "Iteration 7, inertia 2.288235689699499.\n",
      "Iteration 8, inertia 2.2841168452863387.\n",
      "Iteration 9, inertia 2.283903869445117.\n",
      "Converged at iteration 9: strict convergence.\n",
      "Initialization complete\n",
      "Iteration 0, inertia 2.9902498796829198.\n",
      "Iteration 1, inertia 2.3140070562739847.\n",
      "Iteration 2, inertia 2.295357624583649.\n",
      "Iteration 3, inertia 2.2848316689290438.\n",
      "Iteration 4, inertia 2.280400823723141.\n",
      "Iteration 5, inertia 2.2770393162557143.\n",
      "Iteration 6, inertia 2.276587812091479.\n",
      "Iteration 7, inertia 2.27448563197792.\n",
      "Iteration 8, inertia 2.27388663868978.\n",
      "Iteration 9, inertia 2.27361918235073.\n",
      "Iteration 10, inertia 2.2733604130696063.\n",
      "Converged at iteration 10: strict convergence.\n"
     ]
    }
   ],
   "source": [
    "kmeans = KMeans(n_clusters=n_clusters, random_state=42, n_init=10, max_iter=300, verbose=1)\n",
    "\n",
    "y_train_pred = kmeans.fit_predict(X_train_final)"
   ]
  },
  {
   "cell_type": "code",
   "execution_count": 20,
   "id": "ddc89f56",
   "metadata": {},
   "outputs": [
    {
     "name": "stdout",
     "output_type": "stream",
     "text": [
      "Silhouette score for training set: 0.644107968693191\n"
     ]
    }
   ],
   "source": [
    "from sklearn.metrics import silhouette_score\n",
    "silhouette_train = silhouette_score(X_train_final, y_train_pred)\n",
    "print(f'Silhouette score for training set: {silhouette_train}')"
   ]
  }
 ],
 "metadata": {
  "kernelspec": {
   "display_name": "venv",
   "language": "python",
   "name": "python3"
  },
  "language_info": {
   "codemirror_mode": {
    "name": "ipython",
    "version": 3
   },
   "file_extension": ".py",
   "mimetype": "text/x-python",
   "name": "python",
   "nbconvert_exporter": "python",
   "pygments_lexer": "ipython3",
   "version": "3.12.3"
  }
 },
 "nbformat": 4,
 "nbformat_minor": 5
}
